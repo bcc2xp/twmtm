{
 "cells": [
  {
   "cell_type": "code",
   "execution_count": 1,
   "metadata": {
    "collapsed": false
   },
   "outputs": [
    {
     "name": "stdout",
     "output_type": "stream",
     "text": [
      "3年前就讀高雄應用大學二年級的陳顯佳\n",
      "為閃避跨越雙黃線來車\n",
      "撞上路邊\n",
      "摔斷頸椎\n",
      "頸部以下全癱\n",
      "嘴被插管\n",
      "父母每天去看他\n",
      "他都意識清醒\n",
      "眨眼流淚\n",
      "17天後他因頸椎受損抑制呼吸\n",
      "醫師用盡強力針與電擊都無效\n",
      "\n"
     ]
    }
   ],
   "source": [
    "import re\n",
    "delimiter = \"，|。|、|？\"  \n",
    "text = '3年前就讀高雄應用大學二年級的陳顯佳，為閃避跨越雙黃線來車，撞上路邊、摔斷頸椎，頸部以下全癱，嘴被插管，父母每天去看他，他都意識清醒、眨眼流淚，17天後他因頸椎受損抑制呼吸，醫師用盡強力針與電擊都無效，'\n",
    "for i in re.split(delimiter, text):\n",
    "    print i"
   ]
  },
  {
   "cell_type": "code",
   "execution_count": 2,
   "metadata": {
    "collapsed": false
   },
   "outputs": [
    {
     "name": "stdout",
     "output_type": "stream",
     "text": [
      "          周年慶    3歲         \n",
      "    大拍賣\n"
     ]
    }
   ],
   "source": [
    "w = '          周年慶    3歲         \\n    大拍賣'\n",
    "print w"
   ]
  },
  {
   "cell_type": "code",
   "execution_count": 3,
   "metadata": {
    "collapsed": false
   },
   "outputs": [
    {
     "name": "stdout",
     "output_type": "stream",
     "text": [
      "['\\xe5\\x91\\xa8\\xe5\\xb9\\xb4\\xe6\\x85\\xb6', '3\\xe6\\xad\\xb2', '\\xe5\\xa4\\xa7\\xe6\\x8b\\x8d\\xe8\\xb3\\xa3']\n",
      "周年慶\n",
      "3歲\n",
      "大拍賣\n"
     ]
    }
   ],
   "source": [
    "print w.split()\n",
    "for i in w.split():\n",
    "    print i"
   ]
  },
  {
   "cell_type": "code",
   "execution_count": 4,
   "metadata": {
    "collapsed": false
   },
   "outputs": [
    {
     "name": "stdout",
     "output_type": "stream",
     "text": [
      "周年慶|3歲|大拍賣\n"
     ]
    }
   ],
   "source": [
    "print '|'.join(w.split())"
   ]
  },
  {
   "cell_type": "code",
   "execution_count": 5,
   "metadata": {
    "collapsed": false
   },
   "outputs": [
    {
     "name": "stdout",
     "output_type": "stream",
     "text": [
      "['\\xe6\\xb0\\x91\\xe9\\x80\\xb2\\xe9\\xbb\\xa8', '\\xe5\\xb0\\x87\\xe5\\x85\\xac\\xe5\\xb8\\x83']\n",
      "民進黨\n",
      "將公布\n"
     ]
    }
   ],
   "source": [
    "a = '民進黨後天將公布'\n",
    "print a.split('後天')\n",
    "for i in a.split('後天'):\n",
    "    print i\n"
   ]
  },
  {
   "cell_type": "code",
   "execution_count": 6,
   "metadata": {
    "collapsed": false
   },
   "outputs": [
    {
     "name": "stdout",
     "output_type": "stream",
     "text": [
      "民進黨將公布\n"
     ]
    }
   ],
   "source": [
    "print ''.join(a.split('後天'))"
   ]
  },
  {
   "cell_type": "code",
   "execution_count": 7,
   "metadata": {
    "collapsed": true
   },
   "outputs": [],
   "source": [
    "def removeKey(text, keyword):\n",
    "    textAry= text\n",
    "    for key in keyword:\n",
    "        textAry = ''.join(textAry.split(key))\n",
    "    return textAry\n"
   ]
  },
  {
   "cell_type": "code",
   "execution_count": 8,
   "metadata": {
    "collapsed": false
   },
   "outputs": [
    {
     "name": "stdout",
     "output_type": "stream",
     "text": [
      "民進黨將公布\n",
      "將公布\n"
     ]
    }
   ],
   "source": [
    "a = '民進黨後天將公布'\n",
    "print removeKey(a, ['後天'])\n",
    "\n",
    "\n",
    "a = '民進黨後天將公布'\n",
    "print removeKey(a, ['民進黨', '後天'])\n"
   ]
  },
  {
   "cell_type": "code",
   "execution_count": 9,
   "metadata": {
    "collapsed": false
   },
   "outputs": [],
   "source": [
    "def splitSentense(text, delimiter):\n",
    "    return re.split(delimiter, text)"
   ]
  },
  {
   "cell_type": "code",
   "execution_count": 10,
   "metadata": {
    "collapsed": true
   },
   "outputs": [],
   "source": [
    "delimiter = \"，|。|、|（|）|／|《|》|】|【|「|」|；|：|！\".decode('utf-8')  "
   ]
  },
  {
   "cell_type": "code",
   "execution_count": 11,
   "metadata": {
    "collapsed": false
   },
   "outputs": [],
   "source": [
    "import sqlite3\n",
    "db = sqlite3.connect('news2.sqlite') \n",
    "cur = db.cursor()\n",
    "cur.execute('select title, summary from news_entry')\n",
    "allNews = cur.fetchall()\n",
    "sentenceAry = []\n",
    "for rec in allNews:\n",
    "    text = rec[1]\n",
    "    sentenceAry += splitSentense(text,delimiter)\n",
    "cur.close()\n",
    "db.close()"
   ]
  },
  {
   "cell_type": "code",
   "execution_count": 12,
   "metadata": {
    "collapsed": false
   },
   "outputs": [
    {
     "name": "stdout",
     "output_type": "stream",
     "text": [
      "40510\n"
     ]
    }
   ],
   "source": [
    "print len(sentenceAry)"
   ]
  },
  {
   "cell_type": "code",
   "execution_count": 54,
   "metadata": {
    "collapsed": true
   },
   "outputs": [],
   "source": [
    "def ngram(input_sentence, n = 2):\n",
    "    word_dic = {}\n",
    "    sentence  = input_sentence\n",
    "    for i in range(0, len(sentence) - n + 1):        \n",
    "        if sentence[i:i+n] not in word_dic:\n",
    "            word_dic[sentence[i:i+n]] = 1\n",
    "        else:\n",
    "            word_dic[sentence[i:i+n]] = word_dic[sentence[i:i+n]] + 1\n",
    "    return word_dic"
   ]
  },
  {
   "cell_type": "code",
   "execution_count": 55,
   "metadata": {
    "collapsed": false
   },
   "outputs": [],
   "source": [
    "keywords=[]        \n",
    "ret_terms={}\n",
    "words_freq    = []\n",
    "for term_length in range(4,1,-1):\n",
    "    word_dic = {}\n",
    "    for sentence in sentenceAry:\n",
    "        text_list = removeKey(sentence,keywords)        \n",
    "        ngram_words = ngram(text_list,term_length) \n",
    "        for word in ngram_words:\n",
    "            if word not in word_dic:\n",
    "                word_dic[word] = 1\n",
    "            else:\n",
    "                word_dic[word] += ngram_words[word]   \n",
    "    for word in word_dic:\n",
    "        if word_dic[word] >= 5:\n",
    "            keywords.append(word)            \n",
    "            ret_terms.update({word:word_dic[word]})"
   ]
  },
  {
   "cell_type": "code",
   "execution_count": 56,
   "metadata": {
    "collapsed": false
   },
   "outputs": [],
   "source": [
    "import operator\n",
    "sorted_terms = sorted(ret_terms.iteritems(),key=operator.itemgetter(1),reverse=True) "
   ]
  },
  {
   "cell_type": "code",
   "execution_count": 57,
   "metadata": {
    "collapsed": false
   },
   "outputs": [
    {
     "name": "stdout",
     "output_type": "stream",
     "text": [
      "表示 96\n",
      "台北報導 62\n",
      "台灣 58\n",
      "自己 56\n",
      "沒有 55\n",
      "提供 53\n",
      "10 51\n",
      "中國 50\n",
      "報導 50\n",
      "美國 48\n",
      "目前 48\n",
      "11 48\n",
      "問題 47\n",
      "朱立倫 47\n",
      "可以 45\n",
      "認為 44\n",
      "英國 44\n",
      "更新 44\n",
      "蘋果 44\n",
      "對於 44\n",
      "發現 44\n",
      "希望 43\n",
      "今天 43\n",
      "網友 43\n",
      "指出 43\n",
      "中心 42\n",
      "可能 42\n",
      "就是 41\n",
      "民眾 40\n",
      "不過 40\n"
     ]
    }
   ],
   "source": [
    "for term in sorted_terms[0:30]:\n",
    "    print term[0], term[1]"
   ]
  },
  {
   "cell_type": "code",
   "execution_count": 58,
   "metadata": {
    "collapsed": false
   },
   "outputs": [
    {
     "name": "stderr",
     "output_type": "stream",
     "text": [
      "Building prefix dict from C:\\Python27\\lib\\site-packages\\jieba\\dict.txt ...\n",
      "DEBUG:jieba:Building prefix dict from C:\\Python27\\lib\\site-packages\\jieba\\dict.txt ...\n",
      "Loading model from cache c:\\users\\user\\appdata\\local\\temp\\jieba.cache\n",
      "DEBUG:jieba:Loading model from cache c:\\users\\user\\appdata\\local\\temp\\jieba.cache\n",
      "Loading model cost 0.578 seconds.\n",
      "DEBUG:jieba:Loading model cost 0.578 seconds.\n",
      "Prefix dict has been built succesfully.\n",
      "DEBUG:jieba:Prefix dict has been built succesfully.\n"
     ]
    },
    {
     "name": "stdout",
     "output_type": "stream",
     "text": [
      "Full Mode: 大/ 巨蛋/ 案/ 對/ 市府/ 同仁/ 下/ 封口/ 封口令/ 口令/ / / / 柯/ P/ 否/ 認\n"
     ]
    }
   ],
   "source": [
    "import jieba\n",
    "\n",
    "\n",
    "seg_list = jieba.cut(\"大巨蛋案對市府同仁下封口令？　柯P否認\", cut_all=True)\n",
    "print \"Full Mode:\", \"/ \".join(seg_list) "
   ]
  },
  {
   "cell_type": "code",
   "execution_count": 59,
   "metadata": {
    "collapsed": false
   },
   "outputs": [
    {
     "name": "stdout",
     "output_type": "stream",
     "text": [
      "Full Mode: 大/ 巨蛋/ 案/ 對/ 市府/ 同仁/ 下/ 封口/ 封口令/ 口令/ / / / 柯/ P/ 否/ 認\n",
      "Default Mode: 大/ 巨蛋/ 案對/ 市府/ 同仁/ 下/ 封口令/ ？/ 　/ 柯/ P/ 否認\n"
     ]
    }
   ],
   "source": [
    "seg_list = jieba.cut(\"大巨蛋案對市府同仁下封口令？　柯P否認\", cut_all=True)\n",
    "print \"Full Mode:\", \"/ \".join(seg_list) \n",
    "\n",
    "seg_list = jieba.cut(\"大巨蛋案對市府同仁下封口令？　柯P否認\", cut_all=False)\n",
    "print \"Default Mode:\", \"/ \".join(seg_list) \n"
   ]
  },
  {
   "cell_type": "code",
   "execution_count": 60,
   "metadata": {
    "collapsed": false
   },
   "outputs": [
    {
     "name": "stdout",
     "output_type": "stream",
     "text": [
      "大 a\n",
      "巨蛋 n\n",
      "案 ng\n",
      "對 p\n",
      "市府 n\n",
      "同仁 nr\n",
      "下 f\n",
      "封口令 n\n",
      "？ x\n",
      "　x\n",
      "柯 nr\n",
      "P eng\n",
      "否認 v\n"
     ]
    }
   ],
   "source": [
    "import jieba.posseg as pseg\n",
    "words = pseg.cut(\"大巨蛋案對市府同仁下封口令？　柯P否認\")\n",
    "for w in words:\n",
    "    print w.word, w.flag"
   ]
  },
  {
   "cell_type": "code",
   "execution_count": 61,
   "metadata": {
    "collapsed": false
   },
   "outputs": [
    {
     "name": "stdout",
     "output_type": "stream",
     "text": [
      "大/ 巨蛋/ 案對/ 市府/ 同仁/ 下/ 封口令/ ？/ 　/ 柯/ P/ 否認\n"
     ]
    }
   ],
   "source": [
    "sentence = \"大巨蛋案對市府同仁下封口令？　柯P否認\"\n",
    "words = jieba.cut(sentence, cut_all=False)\n",
    "print \"/ \".join(words) \n"
   ]
  },
  {
   "cell_type": "code",
   "execution_count": 62,
   "metadata": {
    "collapsed": true
   },
   "outputs": [],
   "source": [
    "jieba.add_word('柯P',100, 'nr')\n",
    "jieba.add_word('大巨蛋',100, 'ns')\n"
   ]
  },
  {
   "cell_type": "code",
   "execution_count": 63,
   "metadata": {
    "collapsed": false
   },
   "outputs": [
    {
     "name": "stdout",
     "output_type": "stream",
     "text": [
      "大巨蛋/ 案對/ 市府/ 同仁/ 下/ 封口令/ ？/ 　/ 柯P/ 否認\n"
     ]
    }
   ],
   "source": [
    "sentence = \"大巨蛋案對市府同仁下封口令？　柯P否認\"\n",
    "words = jieba.cut(sentence, cut_all=False)\n",
    "print \"/ \".join(words) \n"
   ]
  },
  {
   "cell_type": "code",
   "execution_count": 64,
   "metadata": {
    "collapsed": false
   },
   "outputs": [
    {
     "name": "stdout",
     "output_type": "stream",
     "text": [
      "大巨蛋 0 3\n",
      "案對 3 5\n",
      "市府 5 7\n",
      "同仁 7 9\n",
      "下 9 10\n",
      "封口令 10 13\n",
      "？ 13 14\n",
      "　14 15\n",
      "柯P 15 17\n",
      "否認 17 19\n"
     ]
    }
   ],
   "source": [
    "words = jieba.tokenize(unicode(sentence, 'utf-8'))\n",
    "\n",
    "for tw in words:\n",
    "    print tw[0], tw[1], tw[2]\n"
   ]
  },
  {
   "cell_type": "code",
   "execution_count": 65,
   "metadata": {
    "collapsed": false
   },
   "outputs": [
    {
     "name": "stdout",
     "output_type": "stream",
     "text": [
      "封口令\n",
      "柯P\n"
     ]
    }
   ],
   "source": [
    "import jieba.analyse\n",
    "tags = jieba.analyse.extract_tags(sentence, 1)\n",
    "print \",\".join(tags)\n",
    "tags = jieba.analyse.extract_tags(sentence, 1, allowPOS = ['nr'])\n",
    "print \",\".join(tags)\n"
   ]
  },
  {
   "cell_type": "code",
   "execution_count": 67,
   "metadata": {
    "collapsed": false
   },
   "outputs": [
    {
     "name": "stdout",
     "output_type": "stream",
     "text": [
      "求婚失敗超尷尬\n",
      "求婚\n",
      "失敗\n",
      "超\n",
      "尷尬\n"
     ]
    }
   ],
   "source": [
    "print sentenceAry[0]\n",
    "words = jieba.cut(sentenceAry[0])\n",
    "for ele in words:\n",
    "    print ele"
   ]
  },
  {
   "cell_type": "code",
   "execution_count": 13,
   "metadata": {
    "collapsed": false
   },
   "outputs": [
    {
     "name": "stderr",
     "output_type": "stream",
     "text": [
      "Building prefix dict from C:\\Python27\\lib\\site-packages\\jieba\\dict.txt ...\n",
      "DEBUG:jieba:Building prefix dict from C:\\Python27\\lib\\site-packages\\jieba\\dict.txt ...\n",
      "Loading model from cache c:\\users\\user\\appdata\\local\\temp\\jieba.cache\n",
      "DEBUG:jieba:Loading model from cache c:\\users\\user\\appdata\\local\\temp\\jieba.cache\n",
      "Loading model cost 0.572 seconds.\n",
      "DEBUG:jieba:Loading model cost 0.572 seconds.\n",
      "Prefix dict has been built succesfully.\n",
      "DEBUG:jieba:Prefix dict has been built succesfully.\n"
     ]
    }
   ],
   "source": [
    "import jieba\n",
    "ret_terms = {}\n",
    "for sentence in sentenceAry:\n",
    "    words = jieba.cut(sentence)\n",
    "    for ele in words:\n",
    "        if ele not in ret_terms:\n",
    "            ret_terms[ele] = 1\n",
    "        else:\n",
    "            ret_terms[ele] = ret_terms[ele] + 1\n"
   ]
  },
  {
   "cell_type": "code",
   "execution_count": 14,
   "metadata": {
    "collapsed": false
   },
   "outputs": [],
   "source": [
    "import operator\n",
    "sorted_terms = sorted(ret_terms.iteritems(),key=operator.itemgetter(1),reverse=True) "
   ]
  },
  {
   "cell_type": "code",
   "execution_count": 15,
   "metadata": {
    "collapsed": false
   },
   "outputs": [
    {
     "name": "stdout",
     "output_type": "stream",
     "text": [
      "報導 899\n",
      "表示 596\n",
      "台灣 370\n",
      "蘋果 355\n",
      "台北 355\n",
      "自己 355\n",
      "中心 351\n",
      "10 334\n",
      "綜合 323\n",
      "時間 319\n",
      "可以 259\n",
      "提供 256\n",
      "更新 246\n",
      "網友 237\n",
      "今年 234\n",
      "影片 227\n",
      "新聞 223\n",
      "因為 218\n",
      "可能 213\n",
      "就是 209\n",
      "認為 209\n",
      "指出 208\n",
      "他們 206\n",
      "今天 206\n",
      "我們 205\n",
      "警方 204\n",
      "問題 200\n",
      "發現 198\n",
      "目前 198\n",
      "公司 185\n",
      "美國 184\n",
      "不過 179\n",
      "the 179\n",
      "一個 179\n",
      "中國 171\n",
      "希望 164\n",
      "日本 163\n",
      "總統 159\n",
      "11 158\n",
      "不是 156\n",
      "男子 154\n",
      "工作 153\n",
      "沒有 151\n",
      "國民黨 149\n",
      "美元 148\n",
      "12 148\n",
      "包括 147\n",
      "要求 141\n",
      "萬元 140\n",
      "調查 140\n",
      "未來 139\n",
      "20 138\n",
      "一名 138\n",
      "政府 137\n",
      "還是 136\n",
      "因此 133\n",
      "是否 132\n",
      "朱立倫 131\n",
      "進行 131\n",
      "市場 130\n",
      "已經 129\n",
      "開始 129\n",
      "其他 128\n",
      "台北市 124\n",
      "立委 122\n",
      "照片 121\n",
      "其中 120\n",
      "女子 119\n",
      "造成 117\n",
      "所以 117\n",
      "民眾 116\n",
      "發生 115\n",
      "經濟 115\n",
      "英文 114\n",
      "去年 114\n",
      "什麼 114\n",
      "增加 113\n",
      "活動 113\n",
      "英國 112\n",
      "外電 112\n",
      "使用 111\n",
      "如果 111\n",
      "相關 111\n"
     ]
    }
   ],
   "source": [
    "for term in sorted_terms[0:200]:\n",
    "    if len(term[0]) >=2:\n",
    "        print term[0], term[1]"
   ]
  },
  {
   "cell_type": "code",
   "execution_count": 32,
   "metadata": {
    "collapsed": false
   },
   "outputs": [],
   "source": [
    "import jieba.analyse\n",
    "ret_terms = {}\n",
    "for sentence in sentenceAry:\n",
    "    words = jieba.analyse.extract_tags(sentence)\n",
    "    for ele in words:\n",
    "        if ele not in ret_terms:\n",
    "            ret_terms[ele] = 1\n",
    "        else:\n",
    "            ret_terms[ele] = ret_terms[ele] + 1\n"
   ]
  },
  {
   "cell_type": "code",
   "execution_count": 33,
   "metadata": {
    "collapsed": true
   },
   "outputs": [],
   "source": [
    "import operator\n",
    "sorted_terms = sorted(ret_terms.iteritems(),key=operator.itemgetter(1),reverse=True) "
   ]
  },
  {
   "cell_type": "code",
   "execution_count": 34,
   "metadata": {
    "collapsed": false
   },
   "outputs": [],
   "source": [
    "swd = []\n",
    "for term in sorted_terms[0:100]:\n",
    "    if len(term[0]) >=2:\n",
    "        swd.append((term[0],  term[1]))\n",
    "\n"
   ]
  },
  {
   "cell_type": "code",
   "execution_count": 35,
   "metadata": {
    "collapsed": false
   },
   "outputs": [
    {
     "data": {
      "image/png": "[encoded data removed]",
      "text/plain": [
       "<IPython.core.display.Image object>"
      ]
     },
     "execution_count": 35,
     "metadata": {},
     "output_type": "execute_result"
    }
   ],
   "source": [
    "from pytagcloud import create_tag_image, make_tags\n",
    "from IPython.display import Image\n",
    "tags = make_tags(swd, maxsize=50)\n",
    "create_tag_image(tags, 'wc.png', size=(600,400), fontname='SimHei')\n",
    "Image(filename='wc.png') "
   ]
  },
  {
   "cell_type": "code",
   "execution_count": 38,
   "metadata": {
    "collapsed": false
   },
   "outputs": [],
   "source": [
    "import requests\n",
    "import json\n",
    "res = requests.get('https://graph.facebook.com/v2.5/llchu/posts?access_token=CAACEdEose0cBAJEGzxIxq9aQffPcTtwH2ZC8YKLPJKwKzU2yxGmlZCBbIUwIOy72dplK0h2BHzN8FXiPacH3A2uG0HXWlkW4VbHptFHvJxoaSNFwGLZAvI4H7IL9HDqrZCtWIaZALA8SZALGcWCFyLTfrvbrFtejlTL0a0uvKSQVWnxS5PcvnAfUGIOuwpCZAVvmBex7XHc2AwXpfTw6gEj&debug=all&format=json&limit=100&method=get&pretty=0&suppress_http_code=1')\n",
    "jd = json.loads(res.text)\n",
    "messageary = []\n",
    "for m in jd['data']:\n",
    "    messageary.append(m['message'])"
   ]
  },
  {
   "cell_type": "code",
   "execution_count": 40,
   "metadata": {
    "collapsed": false
   },
   "outputs": [],
   "source": [
    "import jieba\n",
    "ret_terms = {}\n",
    "for message in messageary:\n",
    "    words = jieba.cut(message)\n",
    "    for w in words:\n",
    "        if w not in ret_terms:\n",
    "            ret_terms[w] = 1\n",
    "        else:\n",
    "            ret_terms[w] = ret_terms[w] + 1"
   ]
  },
  {
   "cell_type": "code",
   "execution_count": 41,
   "metadata": {
    "collapsed": true
   },
   "outputs": [],
   "source": [
    "import operator\n",
    "sorted_terms = sorted(ret_terms.iteritems(),key=operator.itemgetter(1),reverse=True) \n",
    "\n",
    "swd = []\n",
    "for term in sorted_terms[0:100]:\n",
    "    if len(term[0]) >=2:\n",
    "        swd.append((term[0],  term[1]))"
   ]
  },
  {
   "cell_type": "code",
   "execution_count": 42,
   "metadata": {
    "collapsed": false
   },
   "outputs": [
    {
     "data": {
      "image/png": "[encoded data removed]",
      "text/plain": [
       "<IPython.core.display.Image object>"
      ]
     },
     "execution_count": 42,
     "metadata": {},
     "output_type": "execute_result"
    }
   ],
   "source": [
    "from pytagcloud import create_tag_image, make_tags\n",
    "from IPython.display import Image\n",
    "tags = make_tags(swd, maxsize=50)\n",
    "create_tag_image(tags, 'wc.png', size=(600,400), fontname='SimHei')\n",
    "Image(filename='wc.png') "
   ]
  },
  {
   "cell_type": "code",
   "execution_count": 45,
   "metadata": {
    "collapsed": false
   },
   "outputs": [],
   "source": [
    "import jieba\n",
    "import jieba.posseg as pseg\n",
    "ret_terms = {}\n",
    "for message in messageary:\n",
    "    words = pseg.cut(message)\n",
    "    for w in words:\n",
    "        if w.flag in ['nr', 'n', 'ng', 'nr','nrfg','nrt','ns','nt','nz']:\n",
    "            if w.word not in ret_terms:\n",
    "                ret_terms[w.word] = 1\n",
    "            else:\n",
    "                ret_terms[w.word] = ret_terms[w.word] + 1"
   ]
  },
  {
   "cell_type": "code",
   "execution_count": 46,
   "metadata": {
    "collapsed": true
   },
   "outputs": [],
   "source": [
    "import operator\n",
    "sorted_terms = sorted(ret_terms.iteritems(),key=operator.itemgetter(1),reverse=True) \n",
    "\n",
    "swd = []\n",
    "for term in sorted_terms[0:100]:\n",
    "    if len(term[0]) >=2:\n",
    "        swd.append((term[0],  term[1]))"
   ]
  },
  {
   "cell_type": "code",
   "execution_count": 47,
   "metadata": {
    "collapsed": false
   },
   "outputs": [
    {
     "data": {
      "image/png": "[encoded data removed]",
      "text/plain": [
       "<IPython.core.display.Image object>"
      ]
     },
     "execution_count": 47,
     "metadata": {},
     "output_type": "execute_result"
    }
   ],
   "source": [
    "from pytagcloud import create_tag_image, make_tags\n",
    "from IPython.display import Image\n",
    "tags = make_tags(swd, maxsize=50)\n",
    "create_tag_image(tags, 'wc.png', size=(600,400), fontname='SimHei')\n",
    "Image(filename='wc.png') "
   ]
  },
  {
   "cell_type": "code",
   "execution_count": 50,
   "metadata": {
    "collapsed": false
   },
   "outputs": [],
   "source": [
    "import requests\n",
    "import json\n",
    "res = requests.get('https://graph.facebook.com/v2.5/tsaiingwen/posts?access_token=CAACEdEose0cBAJEGzxIxq9aQffPcTtwH2ZC8YKLPJKwKzU2yxGmlZCBbIUwIOy72dplK0h2BHzN8FXiPacH3A2uG0HXWlkW4VbHptFHvJxoaSNFwGLZAvI4H7IL9HDqrZCtWIaZALA8SZALGcWCFyLTfrvbrFtejlTL0a0uvKSQVWnxS5PcvnAfUGIOuwpCZAVvmBex7XHc2AwXpfTw6gEj&debug=all&format=json&limit=100&method=get&pretty=0&suppress_http_code=1')\n",
    "jd = json.loads(res.text)\n",
    "messageary = []\n",
    "for m in jd['data']:\n",
    "    if 'message' in m:\n",
    "        messageary.append(m['message'])"
   ]
  },
  {
   "cell_type": "code",
   "execution_count": 51,
   "metadata": {
    "collapsed": true
   },
   "outputs": [],
   "source": [
    "import jieba\n",
    "import jieba.posseg as pseg\n",
    "ret_terms = {}\n",
    "for message in messageary:\n",
    "    words = pseg.cut(message)\n",
    "    for w in words:\n",
    "        if w.flag in ['nr', 'n', 'ng', 'nr','nrfg','nrt','ns','nt','nz']:\n",
    "            if w.word not in ret_terms:\n",
    "                ret_terms[w.word] = 1\n",
    "            else:\n",
    "                ret_terms[w.word] = ret_terms[w.word] + 1"
   ]
  },
  {
   "cell_type": "code",
   "execution_count": 52,
   "metadata": {
    "collapsed": true
   },
   "outputs": [],
   "source": [
    "import operator\n",
    "sorted_terms = sorted(ret_terms.iteritems(),key=operator.itemgetter(1),reverse=True) \n",
    "\n",
    "swd = []\n",
    "for term in sorted_terms[0:100]:\n",
    "    if len(term[0]) >=2:\n",
    "        swd.append((term[0],  term[1]))"
   ]
  },
  {
   "cell_type": "code",
   "execution_count": 54,
   "metadata": {
    "collapsed": false
   },
   "outputs": [
    {
     "data": {
      "image/png": "[encoded data removed]",
      "text/plain": [
       "<IPython.core.display.Image object>"
      ]
     },
     "execution_count": 54,
     "metadata": {},
     "output_type": "execute_result"
    }
   ],
   "source": [
    "from pytagcloud import create_tag_image, make_tags\n",
    "from IPython.display import Image\n",
    "tags = make_tags(swd, maxsize=120)\n",
    "create_tag_image(tags, 'wc.png', size=(600,400), fontname='SimHei')\n",
    "Image(filename='wc.png') "
   ]
  },
  {
   "cell_type": "code",
   "execution_count": 65,
   "metadata": {
    "collapsed": false
   },
   "outputs": [
    {
     "data": {
      "text/html": [
       "\n",
       "  <head>\n",
       "    <title>Word Cloud</title>\n",
       "    <script src=\"tagcanvas.min.js\" type=\"text/javascript\"></script>\n",
       "  </head>\n",
       "  <body>\n",
       "    <h1>Word Cloud</h1>\n",
       "    <div id=\"myCanvasContainer\">\n",
       "      <canvas width=\"300\" height=\"300\" id=\"myCanvas\">\n",
       "        <p>Anything in here will be replaced on browsers that support the canvas element</p>\n",
       "      </canvas>\n",
       "    </div>\n",
       "    <div id=\"tags\"><ul id=\"weightTags\"><li><a href=\"http://www.google.com\" data-weight=\"10\" style=\"font-size: 28ex\">台灣</a></li><li><a href=\"http://www.google.com\" data-weight=\"10\" style=\"font-size: 8ex\">產業</a></li><li><a href=\"http://www.google.com\" data-weight=\"10\" style=\"font-size: 7ex\">人民</a></li><li><a href=\"http://www.google.com\" data-weight=\"10\" style=\"font-size: 6ex\">國家</a></li><li><a href=\"http://www.google.com\" data-weight=\"10\" style=\"font-size: 6ex\">民進黨</a></li><li><a href=\"http://www.google.com\" data-weight=\"10\" style=\"font-size: 6ex\">文化</a></li><li><a href=\"http://www.google.com\" data-weight=\"10\" style=\"font-size: 6ex\">大家</a></li><li><a href=\"http://www.google.com\" data-weight=\"10\" style=\"font-size: 5ex\">英派</a></li><li><a href=\"http://www.google.com\" data-weight=\"10\" style=\"font-size: 4ex\">團隊</a></li><li><a href=\"http://www.google.com\" data-weight=\"10\" style=\"font-size: 4ex\">社會</a></li><li><a href=\"http://www.google.com\" data-weight=\"10\" style=\"font-size: 4ex\">政治</a></li><li><a href=\"http://www.google.com\" data-weight=\"10\" style=\"font-size: 4ex\">政策</a></li><li><a href=\"http://www.google.com\" data-weight=\"10\" style=\"font-size: 4ex\">政府</a></li><li><a href=\"http://www.google.com\" data-weight=\"10\" style=\"font-size: 3ex\">力量</a></li><li><a href=\"http://www.google.com\" data-weight=\"10\" style=\"font-size: 3ex\">民主</a></li><li><a href=\"http://www.google.com\" data-weight=\"10\" style=\"font-size: 3ex\">日本</a></li><li><a href=\"http://www.google.com\" data-weight=\"10\" style=\"font-size: 3ex\">英文</a></li><li><a href=\"http://www.google.com\" data-weight=\"10\" style=\"font-size: 3ex\">農業</a></li><li><a href=\"http://www.google.com\" data-weight=\"10\" style=\"font-size: 3ex\">國際</a></li><li><a href=\"http://www.google.com\" data-weight=\"10\" style=\"font-size: 2ex\">地方</a></li><li><a href=\"http://www.google.com\" data-weight=\"10\" style=\"font-size: 2ex\">人才</a></li><li><a href=\"http://www.google.com\" data-weight=\"10\" style=\"font-size: 2ex\">朋友</a></li><li><a href=\"http://www.google.com\" data-weight=\"10\" style=\"font-size: 2ex\">經濟</a></li><li><a href=\"http://www.google.com\" data-weight=\"10\" style=\"font-size: 2ex\">國會</a></li><li><a href=\"http://www.google.com\" data-weight=\"10\" style=\"font-size: 2ex\">世界</a></li><li><a href=\"http://www.google.com\" data-weight=\"10\" style=\"font-size: 2ex\">桃園</a></li><li><a href=\"http://www.google.com\" data-weight=\"10\" style=\"font-size: 2ex\">計畫</a></li><li><a href=\"http://www.google.com\" data-weight=\"10\" style=\"font-size: 2ex\">客家</a></li><li><a href=\"http://www.google.com\" data-weight=\"10\" style=\"font-size: 1ex\">機會</a></li><li><a href=\"http://www.google.com\" data-weight=\"10\" style=\"font-size: 1ex\">政黨</a></li><li><a href=\"http://www.google.com\" data-weight=\"10\" style=\"font-size: 1ex\">歷史</a></li><li><a href=\"http://www.google.com\" data-weight=\"10\" style=\"font-size: 1ex\">環境</a></li><li><a href=\"http://www.google.com\" data-weight=\"10\" style=\"font-size: 1ex\">資源</a></li><li><a href=\"http://www.google.com\" data-weight=\"10\" style=\"font-size: 1ex\">女性</a></li><li><a href=\"http://www.google.com\" data-weight=\"10\" style=\"font-size: 1ex\">山口</a></li><li><a href=\"http://www.google.com\" data-weight=\"10\" style=\"font-size: 1ex\">交流</a></li><li><a href=\"http://www.google.com\" data-weight=\"10\" style=\"font-size: 1ex\">全文</a></li><li><a href=\"http://www.google.com\" data-weight=\"10\" style=\"font-size: 1ex\">問題</a></li><li><a href=\"http://www.google.com\" data-weight=\"10\" style=\"font-size: 1ex\">鄉親</a></li><li><a href=\"http://www.google.com\" data-weight=\"10\" style=\"font-size: 1ex\">土地</a></li><li><a href=\"http://www.google.com\" data-weight=\"10\" style=\"font-size: 1ex\">時代</a></li><li><a href=\"http://www.google.com\" data-weight=\"10\" style=\"font-size: 1ex\">市長</a></li><li><a href=\"http://www.google.com\" data-weight=\"10\" style=\"font-size: 1ex\">官方</a></li><li><a href=\"http://www.google.com\" data-weight=\"10\" style=\"font-size: 1ex\">責任</a></li><li><a href=\"http://www.google.com\" data-weight=\"10\" style=\"font-size: 1ex\">民族</a></li><li><a href=\"http://www.google.com\" data-weight=\"10\" style=\"font-size: 1ex\">孩子</a></li><li><a href=\"http://www.google.com\" data-weight=\"10\" style=\"font-size: 1ex\">區域</a></li><li><a href=\"http://www.google.com\" data-weight=\"10\" style=\"font-size: 1ex\">生活圈</a></li><li><a href=\"http://www.google.com\" data-weight=\"10\" style=\"font-size: 1ex\">市場</a></li><li><a href=\"http://www.google.com\" data-weight=\"10\" style=\"font-size: 1ex\">行程</a></li><li><a href=\"http://www.google.com\" data-weight=\"10\" style=\"font-size: 1ex\">謝謝</a></li><li><a href=\"http://www.google.com\" data-weight=\"10\" style=\"font-size: 1ex\">中央</a></li><li><a href=\"http://www.google.com\" data-weight=\"10\" style=\"font-size: 1ex\">動物</a></li><li><a href=\"http://www.google.com\" data-weight=\"10\" style=\"font-size: 1ex\">專業</a></li><li><a href=\"http://www.google.com\" data-weight=\"10\" style=\"font-size: 1ex\">中心</a></li><li><a href=\"http://www.google.com\" data-weight=\"10\" style=\"font-size: 1ex\">時間</a></li><li><a href=\"http://www.google.com\" data-weight=\"10\" style=\"font-size: 1ex\">信心</a></li><li><a href=\"http://www.google.com\" data-weight=\"10\" style=\"font-size: 1ex\">困境</a></li><li><a href=\"http://www.google.com\" data-weight=\"10\" style=\"font-size: 1ex\">過程</a></li><li><a href=\"http://www.google.com\" data-weight=\"10\" style=\"font-size: 1ex\">交通</a></li><li><a href=\"http://www.google.com\" data-weight=\"10\" style=\"font-size: 1ex\">方式</a></li><li><a href=\"http://www.google.com\" data-weight=\"10\" style=\"font-size: 1ex\">綠能</a></li><li><a href=\"http://www.google.com\" data-weight=\"10\" style=\"font-size: 1ex\">姊妹</a></li><li><a href=\"http://www.google.com\" data-weight=\"10\" style=\"font-size: 1ex\">科技</a></li><li><a href=\"http://www.google.com\" data-weight=\"10\" style=\"font-size: 1ex\">議題</a></li><li><a href=\"http://www.google.com\" data-weight=\"10\" style=\"font-size: 1ex\">年輕人</a></li><li><a href=\"http://www.google.com\" data-weight=\"10\" style=\"font-size: 1ex\">台北市</a></li><li><a href=\"http://www.google.com\" data-weight=\"10\" style=\"font-size: 1ex\">美國</a></li><li><a href=\"http://www.google.com\" data-weight=\"10\" style=\"font-size: 1ex\">家鄉</a></li><li><a href=\"http://www.google.com\" data-weight=\"10\" style=\"font-size: 1ex\">教學</a></li><li><a href=\"http://www.google.com\" data-weight=\"10\" style=\"font-size: 1ex\">總部</a></li><li><a href=\"http://www.google.com\" data-weight=\"10\" style=\"font-size: 1ex\">社區</a></li><li><a href=\"http://www.google.com\" data-weight=\"10\" style=\"font-size: 1ex\">禮物</a></li><li><a href=\"http://www.google.com\" data-weight=\"10\" style=\"font-size: 1ex\">價值</a></li><li><a href=\"http://www.google.com\" data-weight=\"10\" style=\"font-size: 1ex\">關心</a></li><li><a href=\"http://www.google.com\" data-weight=\"10\" style=\"font-size: 1ex\">新聞</a></li><li><a href=\"http://www.google.com\" data-weight=\"10\" style=\"font-size: 1ex\">主席</a></li><li><a href=\"http://www.google.com\" data-weight=\"10\" style=\"font-size: 1ex\">老師</a></li><li><a href=\"http://www.google.com\" data-weight=\"10\" style=\"font-size: 1ex\">能量</a></li><li><a href=\"http://www.google.com\" data-weight=\"10\" style=\"font-size: 1ex\">理想</a></li><li><a href=\"http://www.google.com\" data-weight=\"10\" style=\"font-size: 0ex\">公民</a></li><li><a href=\"http://www.google.com\" data-weight=\"10\" style=\"font-size: 0ex\">全國</a></li><li><a href=\"http://www.google.com\" data-weight=\"10\" style=\"font-size: 0ex\">縣市</a></li><li><a href=\"http://www.google.com\" data-weight=\"10\" style=\"font-size: 0ex\">和平</a></li><li><a href=\"http://www.google.com\" data-weight=\"10\" style=\"font-size: 0ex\">民眾</a></li></ul></div>\n",
       "  </body>\n"
      ]
     },
     "metadata": {},
     "output_type": "display_data"
    },
    {
     "data": {
      "application/javascript": [
       "$.getScript(\"tagcanvas.min.js\", function () {\n",
       "\n",
       "TagCanvas.Start('myCanvas','weightTags', {\n",
       " textFont: null,\n",
       " textColour: null,\n",
       " weight: true,\n",
       " shape: 'hring',\n",
       " weightMode: 'both',\n",
       " textFont: 'Impact,\"Arial Black\",sans-serif',\n",
       " /* more options */\n",
       " \n",
       "});\n",
       "$('#tags').css('display','None');\n",
       "});\n"
      ]
     },
     "metadata": {},
     "output_type": "display_data"
    }
   ],
   "source": [
    "from IPython.display import display, HTML \n",
    "\n",
    "page= '''\n",
    "  <head>\n",
    "    <title>Word Cloud</title>\n",
    "    <script src=\"tagcanvas.min.js\" type=\"text/javascript\"></script>\n",
    "  </head>\n",
    "  <body>\n",
    "    <h1>Word Cloud</h1>\n",
    "    <div id=\"myCanvasContainer\">\n",
    "      <canvas width=\"300\" height=\"300\" id=\"myCanvas\">\n",
    "        <p>Anything in here will be replaced on browsers that support the canvas element</p>\n",
    "      </canvas>\n",
    "    </div>\n",
    "    <div id=\"tags\"><ul id=\"weightTags\">%s</ul></div>\n",
    "  </body>\n",
    "'''\n",
    "\n",
    "js = '''\n",
    "TagCanvas.Start('myCanvas','weightTags', {\n",
    " textFont: null,\n",
    " textColour: null,\n",
    " weight: true,\n",
    " shape: 'hring',\n",
    " weightMode: 'both',\n",
    " textFont: 'Impact,\"Arial Black\",sans-serif',\n",
    " /* more options */\n",
    " \n",
    "});\n",
    "$('#tags').css('display','None');\n",
    "'''\n",
    "\n",
    "import IPython\n",
    "from IPython.core.display import display_html, display_javascript, Javascript\n",
    "\n",
    "js_libs = ['tagcanvas.min.js']\n",
    "li_str = ''\n",
    "for li in swd:\n",
    "    li_str += '<li><a href=\"http://www.google.com\" data-weight=\"10\" style=\"font-size: %dex\">%s</a></li>'%(li[1]/10 , li[0])\n",
    "    \n",
    "display_html(IPython.core.display.HTML(data=page%(li_str)))\n",
    "display_javascript( Javascript(data=js, lib= js_libs))"
   ]
  },
  {
   "cell_type": "code",
   "execution_count": 70,
   "metadata": {
    "collapsed": true
   },
   "outputs": [],
   "source": [
    "def tfidf(t, d, D):\n",
    "    tf = float(d.count(t)) / sum(d.count(w) for w in set(d))\n",
    "    idf = sp.log(float(len(D)) / (len([doc for doc in D if t in doc])))\n",
    "    return tf * idf\n",
    "\n",
    "\n",
    "a, abb, abc = [\"a\"], [\"a\", \"b\", \"b\"], [\"a\", \"b\", \"c\"]\n",
    "D = [a, abb, abc]"
   ]
  },
  {
   "cell_type": "code",
   "execution_count": 69,
   "metadata": {
    "collapsed": false
   },
   "outputs": [
    {
     "name": "stdout",
     "output_type": "stream",
     "text": [
      "['a'] ['a', 'b', 'b'] ['a', 'b', 'c']\n"
     ]
    }
   ],
   "source": [
    "print a, abb, abc"
   ]
  },
  {
   "cell_type": "code",
   "execution_count": 72,
   "metadata": {
    "collapsed": false
   },
   "outputs": [
    {
     "name": "stdout",
     "output_type": "stream",
     "text": [
      "4\n"
     ]
    }
   ],
   "source": [
    "s = [1,3,2,4,2,2,3,1,4,2]\n",
    "print s.count(2)"
   ]
  },
  {
   "cell_type": "code",
   "execution_count": 87,
   "metadata": {
    "collapsed": false
   },
   "outputs": [
    {
     "name": "stdout",
     "output_type": "stream",
     "text": [
      "1\n"
     ]
    }
   ],
   "source": [
    "#print a.count('a') \n",
    "#print sum(a.count('a') for w in set(a))\n",
    "tf = a.count('a') / sum(a.count('a') for w in set(a))\n",
    "print tf\n"
   ]
  },
  {
   "cell_type": "code",
   "execution_count": 89,
   "metadata": {
    "collapsed": false
   },
   "outputs": [
    {
     "name": "stdout",
     "output_type": "stream",
     "text": [
      "3\n",
      "3\n",
      "2.30258509299\n",
      "0.0\n",
      "0.0\n"
     ]
    }
   ],
   "source": [
    "import scipy as sp\n",
    "print len(D)\n",
    "print len([doc for doc in D if 'a' in doc])\n",
    "print sp.log(10)\n",
    "idf = sp.log(len(D) / len([doc for doc in D if 'a' in doc]))\n",
    "print idf\n",
    "\n",
    "tfidf = tf * idf\n",
    "print tfidf\n",
    "\n",
    "#idf = sp.log(float(len(D)) / (len([doc for doc in D if t in doc])))\n",
    "#sum(d.count(w) for w in set(d)\n",
    "\n",
    "\n",
    "#print(tfidf(\"a\", a, D))\n"
   ]
  },
  {
   "cell_type": "code",
   "execution_count": 94,
   "metadata": {
    "collapsed": false
   },
   "outputs": [
    {
     "name": "stdout",
     "output_type": "stream",
     "text": [
      "0.666666666667\n",
      "0.405465108108\n",
      "0.405465108108\n",
      "0.270310072072\n"
     ]
    }
   ],
   "source": [
    "\n",
    "tf = float(abb.count('b')) / sum(abb.count(w) for w in set(abb))\n",
    "print tf\n",
    "\n",
    "idf = sp.log(float(len(D)) / (len([doc for doc in D if 'b' in doc])))\n",
    "print idf\n",
    "print sp.log(1.5)\n",
    "\n",
    "print tf * idf "
   ]
  },
  {
   "cell_type": "code",
   "execution_count": 96,
   "metadata": {
    "collapsed": false
   },
   "outputs": [
    {
     "name": "stdout",
     "output_type": "stream",
     "text": [
      "0.0\n",
      "0.270310072072\n",
      "0.0\n",
      "0.0\n",
      "0.135155036036\n",
      "0.366204096223\n"
     ]
    }
   ],
   "source": [
    "def tfidf(t, d, D):\n",
    "    tf = float(d.count(t)) / sum(d.count(w) for w in set(d))\n",
    "    idf = sp.log(float(len(D)) / (len([doc for doc in D if t in doc])))\n",
    "    return tf * idf\n",
    "\n",
    "a, abb, abc = [\"a\"], [\"a\", \"b\", \"b\"], [\"a\", \"b\", \"c\"]\n",
    "D = [a, abb, abc]\n",
    "\n",
    "print(tfidf(\"a\", a, D))\n",
    "print(tfidf(\"b\", abb, D))\n",
    "print(tfidf(\"a\", abb, D))\n",
    "print(tfidf(\"a\", abc, D))\n",
    "print(tfidf(\"b\", abc, D))\n",
    "print(tfidf(\"c\", abc, D))\n"
   ]
  },
  {
   "cell_type": "code",
   "execution_count": 97,
   "metadata": {
    "collapsed": true
   },
   "outputs": [],
   "source": [
    "import jieba\n",
    "ary = ['【更新】柯P：洪智坤洩漏公文案還沒看到公文　今處理',\n",
    "'留洪智坤 柯：殘障求職不易',\n",
    "'人事處議處洪智坤　柯P：不清楚議處結果']\n",
    "corpus = []\n",
    "for title in ary:\n",
    "    corpus.append(' '.join(jieba.cut(title)))\n"
   ]
  },
  {
   "cell_type": "code",
   "execution_count": 105,
   "metadata": {
    "collapsed": false
   },
   "outputs": [],
   "source": [
    "import jieba\n",
    "ary = ['【更新】柯P：洪智坤洩漏公文案還沒看到公文　今處理',\n",
    "'留洪智坤 柯：殘障求職不易',\n",
    "'人事處議處洪智坤　柯P：不清楚議處結果']\n",
    "corpus = []\n",
    "for idx, title in enumerate(ary):\n",
    "    corpus.append([])\n",
    "    for ele in jieba.cut(title):\n",
    "        corpus[idx].append(ele)\n"
   ]
  },
  {
   "cell_type": "code",
   "execution_count": 109,
   "metadata": {
    "collapsed": false
   },
   "outputs": [
    {
     "name": "stdout",
     "output_type": "stream",
     "text": [
      "【/ 更新/ 】/ 柯/ P/ ：/ 洪智坤/ 洩漏/ 公文/ 案還/ 沒/ 看到/ 公文/ 　/ 今處理\n",
      "留洪智坤/  / 柯/ ：/ 殘障/ 求職/ 不易\n",
      "人事/ 處議/ 處/ 洪智坤/ 　/ 柯/ P/ ：/ 不/ 清楚/ 議處/ 結果\n"
     ]
    }
   ],
   "source": [
    "for ele in corpus:\n",
    "    print '/ '.join(ele)"
   ]
  },
  {
   "cell_type": "code",
   "execution_count": 127,
   "metadata": {
    "collapsed": false
   },
   "outputs": [],
   "source": [
    "def tfidf(t, d, D):\n",
    "    tf = float(d.count(t.decode('utf-8'))) / sum(d.count(w) for w in set(d))\n",
    "    idf = sp.log(float(len(D)) / (len([doc for doc in D if t.decode('utf-8') in doc])))\n",
    "    return tf *idf "
   ]
  },
  {
   "cell_type": "code",
   "execution_count": 129,
   "metadata": {
    "collapsed": false
   },
   "outputs": [
    {
     "name": "stdout",
     "output_type": "stream",
     "text": [
      "0.146481638489\n",
      "0.0270310072072\n"
     ]
    }
   ],
   "source": [
    "print tfidf('公文', corpus[0], corpus)\n",
    "print tfidf('洪智坤', corpus[0], corpus)"
   ]
  },
  {
   "cell_type": "code",
   "execution_count": 130,
   "metadata": {
    "collapsed": true
   },
   "outputs": [],
   "source": [
    "import jieba\n",
    "ary = ['【更新】柯P：洪智坤洩漏公文案還沒看到公文　今處理',\n",
    "'留洪智坤 柯：殘障求職不易',\n",
    "'人事處議處洪智坤　柯P：不清楚議處結果']\n",
    "corpus = []\n",
    "for title in ary:\n",
    "    corpus.append(' '.join(jieba.cut(title)))\n"
   ]
  },
  {
   "cell_type": "code",
   "execution_count": 135,
   "metadata": {
    "collapsed": false
   },
   "outputs": [
    {
     "name": "stdout",
     "output_type": "stream",
     "text": [
      "不易 人事 今處理 公文 更新 案還 殘障 求職 洩漏 洪智坤 清楚 留洪智坤 看到 結果 處議 議處\n",
      "[[0 0 1 2 1 1 0 0 1 1 0 0 1 0 0 0]\n",
      " [1 0 0 0 0 0 1 1 0 0 0 1 0 0 0 0]\n",
      " [0 1 0 0 0 0 0 0 0 1 1 0 0 1 1 1]]\n"
     ]
    }
   ],
   "source": [
    "from sklearn.feature_extraction.text import CountVectorizer\n",
    "\n",
    "ary = ['【更新】柯P：洪智坤洩漏公文案還沒看到公文　今處理',\n",
    "'留洪智坤 柯：殘障求職不易',\n",
    "'人事處議處洪智坤　柯P：不清楚議處結果']\n",
    "\n",
    "vectorizer = CountVectorizer() \n",
    "X = vectorizer.fit_transform(corpus)\n",
    "word = vectorizer.get_feature_names() \n",
    "for w in word:\n",
    "    print w,\n",
    "print \n",
    "print X.toarray()"
   ]
  },
  {
   "cell_type": "code",
   "execution_count": 138,
   "metadata": {
    "collapsed": false
   },
   "outputs": [
    {
     "name": "stdout",
     "output_type": "stream",
     "text": [
      "不易 人事 今處理 公文 更新 案還 殘障 求職 洩漏 洪智坤 清楚 留洪智坤 看到 結果 處議 議處\n",
      "[[ 0.          0.          0.32311233  0.64622465  0.32311233  0.32311233\n",
      "   0.          0.          0.32311233  0.24573525  0.          0.\n",
      "   0.32311233  0.          0.          0.        ]\n",
      " [ 0.5         0.          0.          0.          0.          0.          0.5\n",
      "   0.5         0.          0.          0.          0.5         0.          0.\n",
      "   0.          0.        ]\n",
      " [ 0.          0.42339448  0.          0.          0.          0.          0.\n",
      "   0.          0.          0.32200242  0.42339448  0.          0.\n",
      "   0.42339448  0.42339448  0.42339448]]\n"
     ]
    }
   ],
   "source": [
    "from sklearn.feature_extraction.text import TfidfTransformer\n",
    "transformer = TfidfTransformer()\n",
    "X = vectorizer.fit_transform(corpus)\n",
    "tfidf = transformer.fit_transform(X)\n",
    "weight = tfidf.toarray()    \n",
    "for w in word:\n",
    "    print w,\n",
    "print \n",
    "print weight"
   ]
  },
  {
   "cell_type": "code",
   "execution_count": 141,
   "metadata": {
    "collapsed": true
   },
   "outputs": [],
   "source": [
    "import jieba\n",
    "ary = ['【更新】柯P：洪智坤洩漏公文案還沒看到公文　今處理',\n",
    "'留洪智坤 柯：殘障求職不易',\n",
    "'人事處議處洪智坤　柯P：不清楚議處結果']\n",
    "corpus = []\n",
    "jieba.add_word('洪智坤', 100, 'nr')\n",
    "jieba.add_word('柯P', 100, 'nr')\n",
    "for title in ary:\n",
    "    corpus.append(' '.join(jieba.cut(title)))\n"
   ]
  },
  {
   "cell_type": "code",
   "execution_count": 143,
   "metadata": {
    "collapsed": true
   },
   "outputs": [],
   "source": [
    "vectorizer = CountVectorizer() \n",
    "X = vectorizer.fit_transform(corpus)\n",
    "word = vectorizer.get_feature_names() "
   ]
  },
  {
   "cell_type": "code",
   "execution_count": 144,
   "metadata": {
    "collapsed": false
   },
   "outputs": [
    {
     "name": "stdout",
     "output_type": "stream",
     "text": [
      "不易 人事 今處理 公文 更新 柯p 案還 殘障 求職 洩漏 洪智坤 清楚 看到 結果 處議 議處\n",
      "[[ 0.          0.          0.31738473  0.63476946  0.31738473  0.24137927\n",
      "   0.31738473  0.          0.          0.31738473  0.18745253  0.\n",
      "   0.31738473  0.          0.          0.        ]\n",
      " [ 0.54645401  0.          0.          0.          0.          0.          0.\n",
      "   0.54645401  0.54645401  0.          0.32274454  0.          0.          0.\n",
      "   0.          0.        ]\n",
      " [ 0.          0.41074684  0.          0.          0.          0.31238356\n",
      "   0.          0.          0.          0.          0.2425937   0.41074684\n",
      "   0.          0.41074684  0.41074684  0.41074684]]\n"
     ]
    }
   ],
   "source": [
    "transformer = TfidfTransformer()\n",
    "tfidf = transformer.fit_transform(X)\n",
    "weight = tfidf.toarray()    \n",
    "for w in word:\n",
    "    print w,\n",
    "print \n",
    "print weight"
   ]
  },
  {
   "cell_type": "code",
   "execution_count": 145,
   "metadata": {
    "collapsed": true
   },
   "outputs": [],
   "source": [
    "from sklearn.metrics.pairwise import linear_kernel\n"
   ]
  },
  {
   "cell_type": "code",
   "execution_count": 149,
   "metadata": {
    "collapsed": false
   },
   "outputs": [
    {
     "name": "stdout",
     "output_type": "stream",
     "text": [
      "  (0, 13)\t0.410746835009\n",
      "  (0, 15)\t0.410746835009\n",
      "  (0, 11)\t0.410746835009\n",
      "  (0, 14)\t0.410746835009\n",
      "  (0, 1)\t0.410746835009\n",
      "  (0, 10)\t0.242593697538\n",
      "  (0, 5)\t0.31238355521\n"
     ]
    }
   ],
   "source": [
    "print tfidf[2]"
   ]
  },
  {
   "cell_type": "code",
   "execution_count": 152,
   "metadata": {
    "collapsed": false
   },
   "outputs": [
    {
     "name": "stdout",
     "output_type": "stream",
     "text": [
      "[[ 1.          0.06049928  0.12087772]]\n",
      "[ 1.          0.06049928  0.12087772]\n"
     ]
    }
   ],
   "source": [
    "print linear_kernel(tfidf[0], tfidf)\n",
    "print  linear_kernel(tfidf[0], tfidf).flatten()"
   ]
  },
  {
   "cell_type": "code",
   "execution_count": 151,
   "metadata": {
    "collapsed": false
   },
   "outputs": [
    {
     "name": "stdout",
     "output_type": "stream",
     "text": [
      "[[ 1.          0.06049928  0.12087772]\n",
      " [ 0.06049928  1.          0.07829579]\n",
      " [ 0.12087772  0.07829579  1.        ]]\n"
     ]
    }
   ],
   "source": [
    "print linear_kernel(tfidf, tfidf)"
   ]
  },
  {
   "cell_type": "code",
   "execution_count": 160,
   "metadata": {
    "collapsed": false
   },
   "outputs": [
    {
     "name": "stdout",
     "output_type": "stream",
     "text": [
      "[ 1.          0.06049928  0.12087772]\n"
     ]
    }
   ],
   "source": [
    "cosine_similarities = linear_kernel(tfidf[0], tfidf).flatten()\n",
    "print cosine_similarities"
   ]
  },
  {
   "cell_type": "code",
   "execution_count": 161,
   "metadata": {
    "collapsed": false
   },
   "outputs": [
    {
     "name": "stdout",
     "output_type": "stream",
     "text": [
      "【更新】柯P：洪智坤洩漏公文案還沒看到公文　今處理\n",
      "人事處議處洪智坤　柯P：不清楚議處結果\n"
     ]
    }
   ],
   "source": [
    "related_docs_indices = cosine_similarities.argsort()[:-3:-1]\n",
    "related_docs_indices\n",
    "for index in related_docs_indices:\n",
    "    print ary[index]\n"
   ]
  },
  {
   "cell_type": "code",
   "execution_count": 159,
   "metadata": {
    "collapsed": false
   },
   "outputs": [
    {
     "name": "stdout",
     "output_type": "stream",
     "text": [
      "[[0 0 1 2 1 1 1 0 0 1 1 0 1 0 0 0]\n",
      " [1 0 0 0 0 0 0 1 1 0 1 0 0 0 0 0]\n",
      " [0 1 0 0 0 1 0 0 0 0 1 1 0 1 1 1]]\n",
      "[[ 11.   1.   2.]\n",
      " [  1.   4.   1.]\n",
      " [  2.   1.   7.]]\n"
     ]
    }
   ],
   "source": [
    "print X.toarray()\n",
    "cosine_similarities2 = linear_kernel(X, X)\n",
    "print cosine_similarities2"
   ]
  },
  {
   "cell_type": "code",
   "execution_count": 185,
   "metadata": {
    "collapsed": true
   },
   "outputs": [],
   "source": [
    "import sqlite3\n",
    "db = sqlite3.connect('news2.sqlite') \n",
    "cur = db.cursor()\n",
    "cur.execute('select title, summary from news_entry')\n",
    "allNews = cur.fetchall()\n",
    "corpus = []\n",
    "ary = []\n",
    "for rec in allNews:\n",
    "    ary.append(rec[0])\n",
    "    corpus.append(' '.join(jieba.analyse.extract_tags(rec[1], 20)))\n",
    "cur.close()"
   ]
  },
  {
   "cell_type": "code",
   "execution_count": 186,
   "metadata": {
    "collapsed": false
   },
   "outputs": [
    {
     "name": "stdout",
     "output_type": "stream",
     "text": [
      "求婚 男子 快艇 醫院 女子 戒指 一名 失敗 護士 中國 報導 走上 超霸 據悉 期間 離場 一間 丟下 周圍 遊艇\n",
      "新北 新北市 時間 問題 鉛管 新店 三重 更新 李倩萍 資資料 數近 曾佳俊 雙北共飲 不滿 256 區域 14 萬戶 一河 議員\n"
     ]
    }
   ],
   "source": [
    "print corpus[0]\n",
    "print corpus[1]"
   ]
  },
  {
   "cell_type": "code",
   "execution_count": 187,
   "metadata": {
    "collapsed": false
   },
   "outputs": [
    {
     "name": "stdout",
     "output_type": "stream",
     "text": [
      "901\n"
     ]
    }
   ],
   "source": [
    "print len(corpus)"
   ]
  },
  {
   "cell_type": "code",
   "execution_count": 188,
   "metadata": {
    "collapsed": true
   },
   "outputs": [],
   "source": [
    "from sklearn.feature_extraction.text import CountVectorizer\n",
    "vectorizer = CountVectorizer() \n",
    "X = vectorizer.fit_transform(corpus)\n",
    "word = vectorizer.get_feature_names() "
   ]
  },
  {
   "cell_type": "code",
   "execution_count": 189,
   "metadata": {
    "collapsed": false
   },
   "outputs": [
    {
     "name": "stdout",
     "output_type": "stream",
     "text": [
      "9002\n"
     ]
    }
   ],
   "source": [
    "print len(word)"
   ]
  },
  {
   "cell_type": "code",
   "execution_count": 190,
   "metadata": {
    "collapsed": true
   },
   "outputs": [],
   "source": [
    "from sklearn.feature_extraction.text import TfidfTransformer\n",
    "transformer = TfidfTransformer()\n",
    "tfidf = transformer.fit_transform(X)\n",
    "weight = tfidf.toarray() "
   ]
  },
  {
   "cell_type": "code",
   "execution_count": 191,
   "metadata": {
    "collapsed": false
   },
   "outputs": [
    {
     "name": "stdout",
     "output_type": "stream",
     "text": [
      "[ 0.  0.  0. ...,  0.  0.  0.]\n",
      "(901, 9002)\n"
     ]
    }
   ],
   "source": [
    "print weight[1]\n",
    "print weight.shape"
   ]
  },
  {
   "cell_type": "code",
   "execution_count": 192,
   "metadata": {
    "collapsed": true
   },
   "outputs": [
    {
     "name": "stdout",
     "output_type": "stream",
     "text": [
      "[ 0.          1.          0.01977476  0.          0.17260879  0.          0.\n",
      "  0.          0.          0.          0.          0.          0.          0.\n",
      "  0.03270045  0.          0.01322105  0.          0.          0.01384389\n",
      "  0.03387644  0.06037945  0.0313772   0.          0.          0.          0.0320357\n",
      "  0.          0.01435895  0.19691579  0.          0.          0.01674637\n",
      "  0.          0.          0.          0.          0.          0.          0.\n",
      "  0.          0.02331812  0.          0.          0.          0.02309224\n",
      "  0.          0.          0.          0.          0.          0.\n",
      "  0.01390908  0.          0.03147146  0.          0.01496762  0.\n",
      "  0.03202909  0.02568445  0.02364981  0.          0.          0.01724678\n",
      "  0.          0.          0.          0.          0.          0.          0.\n",
      "  0.          0.03268865  0.          0.02366176  0.          0.\n",
      "  0.03064867  0.          0.          0.03891524  0.          0.01387761\n",
      "  0.01347323  0.0447324   0.          0.          0.03765882  0.          0.\n",
      "  0.          0.          0.          0.          0.03427144  0.          0.\n",
      "  0.03467408  0.          0.          0.06632934  0.          0.          0.\n",
      "  0.          0.          0.03330865  0.          0.          0.          0.\n",
      "  0.02529065  0.          0.          0.          0.          0.01562057\n",
      "  0.          0.          0.          0.          0.          0.          0.\n",
      "  0.10509672  0.          0.          0.          0.          0.          0.\n",
      "  0.          0.          0.02343767  0.          0.          0.          0.\n",
      "  0.          0.          0.          0.          0.04456139  0.          0.\n",
      "  0.          0.          0.          0.          0.          0.\n",
      "  0.07081288  0.          0.          0.          0.          0.\n",
      "  0.03570685  0.03095671  0.          0.          0.02765099  0.          0.\n",
      "  0.          0.          0.          0.04345144  0.04140189  0.          0.\n",
      "  0.          0.          0.          0.          0.          0.01936051\n",
      "  0.          0.          0.          0.          0.          0.01323656\n",
      "  0.          0.          0.04426459  0.          0.01582984  0.          0.\n",
      "  0.          0.          0.          0.          0.03324109  0.10153882\n",
      "  0.08358648  0.          0.01451744  0.          0.          0.          0.\n",
      "  0.          0.          0.          0.          0.          0.0676381   0.\n",
      "  0.          0.          0.          0.          0.          0.          0.\n",
      "  0.          0.          0.          0.          0.          0.          0.\n",
      "  0.          0.          0.          0.          0.          0.          0.\n",
      "  0.          0.          0.          0.          0.          0.          0.\n",
      "  0.          0.          0.          0.          0.          0.          0.\n",
      "  0.          0.01456402  0.          0.          0.          0.          0.\n",
      "  0.          0.          0.          0.          0.          0.          0.\n",
      "  0.          0.          0.          0.          0.          0.06302879\n",
      "  0.          0.          0.          0.          0.          0.          0.\n",
      "  0.          0.          0.          0.          0.          0.          0.\n",
      "  0.          0.          0.          0.          0.          0.          0.\n",
      "  0.          0.          0.          0.          0.043219    0.          0.\n",
      "  0.          0.          0.          0.          0.04220701  0.          0.\n",
      "  0.          0.          0.          0.          0.          0.          0.\n",
      "  0.          0.          0.          0.          0.          0.          0.\n",
      "  0.          0.          0.          0.          0.          0.          0.\n",
      "  0.          0.02572975  0.          0.0141777   0.          0.          0.\n",
      "  0.01393836  0.          0.          0.          0.          0.          0.\n",
      "  0.01359549  0.          0.          0.          0.          0.          0.\n",
      "  0.          0.          0.          0.          0.03718252  0.          0.\n",
      "  0.          0.          0.04175891  0.          0.          0.          0.\n",
      "  0.          0.          0.          0.          0.          0.          0.\n",
      "  0.          0.          0.          0.          0.02365195  0.          0.\n",
      "  0.          0.          0.          0.01954764  0.          0.          0.\n",
      "  0.          0.          0.          0.          0.          0.          0.\n",
      "  0.01393598  0.          0.          0.03333846  0.          0.          0.\n",
      "  0.          0.0234585   0.03161221  0.          0.          0.          0.\n",
      "  0.          0.          0.02311699  0.          0.          0.          0.\n",
      "  0.          0.07060624  0.          0.          0.          0.          0.\n",
      "  0.          0.          0.02536427  0.          0.02417504  0.          0.\n",
      "  0.          0.          0.          0.          0.          0.          0.0140721\n",
      "  0.          0.          0.          0.01874162  0.          0.          0.\n",
      "  0.          0.          0.          0.          0.          0.          0.\n",
      "  0.          0.          0.          0.          0.          0.          0.\n",
      "  0.03240758  0.          0.          0.          0.          0.          0.\n",
      "  0.          0.01949501  0.          0.04473858  0.          0.0308787   0.\n",
      "  0.          0.          0.01415992  0.01420443  0.          0.          0.\n",
      "  0.          0.          0.          0.          0.          0.          0.\n",
      "  0.          0.          0.          0.04532691  0.          0.01496689\n",
      "  0.01496689  0.          0.          0.0154965   0.01893548  0.          0.\n",
      "  0.          0.          0.          0.          0.          0.          0.\n",
      "  0.          0.          0.          0.          0.          0.07328828\n",
      "  0.          0.04452918  0.          0.          0.          0.          0.\n",
      "  0.          0.0333413   0.          0.          0.          0.\n",
      "  0.06486096  0.          0.          0.          0.          0.          0.\n",
      "  0.          0.          0.          0.          0.          0.\n",
      "  0.03052557  0.02635645  0.          0.          0.01875722  0.\n",
      "  0.02860182  0.          0.          0.03747623  0.          0.          0.\n",
      "  0.          0.01737807  0.          0.          0.03326541  0.          0.\n",
      "  0.          0.          0.          0.01564313  0.          0.          0.\n",
      "  0.          0.          0.          0.          0.          0.01379852\n",
      "  0.01481969  0.          0.          0.          0.          0.02661984\n",
      "  0.          0.06274985  0.          0.          0.          0.          0.\n",
      "  0.          0.          0.          0.02663931  0.          0.          0.\n",
      "  0.          0.          0.          0.          0.          0.\n",
      "  0.03887741  0.          0.03492735  0.          0.          0.01413063\n",
      "  0.          0.          0.          0.01481031  0.03193414  0.02085088\n",
      "  0.01312362  0.          0.0139447   0.          0.01849822  0.03296969\n",
      "  0.          0.          0.          0.          0.          0.          0.\n",
      "  0.          0.          0.0624747   0.          0.01469053  0.          0.\n",
      "  0.          0.          0.06679268  0.          0.01516472  0.          0.\n",
      "  0.          0.          0.          0.02360104  0.          0.          0.\n",
      "  0.03150661  0.0427935   0.          0.          0.05655636  0.03675619\n",
      "  0.03043912  0.          0.03074865  0.          0.          0.          0.\n",
      "  0.          0.          0.          0.          0.          0.          0.\n",
      "  0.01521001  0.          0.          0.01810112  0.          0.03396065\n",
      "  0.          0.02314991  0.09777973  0.          0.          0.          0.\n",
      "  0.          0.          0.          0.          0.01445459  0.          0.\n",
      "  0.          0.          0.01444669  0.03137048  0.          0.          0.\n",
      "  0.          0.02793496  0.          0.          0.          0.06381723\n",
      "  0.          0.          0.          0.          0.06422555  0.          0.\n",
      "  0.          0.04946417  0.04643667  0.          0.          0.03385033\n",
      "  0.          0.          0.          0.01494356  0.          0.          0.\n",
      "  0.          0.02437428  0.          0.          0.          0.\n",
      "  0.03255415  0.02531814  0.          0.          0.          0.\n",
      "  0.02221498  0.05414171  0.03780732  0.          0.          0.          0.\n",
      "  0.          0.          0.0146559   0.          0.          0.          0.\n",
      "  0.02454461  0.01380245  0.          0.          0.          0.          0.\n",
      "  0.          0.          0.01481287  0.05672439  0.02371979  0.05489182\n",
      "  0.          0.01934603  0.          0.          0.          0.          0.\n",
      "  0.          0.          0.          0.          0.          0.          0.\n",
      "  0.          0.          0.          0.          0.01361594  0.          0.\n",
      "  0.          0.          0.          0.01951466  0.01912823  0.01407933\n",
      "  0.          0.          0.          0.01377722  0.          0.          0.\n",
      "  0.          0.          0.          0.          0.          0.03411006\n",
      "  0.03174443  0.          0.          0.0815209   0.          0.03291271\n",
      "  0.          0.          0.0326472   0.          0.01471762  0.          0.\n",
      "  0.03400105  0.          0.03087067  0.01906213  0.          0.          0.\n",
      "  0.          0.01394649  0.          0.          0.          0.          0.\n",
      "  0.          0.          0.03275533  0.03466813  0.          0.0802773   0.\n",
      "  0.          0.01435276  0.          0.          0.          0.          0.\n",
      "  0.          0.          0.          0.          0.          0.          0.\n",
      "  0.          0.          0.0131122   0.          0.          0.\n",
      "  0.01396774  0.          0.          0.          0.          0.          0.\n",
      "  0.          0.          0.03534019  0.          0.          0.          0.\n",
      "  0.          0.04966637  0.          0.          0.          0.01772623\n",
      "  0.          0.          0.          0.          0.04347473  0.\n",
      "  0.06216499  0.          0.          0.          0.          0.          0.\n",
      "  0.          0.          0.          0.          0.          0.          0.\n",
      "  0.          0.          0.01407     0.          0.          0.          0.\n",
      "  0.          0.          0.06037373  0.02795731  0.          0.          0.\n",
      "  0.          0.          0.          0.          0.          0.          0.\n",
      "  0.          0.03642296]\n"
     ]
    }
   ],
   "source": [
    "cosine_similarities = linear_kernel(tfidf[1], tfidf).flatten()\n",
    "print cosine_similarities"
   ]
  },
  {
   "cell_type": "code",
   "execution_count": 194,
   "metadata": {
    "collapsed": false
   },
   "outputs": [
    {
     "name": "stdout",
     "output_type": "stream",
     "text": [
      "獨家！新北256路段鉛管曝光　來看你家有...\n"
     ]
    }
   ],
   "source": [
    "print ary[1]"
   ]
  },
  {
   "cell_type": "code",
   "execution_count": 198,
   "metadata": {
    "collapsed": true
   },
   "outputs": [
    {
     "name": "stdout",
     "output_type": "stream",
     "text": [
      "獨家！新北256路段鉛管曝光　來看你家有... 1 1.0\n",
      "鉛管風暴來龍去脈　《蘋果》懶人包秒懂 29 0.196915792017\n",
      "消除北水處鉛管恐慌　新北要求三年內汰換 4 0.172608792493\n",
      "【更新】修內規替王金平解套　朱立倫：絕非... 124 0.10509671951\n",
      "處理世大運選手村　柯P：明年5月與中央討... 195 0.101538817723\n",
      "【更新】北市優先汰換密集鉛管區　明起可上... 660 0.0977797305799\n",
      "【更新】嘉義市立委選舉　王金平勸進黃敏惠 196 0.0835864791456\n",
      "【更新】浮洲合宜宅受災戶：「如影隨形」跟... 787 0.0815208955617\n",
      "【更新】北市明年水費漲不漲？柯P：要漲才... 816 0.0802772953244\n",
      "新北也有鉛水管　雙和、新店、三重約1萬多... 500 0.0732882757393\n",
      "【建案搶先看】新莊頭前重劃區　超好住啦 151 0.0708128806302\n",
      "【更新】警蒐集總統參選人樁腳等個資　分局... 406 0.0706062438237\n",
      "鉛水問題引恐慌　柯P公布鉛水管懶人包 208 0.0676380964046\n",
      "【民報黃慧芬專欄】更換自來水鉛管真有那麼... 620 0.0667926825933\n",
      "「市民有知的權利」　柯P鉛管懶人包大解析 100 0.0663293439399\n",
      "【更新】全運地主高雄女排苦戰五局險勝新北... 514 0.0648609614898\n",
      "司法辦藍不辦綠？　蔡英文：現在是國民黨在... 689 0.0642255466459\n",
      "新北公務員收八仙門票涉貪瀆　檢方今分案追... 684 0.0638172258964\n",
      "糗了！載到周公　男自撞翻車困 264 0.0630287895786\n",
      "【更新】局長收賄護八仙？　爆料錄音曝光 567 0.0627498469187\n",
      "雨下不停　3縣市發布豪雨大雨特報 613 0.0624746965831\n",
      "【更新】刪退休公僕三節慰問金？　柯：今年... 864 0.0621649910871\n",
      "中橫撞車翻覆　母帶4童爬出求救 21 0.060379452102\n",
      "​烤麵包沒抽風　2員工一氧化碳中毒 887 0.0603737325983\n",
      "小22歲少妻手機狂響　妒夫竟揮神像砸死她 741 0.0567243918945\n",
      "串供頂罪夢死者吐實　殺人主嫌終落網 636 0.0565563637331\n",
      "蕾神怒了　被《周刊王》偷拍「告到底」　743 0.0548918224898\n",
      "【獨】罵小四北港香爐　小三判罰5千 718 0.0541417054653\n",
      "飛安會主委沈啟自認不適任　行政院立即免職 853 0.0496663665976\n",
      "中國富婆買澳洲百年老宅　拆除重建引公憤 693 0.0494641662897\n",
      "【更新】呂忠吉再開記者會　批朱立倫說謊 694 0.0464366734111\n",
      "保全涉誘少女逃家供性侵　案情大逆轉 478 0.0453269134609\n",
      "10月22日台灣彩券開獎號碼 457 0.044738579922\n",
      "臉書讓iPhone大耗電　急推新版APP 84 0.0447323957582\n",
      "推技職國際化　吳思華：讓國內技職證照獲國... 142 0.0445613888158\n",
      "出席小英活動挨批　北市民政局長：公務行程 502 0.0445291803327\n",
      "【黑豹旗戰果】王志庭七局無失分　興大附農... 185 0.0442645897027\n",
      "洪秀柱改列新黨不分區？　洪營：不可能 862 0.0434747332535\n",
      "強化技職扎根　教育部推創客實驗室 167 0.0434514366764\n",
      "十月二十三日各報頭條搶先報 290 0.0432190036687\n",
      "求「地」若渴　量少價高高掛 633 0.0427934953689\n",
      "加劇分裂？　「英格蘭法案由英格蘭議員表決... 297 0.0422070084272\n",
      "呂秋遠：憑什麼要求醫生繼續犧牲 351 0.0417589105671\n",
      "【央廣RTI】技職教育向下札根  教部普... 168 0.0414018876322\n",
      "文宣造謠當選無效　議員開槍洩憤再判刑 80 0.0389152429375\n",
      "工讀生慘遭火襲　雇主反控毀爐具 586 0.0388774089675\n",
      "【更新】特偵查「換柱」　蕾神：證明法院不... 719 0.0378073225926\n",
      "【更新】你不知道的iOS 9 6大冷知識... 87 0.0376588196936\n",
      "【更新】北水處：即起可用水號查詢有無鉛管 536 0.0374762257251\n",
      "普悠瑪號為何變成誤點王 346 0.0371825155598\n",
      "【更新】追肇逃機車　BMW大七嗆這句被圍... 637 0.036756185465\n",
      "【更新】家庭是否影響從政？柯：廢話！當然... 900 0.0364229600104\n",
      "【更新】向友人哭訴「大勢已去」?　柱姐怒... 157 0.0357068487542\n",
      "【更新】曾請岳母幫帶小孩　柯P：家有台傭... 847 0.0353401884176\n",
      "【央廣RTI】六都房價全面反轉向下  高... 588 0.0349273513438\n",
      "【更新】政務官輔選適當否？柯P：不知　要... 97 0.0346740804692\n",
      "朱上柱下時　警政署：維安就同步進駐與撤離 814 0.0346681347359\n",
      "【更新】電鍋變安全帽　炫技大公開 94 0.0342714429854\n",
      "【更新】酒駕睡路中央　百車閃不掉差點撞上 783 0.0341100638568\n",
      "​國際智慧城市論壇　台灣5城入圍智慧城市 797 0.0340010515106\n",
      "【更新】紅樓底下是墳墓　陳威仁：已用八卦... 657 0.0339606483441\n",
      "【更新】搭電梯也出事　台中錢櫃爆集體鬥毆 20 0.0338764371252\n",
      "通緝犯衝撞臨檢點　詭辯：是警車撞過來 697 0.0338503266827\n",
      "【更新】GungHo攜手橘子　強推中文化... 509 0.0333412966596\n",
      "【更新】台南住宅爆炸起火　屋內發現兩具焦... 387 0.0333384616346\n",
      "【更新】消防隊旁火燒厝　7旬老婦撿回一命 106 0.0333086492279\n",
      "撞歪2.5公尺限高桿　警追肇禍灌漿車 544 0.0332654147319\n",
      "要下大雨了　北北基宜發布大雨特報 194 0.0332410855947\n",
      "【更新】屏東市鬧區火警　燒香不慎變燒屋　603 0.0329696859555\n",
      "【更新】毛～普悠瑪號疑撞闖軌　卻找不到人 789 0.0329127081242\n",
      "【讀者直擊】驚魂5分鐘　惡男強押女上車 813 0.0327553279401\n",
      "【更新】她情有獨鍾　熊熊飾品偷不停 14 0.0327004541172\n",
      "深坑三合院大火　民眾睡夢中驚逃 72 0.0326886506497\n",
      "【更新】達賴「喇叭」是哪招？TVBS又讓... 792 0.0326472049266\n",
      "名牌成癮青年　fb賣歹咪仔害人包尿布 711 0.0325541520067\n",
      "《甘味人生》2童星受傷　北市勞動局要查 447 0.0324075750959\n",
      "【更新】醉漢仆街不起　這招讓老婆帶他回家 26 0.0320356988321\n",
      "【更新】運煤機脫落　壓扁一輛休旅車 58 0.0320290913546\n",
      "【更新】鮭魚返鄉　斗六青年創業男的帥女的... 596 0.0319341357364\n",
      "【更新】蒙面3少搶檳榔攤　刀架女店員脖子... 784 0.0317444278121\n",
      "【更新】5天動員400人力　巨鯨運抵成大 393 0.0316122065863\n",
      "【更新】7天全庄大動員　抹香鯨生死全記錄 632 0.0315066149194\n",
      "新月橋置物箱大盜落網　賊辯：存開店經費 54 0.0314714614614\n",
      "【更新】苗縣府將大裁約聘雇　工鬥連線抗議 22 0.0313771954892\n",
      "【更新】首款4K防水機皇  預計11月初... 675 0.0313704809565\n",
      "【暖新聞】最感動的5秒鐘　騎士送餐輪椅伯 158 0.0309567132062\n",
      "【更新】海上故障冒煙　澎湖客輪27人獲救 459 0.0308786990393\n",
      "婊姐出門忘穿內衣　釣出她G奶晃啊晃... 799 0.0308706745717\n",
      "照顧榮民領鉅額存款　新北里長遭起訴 640 0.0307486473697\n",
      "【更新】被指收八仙門票　新北消防局長怒告... 77 0.0306486728342\n",
      "煞不住！撞13輛機車　肇事駕駛辯機械故障 527 0.0305255653194\n",
      "​蠻牛超跑撞海神？　警澄清：網友看錯了 638 0.03043911767\n",
      "保證買回？　新案未滿1周來人逾百組 533 0.0286018242963\n",
      "垂落電線害女摔車遭輾　警追夭壽偷電賊 888 0.0279573081445\n",
      "「告訴媽我會被抓去關」　女童讓他預言成真 680 0.0279349607208\n",
      "DIY手作LV？　布商販仿冒精品布料遭逮 161 0.0276509901091\n",
      "熱水器瑕疵釀火災　經銷商連帶判賠57萬 576 0.0266393119592\n",
      "【民報藍弋丰專欄】台灣健保未來何去何從? 565 0.0266198442787\n",
      "國民黨發文禁挺小英　藍里長嗆朱：違反誠信... 528 0.0263564492749\n",
      "維持現狀不能單靠北京善意 322 0.0257297517216\n",
      "蔡英文新竹拔樁　水利會長祝高票當選 59 0.0256844503241\n",
      "不滿被指「臨全會是她要開的」　洪秀柱將告... 414 0.0253642651084\n",
      "如果琉球群島住的是漢人 712 0.0253181369314\n",
      "英女皇國宴上那瓶1989年份紅酒的弦外之... 111 0.0252906474123\n",
      "反課綱的5學生遭起訴　吳思華：尊重司法 731 0.0245446079952\n",
      "只工作沒玩樂　緬甸兒童撐經濟 706 0.024374283173\n",
      "【法廣RFI】歐蘭德對希臘展開“友情”之... 416 0.0241750390118\n",
      "驗個屋　插插插插不停？ 742 0.0237197882236\n",
      "【想想論壇】南韓歷史課本「砍掉重練」 爭... 74 0.0236617645294\n",
      "伊朗最高領袖　有條件批准核談協議 367 0.023651952887\n",
      "【社企流】想要有與眾不同的求婚嗎？買只「... 60 0.0236498105816\n",
      "【更新】台新金狀告財部　彰銀案求償150... 628 0.0236010393744\n",
      "【法廣RFI】巴基斯坦總理白宮會晤歐巴馬 392 0.0234585048608\n",
      "【蘋果足球】25日賽事分析 槍手趁勝追擊... 133 0.0234376717725\n",
      "選副總統？賴清德：不回答假設問題 41 0.023318120654\n",
      "【央廣RTI】「全球通」擺爛 離島飛安現... 659 0.0231499134835\n",
      "【公庫】穿高跟鞋工作變爛腳 華航空服員要... 400 0.0231169893619\n",
      "【更新】搭小黃竟被罵豬　新計費表收據讓外... 45 0.0230922356196\n",
      "持鐵管嗆公務員　火爆男判拘 717 0.0222149753794\n",
      "【都沒好消息～】我今年成長率　花旗悲觀 597 0.0208508811701\n",
      "為了舊iPhone　戰鬥女願當眾被脫衣全... 2 0.0197747596719\n",
      "【更新】背水一戰壓力大　王溢正：「我熬過... 373 0.0195476358586\n",
      "正妹選市長　選前流出脫衣片段 768 0.0195146553141\n",
      "【更新】LPGA台灣錦標賽首日　曾雅妮7... 455 0.0194950127219\n",
      "【這不是新聞】人肉鍋米丼　再旺20年 176 0.0193605122713\n",
      "【更新】iOS 9.1凸凸凸　比新功能還... 745 0.0193460320803\n",
      "蘋果iOS 9.1表情符號　最受期待的是... 769 0.0191282301173\n",
      "《回到未來》自動綁帶鞋誕生　米高福克斯穿... 800 0.0190621348332\n",
      "【更新】勞團再點名和碩上海廠　訓練不足、... 485 0.0189354802843\n",
      "【更新】玉山箭竹開花後枯死　山林生態恐崩... 531 0.0187572211701\n",
      "瑞典男戴《星際大戰》面具　闖校園揮劍砍死... 429 0.0187416183873\n",
      "【更新】超神奇～這雙拖鞋有亮點 602 0.0184982154563\n",
      "【更新】橘子結盟日本GungHo　hig... 655 0.0181011166605\n",
      "【更新】台股盤中～8500~8750點區... 857 0.0177262255785\n",
      "【更新】大車扯斷電線　無辜騎士遭電線桿砸... 541 0.0173780718464\n",
      "【更新】東元捷正　進軍中國高階商辦 63 0.0172467800621\n",
      "【更新】資深演員田豐逝世　享壽87歲 32 0.0167463711242\n",
      "英倫只差50萬票？　蔡英文：持續看公道伯... 187 0.0158298425431\n",
      "15月內迷昏性侵殺害4男　倫敦殺人魔遭逮 550 0.01564313213\n",
      "【更新】鉛管風暴　政院動用第二預備金全面... 116 0.0156205741629\n",
      "【更新】美中南海較勁　楊國強籲支持南海和... 484 0.0154965022676\n",
      "【獨家】李珍妮告白：矇騙宣明智　全因「孩... 652 0.0152100109148\n",
      "【央廣RTI】移民湧入  斯洛維尼亞達1... 622 0.0151647167181\n",
      "【更新】強調不打房　柯：若營建業垮掉　台... 56 0.0149676176392\n",
      "【獨家】法院判登報道歉　李珍妮竟要印上這... 480 0.0149668915605\n",
      "【獨家】法院判登報道歉　李珍妮竟要印上這... 481 0.0149668915605\n",
      "公視《老師您哪位》　奪《日本賞》兒童組大... 701 0.0149435582045\n",
      "高大成助選　指女選將「GGYY」 560 0.0148196941482\n",
      "用LINE打選戰　「英永豬」貼圖現身 740 0.0148128748291\n",
      "【公督盟】監督職人教你選出好立委 讓你四... 595 0.0148103118143\n",
      "最後的孝道！不捨父曝屍　兒脫外套覆蓋 794 0.0147176232232\n",
      "【更新】「高雄教我勇敢不妥協」　洪慈庸請... 615 0.0146905316444\n",
      "【民報劉育志專欄】睜眼說瞎話的醫界大老 726 0.0146558991422\n",
      "KTV點哪首歌最令人惱火？　這首紅遍兩岸... 246 0.0145640194159\n",
      "名嘴臉書挺美寶媽被譙翻　都是為這句話 198 0.0145174350683\n",
      "【更新】同志天菜祖雄爆「被分手」　認了弄... 669 0.0144545922518\n",
      "​汽車語音操作免動手　仍會使駕駛人分心 674 0.0144466925705\n",
      "【更新】台版「華爾街之狼」　起訴狼頭羅栩... 28 0.0143589469404\n",
      "避免雙重課稅　外交部：台日談判最後階段 819 0.0143527649062\n",
      "【更新】「這不在服務項目內」　女看護竟每... 464 0.01420443489\n",
      "【蘋果數】斯德哥爾摩租房　平均等8.4年 324 0.0141776985225\n",
      "花蝴蝶執導耍大牌　狂睡覺+拖車伺候狗狗 463 0.0141599220824\n",
      "【更新】女學生​跳樓獲救　遺書：師侮辱我... 591 0.0141306301786\n",
      "【他嘴裡含著奶嘴】海灘又現難民童屍　半埋... 770 0.0140793345908\n",
      "心酸！　一張照片看清雙薪家庭的悲哀 425 0.0140720995026\n",
      "【更新】CIA局長私郵被駭　維基解密公開... 880 0.0140699961431\n",
      "超級天使基金　李詩欽籲政府協助 838 0.0139677354858\n",
      "砂石車違停槽化線　騎士酒駕直撞斷魂 805 0.0139464869016\n",
      "淫照小三倒貼情郎84萬　得恐慌症人財兩失 600 0.013944703039\n",
      "【狗仔偷拍】地表最強閃兵老爸　狂搶奶粉錢 328 0.0139383598879\n",
      "【公庫】為起訴而起訴？反課綱學生被起訴聲... 384 0.0139359803006\n",
      "建商縮手觀望　台中建照申請近腰斬 52 0.0139090750277\n",
      "【更新】糗！反賄選旗桿竟斷頭　羅瑩雪臉都... 82 0.0138776117269\n",
      "【更新】反課綱學生遭訴　顧立雄批檢方矯情 19 0.0138438860994\n",
      "【更新】一聽到這四個字　上班族就開始焦慮... 732 0.0138024451835\n",
      "闖軌道遭普悠瑪撞傷　工人斷手自行就醫 559 0.0137985228572\n",
      "【更新】她酒駕警局前肇事　只能喊「靠北啊... 774 0.0137772178944\n",
      "【更新】小S《康熙》最終來賓其實有100... 762 0.0136159365719\n",
      "你想當哪種肥貓？  335 0.0135954898406\n",
      "工人腦溢血倒地　內視鏡手術減傷害 83 0.0134732314688\n",
      "【壹週刊】Dior and I 美麗的邂... 182 0.0132365552181\n",
      "【更新】囂張角頭霸外配店　砸店逼插乾股 16 0.0132210454513\n",
      "【更新】美濃客家庄特有古蹟　遭簽字筆塗鴉 598 0.0131236217613\n",
      "【更新】我Ｆ-16 A/B升級版　 F-... 834 0.0131121970332\n",
      "孫女單車失竊　這阿公報案竟花12萬 11 0.0\n",
      "【經理人】在全聯、7-11的夾縫中生存的... 86 0.0\n",
      "孕婦買安胎藥　藥局錯給避孕藥致小產  298 0.0\n",
      "微疼：這傢伙沒救了 305 0.0\n",
      "十月二十三日財經焦點搶先看 296 0.0\n",
      "箭毒蛙、食鳥蛛　北京查獲近3萬筆非法入境... 299 0.0\n",
      "蘋果箱印「釣魚島是中國」　越南拒進口 300 0.0\n",
      "中英合資郵輪公司　擬斥資千億造超級郵輪 301 0.0\n",
      "社區前驚現相思鳥群屍　疑集體撞牆死亡　302 0.0\n",
      "嶺東科大生騎車自撞　摔落筏子溪河床 295 0.0\n",
      "前主播挨轟　臉書回嗆酸民：不爽啊？滾 10 0.0\n",
      "印尼野火影響　泰國南部遇最嚴重霧霾 303 0.0\n",
      "登革熱仍在燒　高雄疫情還有2到3周高峰 9 0.0\n",
      "H：感情問題回答之八 304 0.0\n",
      "送她保時捷卻劈車友　男女主角曝光 294 0.0\n",
      "【蘋果足球】24日賽事分析 藍軍鐵鎚交鋒... 136 0.0\n",
      "點火開關恐過熱起火　馬自達召修490萬輛... 308 0.0\n",
      "俄羅斯空襲敘利亞　每日花費最高達1.3億 306 0.0\n",
      "中東非洲爆霍亂　已現逾萬起病例 307 0.0\n",
      "不能在一起　至少最後好好分手 81 0.0\n",
      "【驚】你噴的ANNA SUI香水可能是毒... 319 0.0\n",
      "章子怡現身了　咦～變豐滿 318 0.0\n",
      "中英簽署經貿大單　林永樂：不排擠台英經貿 53 0.0\n",
      "快來打卡　搶先體驗萬聖高雄輕軌 85 0.0\n",
      "希拉蕊出席聽證會　稱為班加西事件負責 317 0.0\n",
      "餐餐麥皮減肥　小心營養不均  316 0.0\n",
      "巴基斯坦清真寺遇襲　自殺炸彈客引爆釀10... 315 0.0\n",
      "【圖解新聞】大砍敬老禮金   柯P有理嗎 314 0.0\n",
      "UN報告　女性壽命比男性多4歲 313 0.0\n",
      "美伊合作救人質　70名阿拉伯人獲救  312 0.0\n",
      "俄國空襲行動　敘利亞大使稱不會超過一年 311 0.0\n",
      "安理會討論巴以局勢　雙方代表互斥 310 0.0\n",
      "言承旭台東私會金融大亨　滿手全是傷 309 0.0\n",
      "宏泰人壽增資　土地與公募雙管齊下 12 0.0\n",
      "婚友社介紹「苗可麗」　富商一見傾心 293 0.0\n",
      "汽車路邊爆炸多人被炸飛　至少3死5傷 13 0.0\n",
      "李珍妮自述「情婦秘辛」　2個爸爸原因曝光 292 0.0\n",
      "分手後...　李珍妮的男人們忙這些 291 0.0\n",
      "新手爸累到崩潰　周董決定用這招 275 0.0\n",
      "酒駕「三振」犯擠爆監獄　他們竟不用關了 274 0.0\n",
      "「吵死人」職棒打太晚　環保署要管 273 0.0\n",
      "她超正、廚藝佳　他還是一直偷吃劈腿 272 0.0\n",
      "休旅車高速公路撞車爆炸　炸前5秒被驚險救... 51 0.0\n",
      "保時捷富商　靠「陸客」累積上億身價 271 0.0\n",
      "子女失業沒錢　45%拾荒老人養自己 270 0.0\n",
      "瞎！「肉骨獸」是食品　噗浪須做食品業登錄 15 0.0\n",
      "朱立倫只差50萬票　王金平：有望勝選 269 0.0\n",
      "「總統肖像刺在我雞上」　青年作家遭追緝 268 0.0\n",
      "銓敘部：某新市長上任　百人自請退休 267 0.0\n",
      "性侵女同事懷孕生子　還嗆「在裝什麼？」 266 0.0\n",
      "歐銀擬推QE2激勵歐美股漲　道瓊勁揚32... 265 0.0\n",
      "外資：台積InFO技術明年量產　蘋果是首... 93 0.0\n",
      "爸爸協尋小犬　台東縣政府糗問毛色 263 0.0\n",
      "醉男以為和女友做愛　醒來發現是男人 262 0.0\n",
      "命理師看祖厝陽宅　「朱立倫再旺20年」 261 0.0\n",
      "【環資報導】有必要蓋水壩？ 馬國「再生能... 92 0.0\n",
      "20多P性愛趴　規定「男生請修毛」 276 0.0\n",
      "宣明智、吳春台比較愛誰？　李珍妮這樣說 277 0.0\n",
      "女兒偶爾冒出的一句話　讓李珍妮很難過 283 0.0\n",
      "昆蟲界新移民　台灣黃蝶金門飛舞 8 0.0\n",
      "十月二十三日世界各報頭條搶先報 289 0.0\n",
      "蔡英文北市拔樁　國民黨里長近百人出席 288 0.0\n",
      "李珍妮的下一任　是符合5條件的他 287 0.0\n",
      "名媛李珍妮幽幽一句話　吐露內心小世界 286 0.0\n",
      "深喉嚨危機！　女性口交得癌增32倍 285 0.0\n",
      "不滿他指點朱立倫　國師遭民進黨冷凍 284 0.0\n",
      "惡狼一個月姦3女　還當孫子面前硬上豔嬤 282 0.0\n",
      "【特企】冬天就是要吃鍋啊! 不然要幹嘛!... 91 0.0\n",
      "花蓮怪狼出沒！　男女都是他的目標 281 0.0\n",
      "色老闆短付性侵和解金　女私取公款反遭判刑 88 0.0\n",
      "陳德容冒冷汗當菜鳥　生孩子再說啦 89 0.0\n",
      "蔡英文最重視的立委參選人　原來是他 280 0.0\n",
      "撿屍少女載到摩鐵性侵　幫她內褲穿反露餡 279 0.0\n",
      "墨毒梟挖超級地道　800M運毒密道通美國 90 0.0\n",
      "日爆黑心建商　大樓傾斜41建案遭殃 278 0.0\n",
      "2015機器人世界展　28日南韓開展 320 0.0\n",
      "媽媽女星欠主婦緣　嫌貧愛富惹人怨 323 0.0\n",
      "台日荷光碟機廠　遭歐盟開罰43億 321 0.0\n",
      "比卡麥隆有種　倫敦男拿「人權」K爆習粉 65 0.0\n",
      "運動球隊品牌價值　洋基湖人皇馬領銜棒籃足 66 0.0\n",
      "陸官校友授「挺倫」戰旗　朱立倫再向柱姐致... 67 0.0\n",
      "長崎札幌神戶　名列日本新三大夜景都市 372 0.0\n",
      "獅城河邊釣水獺　小水獺被鈎到滿身傷 371 0.0\n",
      "又痛又髒？　破除肛交的六大迷思 370 0.0\n",
      "越南足球寶貝涂靈　傳性愛片外流遭否認 369 0.0\n",
      "【動新聞】18歲美胸模特兒　渾圓D奶露出 368 0.0\n",
      "【社企流】實驗室白老鼠的救星，「虛擬老鼠... 68 0.0\n",
      "【獨家】​為了LINE貼圖　女學生獻出露... 366 0.0\n",
      "【民報】罕病勇士仁佑──用打字板呼喚世界... 69 0.0\n",
      "《蘋果360》遊不倦「淡水風情」　賞千金... 365 0.0\n",
      "人妻最常靠北的4大話題 364 0.0\n",
      "【特企】限定版創意藝術盛宴 2015東京... 363 0.0\n",
      "超浪漫！　這支廣告感動近千萬網友 70 0.0\n",
      "學成這10招　直接開除老闆 362 0.0\n",
      "APP隨時看　網路攝影機熱賣 361 0.0\n",
      "一劍浣春秋：收兩份安家費的正妹 360 0.0\n",
      "債限當頭　美財政部取消公債標售案 374 0.0\n",
      "【公庫】鑽個資法漏洞 政府大量開放人民資... 375 0.0\n",
      "74歲畫LINE貼圖　APP讓藝術動起來 55 0.0\n",
      "【公庫】玉山箭竹死光光？ 山林生態開天窗... 376 0.0\n",
      "【更新】麥當勞股價創新高　道指勁揚224... 391 0.0\n",
      "【更新】麥當勞股價創新高　道指勁揚224... 390 0.0\n",
      "小英南下輔選老柯前夕　邱顯智再喊民調整合 389 0.0\n",
      "南韓現霧霾　當局籲少外出 388 0.0\n",
      "柱姐募款不足　葉匡時：曾向黨部借支三千萬... 61 0.0\n",
      "NBA 5大噴錢球隊　誰又最超值？ 62 0.0\n",
      "大都會國聯封王關鍵　重用農場新秀 386 0.0\n",
      "超越勝負的一刻　全場象迷：陳金鋒！陳金鋒... 385 0.0\n",
      "「不要亂咬人」　呂忠吉嗆消防局長錄音曝光 64 0.0\n",
      "【公庫】南科「台積電」擴廠 民團要求交代... 383 0.0\n",
      "【法廣RFI】大陸經濟疑患日本綜合症 382 0.0\n",
      "為了舊iPhone　戰鬥女願當眾被脫衣全... 3 0.0\n",
      "巴基斯坦2025年　成第五大核武國 381 0.0\n",
      "【公庫】怪手大鏟將落下 柯P誠信誰來顧？ 380 0.0\n",
      "【公庫】苗縣府爛政無能 約聘僱代罪羔羊 379 0.0\n",
      "【更新】王溢正119球完投勝　桃猿保住一... 378 0.0\n",
      "【法廣RFI】法國總統訪希臘鞏固雙邊友誼 377 0.0\n",
      "【今日壽星】李安導演路坎坷　煮夫熬成台灣... 359 0.0\n",
      "限量頂級調酒一杯10萬　百年陳酒當基底 358 0.0\n",
      "台北溫泉季下周登場　飯店下殺4.5折 357 0.0\n",
      "10月23日(五)　全球重要經濟數據預覽 356 0.0\n",
      "是什麼狀況讓喵星人臉色大變 337 0.0\n",
      "重拾琴鍵找自己　清大生自創曲奪銀 73 0.0\n",
      "《WhatsApp》支援 3D Touc... 336 0.0\n",
      "老外為何來台念書？　中文可不是唯一解 334 0.0\n",
      "FB罵塵爆患者　遭辱「豬生狗養貓帶大」　75 0.0\n",
      "釐清抹香鯨死因　成大開始解剖 76 0.0\n",
      "【祕密客】瞞著親友，祕室吃懷石 333 0.0\n",
      "汪星人傻傻跟鬧鐘嗚嗚叫   332 0.0\n",
      "【旅途中】喝過高粱　但看過長在地上的高粱... 331 0.0\n",
      "張曼娟：矯情的野餐 330 0.0\n",
      "匿名靠北比較爽  《BAND》揪掰掰啾啾... 329 0.0\n",
      "智擎癌症新藥安能得　獲美FDA核准 78 0.0\n",
      "恁祖媽做過比颱風天泛舟更瘋狂的事… 327 0.0\n",
      "扒光全身拍裸照　逼女加簽「放棄追訴書」 326 0.0\n",
      "吳佳璇：兒子陪女同學上旅館 325 0.0\n",
      "李全教律師要求補證據　今年審不完 79 0.0\n",
      "民法將重大變革　老人可不限血緣自定監護人 259 0.0\n",
      "舉辦世大運電競會外賽？　柯Ｐ：可以！ 7 0.0\n",
      "江春男：普京的賭注 338 0.0\n",
      "地表最強！ 這女孩好會頂 339 0.0\n",
      "皺眉巴哥犬超療癒系 348 0.0\n",
      "來一口好萌的「喵喵握壽司」！ 355 0.0\n",
      "【消夜文】不能原諒的是…. 354 0.0\n",
      "醫師納入勞基法的「八年疑毒」 353 0.0\n",
      "出現「藍眼貓」！美得令人屏息！ 352 0.0\n",
      "烏龍交易到世界大賽　佛羅瑞斯心懷感謝 5 0.0\n",
      "這裝扮 讓你想起童年了嗎？ 350 0.0\n",
      "【占卜】你在哪方面APEC藍？ 349 0.0\n",
      "疑介入布裘當小三　席艾娜喊冤覺得扯 347 0.0\n",
      "看樣子 是該勸敗頭部按摩器了 340 0.0\n",
      "LPGA台灣賽次輪妮妮73桿　港星任達華... 6 0.0\n",
      "Gigi升格俏人妻　放閃新婚「挺不賴的」 71 0.0\n",
      "超級萬人迷！超帥氣性感的「貓模」 345 0.0\n",
      "怎樣都能睡！喵星人的無敵睡功 344 0.0\n",
      "貪吃毛小孩，遇美食失控了… 343 0.0\n",
      "哭哭！親愛的主人為何要這樣對待我 342 0.0\n",
      "趙少康：朱立倫速提路線圖 341 0.0\n",
      "電車痴漢自慰　女乘客黑裙遺留白色液體 260 0.0\n",
      "荷蘭足球傳奇驚傳肺癌 50 0.0\n",
      "【財訊】莫把空頭反彈當回升 258 0.0\n",
      "【更新】台股盤後～上漲65點　周線連4紅 35 0.0\n",
      "一滴血阻悲劇　黏多醣症新生兒可免費篩檢　180 0.0\n",
      "卡麥隆籲習近平　北京別干預香港選特首 179 0.0\n",
      "萬華青年宅流標4次　林洲民：今開標樂觀 178 0.0\n",
      "台幣午盤～ 32.384元　升值 2.7... 123 0.0\n",
      "議員問英倫總統大戰挺誰　柯P未表態 177 0.0\n",
      "希拉蕊戰11小時好耐操　聽證會唇槍舌戰 46 0.0\n",
      "【愛思唯爾】大豆異黃酮對氣喘控制有助益？ 175 0.0\n",
      "世界最大的「陸地造船」　就在高雄 174 0.0\n",
      "9月北美B／B值1.07　創6個月新高 125 0.0\n",
      "1件雨衣和1張悠遊卡　體驗真的街頭生活 44 0.0\n",
      "睽違2年重返伸展台　金宇彬好害羞 173 0.0\n",
      "他一路「翹」著爬上去　網友看傻眼 172 0.0\n",
      "超離奇！20多隻相思雀集體撞牆「自殺」 171 0.0\n",
      "大都會世界大賽前休5天　手感有待觀察 170 0.0\n",
      "趙藤雄：大巨蛋完工恐遙遙無期 126 0.0\n",
      "為何台灣人愛機車？網友啪啪啪神打臉 169 0.0\n",
      "荒唐！摸骨看相猥褻少女　港名校教師是慣犯 33 0.0\n",
      "2歲娃衝車道遭輾斃　阿姨辯「他不喜歡被牽... 181 0.0\n",
      "【特企】房市大追擊-高房價到底是誰的錯？ 183 0.0\n",
      "無良男逼老婆下海　4年接客2742人 184 0.0\n",
      "冰冷生鏽的「它」 也能為人生增添溫暖 118 0.0\n",
      "蔡正元誇賴神「政績超越印度」　不過是這項 27 0.0\n",
      "Sit down Please的龍蝦　這... 115 0.0\n",
      "連機器人也會空虛寂寞覺得冷？ 117 0.0\n",
      "【愛漂亮】聖誕彩妝好俏皮 植村秀×MAI... 193 0.0\n",
      "【愛飛遜】港排推潮服 迎星際大戰7 192 0.0\n",
      "殷仔去哪兒？　美媒點名老虎 191 0.0\n",
      "Google財報優　股價飆新高 190 0.0\n",
      "她包包都給男生朋友拿　網友：手斷了嗎？ 189 0.0\n",
      "色老頭戴屌環　公車對女大生獻寶 122 0.0\n",
      "余祥銓緋聞女死會　透露想婚頭 188 0.0\n",
      "《華爾街之狼》翻版　大使名醫成「人形立牌... 119 0.0\n",
      "鐵道專家使出這一招　拯救阿里山鐵路 120 0.0\n",
      "搜救AT-3物資堆成垃圾山　軍方清理完畢 30 0.0\n",
      "【民報余杰專欄】中國人殺中國人最爽 186 0.0\n",
      "【建案搶先看】搞懂建蔽率　生活品質不GG 121 0.0\n",
      "營養午餐連兩天出包　銅鑼燒也當一道菜 31 0.0\n",
      "兄攙妹冒險穿越火源　同葬身火窟   34 0.0\n",
      "【壹週刊】萬聖節就是要敷搞怪面膜啊～搞怪... 166 0.0\n",
      "【環資報導】不蓋堤防蓋罐頭工廠？ 黑潮町... 114 0.0\n",
      "捐血人好福利　下月起捐血可驗膽固醇 165 0.0\n",
      "前RCA工人抗議　爭全面職災給付 150 0.0\n",
      "官方利多齊發！　中國新屋價連5月漲 149 0.0\n",
      "金價中期看漲　黃金ETF好吸金 148 0.0\n",
      "【建案搶先看】皇冠花園　千坪公園第1排 147 0.0\n",
      "臉書搜尋功能升級　公開貼文都能搜 132 0.0\n",
      "80公斤是壁花　她減到54公斤變校花 146 0.0\n",
      "18大五中全會下周登場　陸股蓄勢待發 145 0.0\n",
      "【更新】台股盤中～大漲逾百點　站上3個月... 144 0.0\n",
      "【建案搶先看】天龍新案大安齊麟　單價沒破... 143 0.0\n",
      "【唱新聞】《依靠》切不斷　周董畊宏是堅情... 134 0.0\n",
      "【建案搶先看】11月　皮包掏出來繳地價稅... 135 0.0\n",
      "朱立倫帶職參選　毛揆：民選公職依法請假所... 42 0.0\n",
      "疑被戴綠帽　港男狂踢妻男伴：搞我老婆！ 43 0.0\n",
      "長跑習慣　馬總統：感謝陸戰隊養成 141 0.0\n",
      "【財訊】兄弟象、黑豹旗好球連發　辜仲諒樂... 140 0.0\n",
      "朱立倫訪美　林永樂：不介入行程規劃 139 0.0\n",
      "插管翁停紅線　外籍看護騎樓哈啦 138 0.0\n",
      "【央廣RTI】揭黑衣部隊神秘面紗 總統：... 131 0.0\n",
      "三寶不要來　明明紅燈還要闖 40 0.0\n",
      "穿越成功！《回到未來》時光車衝Live秀 152 0.0\n",
      "北市公有路邊汽車格　12月1日起全面收費 37 0.0\n",
      "4年要蓋2萬戶公宅　柯Ｐ：我也不敢大聲講 164 0.0\n",
      "八仙塵爆家屬再爆不合　發言人遭踢出群組 163 0.0\n",
      "房市去哪兒？　專家：短期看壞長期看好 36 0.0\n",
      "向習近平抗議　六四流亡者遭英警逮捕 162 0.0\n",
      "大象寶寶是小象　但圓仔不是小貓熊 127 0.0\n",
      "另一半想當家庭主夫？　女鄉民熱議 160 0.0\n",
      "有影無？緣投就有票！  128 0.0\n",
      "ITTF波蘭公開賽莊智淵領軍　日本華裔神... 159 0.0\n",
      "卡麥隆夫人時尚回禮　贈彭麗媛Albion... 153 0.0\n",
      "痴男強擄女上車　討LINE「想跟妳做朋友... 129 0.0\n",
      "朱立倫選情大好 竟是…. 38 0.0\n",
      "​3歲小孩開大車　因為醉媽摔出去了 39 0.0\n",
      "【央廣RTI】 北韓欲締和平 美：除非放... 156 0.0\n",
      "高鐵新三站下月4日開放　新票價可望同步開... 155 0.0\n",
      "參觀孔子學院　習近平稱中國兒童「玩太少」 130 0.0\n",
      "安卓機晶片評比出爐　發哥比高通強！ 154 0.0\n",
      "【讀者直擊】悲劇！一大早就被從後面來 197 0.0\n",
      "【央廣RTI】核彈頭太多 歐巴馬籲巴基斯... 199 0.0\n",
      "女店員手指按超快　網友：師父是加藤？ 257 0.0\n",
      "異哉！敬老金竟成了不是問題的問題 102 0.0\n",
      "藥頭討錢使賤招　傳超A照給客戶 240 0.0\n",
      "找工作「四不政策」　網友幫找最爽工作 239 0.0\n",
      "焦點股～上證昨拉尾盤　陸股ETF放量 238 0.0\n",
      "【財訊】國師中的國師　挺柱幕後關鍵推手原... 237 0.0\n",
      "小S嚷「老娘累了」　點召百人送別團 236 0.0\n",
      "Q版漫畫羽絨衣　MONCLER東京獨賣 235 0.0\n",
      "【奶姬妹】九把刀劈腿1周年　妮妮發現兩百... 17 0.0\n",
      "豪哥輪休沒上　黃蜂熱身賽最終戰吞首敗 234 0.0\n",
      "樂點獲第3方支付營運執照　年底前推出 18 0.0\n",
      "陸配子跳樓　警大教授轟「老師不可原諒」 233 0.0\n",
      "這10個暗黑秘密　大家都不敢跟愛人說 232 0.0\n",
      "【環資報導】從利維坦到莉維達：捕魚船上的... 99 0.0\n",
      "瑞典最慘校園攻擊　動機與種族有關 231 0.0\n",
      "【網路溫度計】新手爸媽必看！網友推薦十大... 230 0.0\n",
      "背水一戰　藍鳥盼普萊斯找回王牌身手 229 0.0\n",
      "說到做到！　國軍把空投垃圾清光了 48 0.0\n",
      "鄭明典在抽屜裡　發現了這本「秘笈」 101 0.0\n",
      "300萬人看他翻身　小白熊15秒扭扭萌翻... 241 0.0\n",
      "台幣開盤～32.66元　早盤升值逾2角 242 0.0\n",
      "國際股市大漲激勵　台股早盤漲逾百點衝破8... 243 0.0\n",
      "酒駕累犯不三振  中檢太「善良」 96 0.0\n",
      "KO二百斤山豬　80歲老獵人傷重送醫 137 0.0\n",
      "以巴仇恨何時了 　女童：搶我土地用刀捅你 256 0.0\n",
      "捷運站前這一幕　忍不住讓人「認同分享」 255 0.0\n",
      "她只講3個字　男友一秒出櫃 254 0.0\n",
      "大貓無誤 公獅玩足球不怕水 253 0.0\n",
      "【環資報導】修樹就讓專業的來！ 台灣第一... 95 0.0\n",
      "金屬風迷你桌機　搶搭Win 10 252 0.0\n",
      "汪汪秀神技　隔空咬彈珠 251 0.0\n",
      "控601旅集體霸凌　女中尉反遭起訴 98 0.0\n",
      "好聰明　法鬥拿玩具換零食 250 0.0\n",
      "小隻女有這些困擾　152公分的她想長高 249 0.0\n",
      "【民報】唉,強國人!水果箱印釣魚台屬中國... 248 0.0\n",
      "看看背後　別讓孩子學你做一樣的事 247 0.0\n",
      "做一半喊停男不從　援交女打電話報警 49 0.0\n",
      "今晚會開出來嗎？大樂透頭獎保證1億元 245 0.0\n",
      "【特企】蘋果賞屋祭  全省動員看房去 244 0.0\n",
      "周杰倫親情友情攏聊　盼劉畊宏靠自己 228 0.0\n",
      "【痞客邦】召喚靈魂曾有過的純粹部分：《小... 227 0.0\n",
      "女結婚提處女證明　為完璧之身感榮耀 200 0.0\n",
      "少年想自立　誤當車手取贓款 103 0.0\n",
      "【TOMO雙語爆】中駐菲領事遭槍擊2死1... 211 0.0\n",
      "人夫道歉的LINE　最後一句100%真心 210 0.0\n",
      "民政局長出席小英活動　柯團隊挨批行政不中... 209 0.0\n",
      "綠委籲公布全台性侵熱點　陳威仁：此類犯罪... 23 0.0\n",
      "習近平喝啤酒吃炸魚薯條　想加鹽添醋 207 0.0\n",
      "下周汽油估降0.5~0.6元　台塑擬提早... 206 0.0\n",
      "【明星輕小說】鍾欣凌一定要做6次　老公已... 205 0.0\n",
      "【愛思唯爾】下呼吸道感染是引發氣喘主因 204 0.0\n",
      "【央廣RTI】死亡慰問金發放須公平  R... 109 0.0\n",
      "日正妹女星上節目遭公然襲胸　金鋼狼傻眼 24 0.0\n",
      "周休假日降雨趨緩　下周一起多雲到晴 203 0.0\n",
      "【央廣RTI】酒駕可易科罰金 內政部盼尋... 202 0.0\n",
      "施工乙炔爆　誤傳嘉義空軍基地砲炸 25 0.0\n",
      "台版華爾街之狼　集團海撈2.4億 110 0.0\n",
      "日月光高雄中水廠　回收處理百萬噸水 112 0.0\n",
      "影后掉漆！浪漫風禮服竟是去年貨 201 0.0\n",
      "機械夯錶誠實說　製程大公開 113 0.0\n",
      "【環資報導】溫室氣體排放創歷史新低 歐盟... 108 0.0\n",
      "【特企】富邦LPGA第二輪 看曾雅妮的好... 212 0.0\n",
      "【更新】為飛安會主委任命致歉　毛揆：我虛... 107 0.0\n",
      "修杰楷街頭勾女　把賈靜雯關家裡 220 0.0\n",
      "林書豪黃蜂球迷版主、客場球衣即日開賣 104 0.0\n",
      "歐登：不再碰毒　與科勒卡達夏重修舊好 226 0.0\n",
      "元配大罵「賤貨」　小三當街遭暴打扒衣 225 0.0\n",
      "​酒駕三振只易科罰金？　內政部憂心酒駕恐... 224 0.0\n",
      "掰囉！烟花不會是颱風　已成溫帶氣旋了 223 0.0\n",
      "清純制服妹害羞嘟嘴　一開口讓萬人醉了 222 0.0\n",
      "焦點股～證交所降溫　倫飛漲停變跌停 221 0.0\n",
      "【TOMO雙語爆】鄰居觸八旬老婦霉頭　設... 219 0.0\n",
      "【TOMO雙語爆】洛城近3年內　強震機率... 213 0.0\n",
      "【TOMO雙語爆】寵物犬慘死門前　被警察... 218 0.0\n",
      "南韓Q3成長創5年新高　韓元強彈 105 0.0\n",
      "【TOMO雙語爆】法國水手遇風暴　驚險帶... 217 0.0\n",
      "徹底翻身！John Galliano設計... 47 0.0\n",
      "歐銀這份QE聖誕禮　亞股嗨了 216 0.0\n",
      "【TOMO雙語爆】美戰鬥機墜毀英國　機身... 215 0.0\n",
      "【TOMO雙語爆】「路怒」駕駛槍殺四歲女... 214 0.0\n",
      "搶攻客家票　英倫新竹首度拼場　  57 0.0\n",
      "【民報】魏揚代表軍公教聯盟黨參選？是的！... 450 0.0\n",
      "陸客疑拒絕購物遭打死　家屬認屍要求伸張正... 394 0.0\n",
      "擋工商團體降健保費率　健保署今表態：維持... 748 0.0\n",
      "獅子老虎瘦成皮包骨　北京動物園說天生的 746 0.0\n",
      "【央廣RTI】台灣討海人的「海上情書」 744 0.0\n",
      "【MLB】Colabello陽春砲 藍鳥... 739 0.0\n",
      "【金保會】項俊波：兩岸保險有3大合作 738 0.0\n",
      "【金保會】台資保險業入福建　露曙光 737 0.0\n",
      "韓女團前偶像賣淫　潔西卡、雪莉遭點名 736 0.0\n",
      "「假釋一定報復」　狠夫殺妻女改判死刑 735 0.0\n",
      "人為還是真倒楣　民宅一周燒3次 734 0.0\n",
      "超跑蠻牛撞海神　網友：有錢人的邂逅 733 0.0\n",
      "美男花1萬8買土地　「獨立建國」10年 730 0.0\n",
      "【央廣RTI】最後團聚 兩韓家屬心痛道別... 729 0.0\n",
      "組工會要30人　勞團批門檻太高 728 0.0\n",
      "【直擊】曾銘宗上山下海的祕密武器是... 727 0.0\n",
      "美眉海灘脫光拍照　沙巴警追中國客 725 0.0\n",
      "​CNN搶數位市場　新網站推影音新聞 724 0.0\n",
      "光寶攜手清大　研發穿戴大數據 723 0.0\n",
      "【央廣RTI】夏立夫會歐巴馬 將拒對戰略... 722 0.0\n",
      "政大團隊幫原民部落建育幼園　獲51家企業... 721 0.0\n",
      "柯P的道管中心監管挖路　議員抽檢：沒畫面 720 0.0\n",
      "吳思華：後頂大計畫方案　今年底定案 716 0.0\n",
      "台灣9月手機銷量創低　三星拿3冠王 715 0.0\n",
      "EDWIN迦績褲進化　搶50億牛仔市場大... 747 0.0\n",
      "柯P兌現政見　北市試辦5處社區公共保母 749 0.0\n",
      "綠色和平呼籲　啃蘋果廠商加快能源轉型 646 0.0\n",
      "YSL專製酷味學院包　眾星列隊粉絲團 750 0.0\n",
      "【環資報導】金門新紀錄種 「台灣黃蝶」大... 776 0.0\n",
      "【環資報導】高速經濟發展 婆羅洲12座巨... 775 0.0\n",
      "不想看廣告？　YouTube推付費免廣告... 773 0.0\n",
      "【環資報導】企業界的敵意：為什麼全球的大... 772 0.0\n",
      "中移動將參股？　聯發科：法規仍受限　經部... 771 0.0\n",
      "霸氣懸賞　找到他的狗、送你一間房 767 0.0\n",
      "撞死人巡邏車才開半月　警將全面普查 766 0.0\n",
      "【想想論壇】讓羅斯福夫人幫朱立倫上一堂課... 765 0.0\n",
      "蝙蝠車在台灣？　這車屁股帥到閃瞎網友 764 0.0\n",
      "陸客在港又被騙　9.6萬藥材四川只賣10... 763 0.0\n",
      "白天坐著就會睡著　小心睡眠呼吸中止症 761 0.0\n",
      "【TOMO雙語爆】假招募AV男優　射了就... 760 0.0\n",
      "【TOMO雙語爆】CIA老闆被駭了！駭客... 759 0.0\n",
      "惡狼性侵男女不拘　重判14年 758 0.0\n",
      "年紀一大把了　竟搞暗巷飛車搶奪 757 0.0\n",
      "【TOMO雙語爆】夫妻遭綁匪勒死　陳屍車... 756 0.0\n",
      "【TOMO雙語爆】佛州鼓手莫名遭警槍殺 755 0.0\n",
      "【讀者直擊】畢業取景　攝影師搏命演出 754 0.0\n",
      "【TOMO雙語爆】美國市長競選海報惹辱華... 753 0.0\n",
      "【TOMO雙語爆】紐約警匪槍戰　員警額頭... 752 0.0\n",
      "YSL專製酷味學院包　眾星列隊粉絲團 751 0.0\n",
      "婆婆媽媽在哭泣　「菜價嚇死人」問題在哪裡 714 0.0\n",
      "楊一展台北夜會天心　江祖平隔海想吐 713 0.0\n",
      "超正妹周子瑜媽媽曝光　一家都好正！ 710 0.0\n",
      "【MLB】Tulowitzki清壘二壘打 709 0.0\n",
      "一封母親的感謝信　讓人對小屁孩改觀 676 0.0\n",
      "迎接萬聖節　遊樂園推出「殭屍」高空彈跳 673 0.0\n",
      "沃草「開箱」立委候選人，幫你剖析第三勢力... 672 0.0\n",
      "【TOMO雙語爆】失蹤理工大學生 發現倒... 671 0.0\n",
      "【TOMO雙語爆】擬真貓手提包上市 日本... 670 0.0\n",
      "【TOMO雙語爆】新墨西哥州公路意外 四... 668 0.0\n",
      "【TOMO雙語爆】露鳥俠被捕 坦承犯案千... 667 0.0\n",
      "渣男擺闊請多金女喝酒　竟用這方法付錢 666 0.0\n",
      "【TOMO雙語爆】科學家發明彈性海綿 可... 665 0.0\n",
      "賭王四太又穿舊鞋　愛馬仕踩3回 664 0.0\n",
      "朱立倫憑什麼敢幻想國會過半？ 663 0.0\n",
      "【壹週刊】黃立成急出國原因曝光　想賣Ap... 662 0.0\n",
      "台電包商撞安全島　手煞車刺進小腿 661 0.0\n",
      "小四生寫下的話　讓大人看了慚愧了..心痛... 658 0.0\n",
      "【民報】罕病小勇士不畏病痛 努力站上自己... 656 0.0\n",
      "速食店拿鐵附贈棉花糖　竟過期1個月 654 0.0\n",
      "小情侶興趣是整形　要整成芭比和肯恩 653 0.0\n",
      "我本季手機品牌出貨成長　華碩居冠 651 0.0\n",
      "鉛毒怎麼防　林杰樑臉書的10個叮嚀 650 0.0\n",
      "租屋遇八卦鏡　免驚！ 649 0.0\n",
      "​王菲終於出新專輯啦！發行老闆竟19歲 648 0.0\n",
      "新台幣收盤~32.658元　貶值1角 677 0.0\n",
      "貓空文人座談沙龍　貓纜咪咪站長搶鏡 678 0.0\n",
      "英國探夫1趟　Janet損失80萬 679 0.0\n",
      "王少偉緋聞女起底　竟是潤泰總裁姪女 696 0.0\n",
      "【更新】明星加持　新光信義店周年慶首日人... 708 0.0\n",
      "楊冪累了　高跟換平底美腿100分 707 0.0\n",
      "夏于喬不認約會　打槍威廉「沒想談戀愛」 705 0.0\n",
      "浩角翔起失聲的真相　牛羊睪丸混搭吃～ 704 0.0\n",
      "【新新聞】姚人多：朱立倫的三不 703 0.0\n",
      "小屁孩要當心了　高市警察有新武器 702 0.0\n",
      "【TEDxTaipei】2015 Big... 700 0.0\n",
      "【MLB】Bautista二壘安打 699 0.0\n",
      "永遠睜一眼閉一眼　別惹睡著的鱷魚 698 0.0\n",
      "安卓霸主　台灣三星：J7銷量居9月市場之... 695 0.0\n",
      "用空拍機顧農田　交大印尼生勇奪亞軍 681 0.0\n",
      "【圖解新聞】全球有多少棵樹？何時會光禿禿 692 0.0\n",
      "大都會4連勝橫掃小熊　睽違15年再闖世界... 691 0.0\n",
      "見妻留言「今天MTV很開心」　人夫怒了 690 0.0\n",
      "周杰倫抱怨劉畊宏　用照片ok「但掛太多」 688 0.0\n",
      "彭麗媛「化妝事故」　微博急刪圖文 687 0.0\n",
      "【MLB】Perez陽春砲 皇家破蛋 686 0.0\n",
      "【MLB】Pillar二壘打 藍鳥7:2... 685 0.0\n",
      "【央廣RTI】歷史課綱諮詢小組 本週底定 683 0.0\n",
      "【更新】有爭議卻不出席協商　LINE、U... 682 0.0\n",
      "怒氣未消　邱于芸臉書批：「這個人」偽善！ 777 0.0\n",
      "啥公司跟朱立倫一樣　請假3個月只扣5天薪... 778 0.0\n",
      "《順風》美月4ni　人造僵臉認不得 779 0.0\n",
      "華紙減資後恢復交易　今飆漲至5個月新高 844 0.0\n",
      "【更新】蘭嶼核廢料遷移　擬在無人島集中貯... 871 0.0\n",
      "省錢再出招　柯P：擬建立公共場域認養制度 870 0.0\n",
      "可口可樂在中國偽造環評數據　高層被逮 869 0.0\n",
      "三星電機Q3淨損　6年來最慘 868 0.0\n",
      "台韓打工度假需求高　外交部：明年擴增至6... 867 0.0\n",
      "炫富無極限！梅威瑟再花2.1億買2台超跑 866 0.0\n",
      "米堤飯店名人樹　曾銘宗上榜 865 0.0\n",
      "小熊「山羊魔咒」太強　「金臂小子」加持無... 863 0.0\n",
      "小熊GG  「回到未來2」預言失準　山羊... 861 0.0\n",
      "【愛思唯爾】工時長增加中風風險 860 0.0\n",
      "新光三越信義周年慶　首日「績」戰9億 859 0.0\n",
      "國安新型保密手機　楊國強：宏達電生產 858 0.0\n",
      "還在研擬的政策都被外界知道　柯P：真可怕 856 0.0\n",
      "【愛思唯爾】刺青者在言語上容易有侵略性  855 0.0\n",
      "服貿等5法案　藍委：被在野黨杯葛54次 854 0.0\n",
      "遭批球員兼裁判　沈啟：請辭飛安會主委及委... 852 0.0\n",
      "【財訊】馬雲的全球電商大夢　「雙十一」前... 851 0.0\n",
      "議員質詢聲音大讓他笑翻？柯P：怎問這題？ 850 0.0\n",
      "又有颱風　颱風「烟花」恐在今明兩天生成 849 0.0\n",
      "金立群：台灣參加亞投行　是兩岸家務事 848 0.0\n",
      "【特企】好康大獎一波波，長榮航空「玩遊世... 846 0.0\n",
      "【黑豹旗戰果】投手戰變打擊戰　永靖高工險... 872 0.0\n",
      "鼓勵移居市郊　政府減稅優惠？ 873 0.0\n",
      "1至8月實質本薪8年來最高　仍不如15年... 874 0.0\n",
      "【科技新報】日本郵政下月東證掛牌，估將為... 889 0.0\n",
      "帥氣汪汪跳舞　律動感十足 898 0.0\n",
      "卡達夏不離不棄撤消和歐登離婚 897 0.0\n",
      "國民黨滅亡倒數？姚立明：就在2024年.... 896 0.0\n",
      "【特企】富邦LPGA今天中午《蘋果Liv... 895 0.0\n",
      "晶片身分證　內政部：結合自然人憑證、健保... 894 0.0\n",
      "【央廣RTI】美國警長聯名疾呼 降低監獄... 893 0.0\n",
      "特偵組查換柱　藍批綠：意圖干擾選舉的奧步 892 0.0\n",
      "傳朱立倫醫界找副手　藍委：尊重朱決定 891 0.0\n",
      "警撞死姊妹「沒錄到」　警署要求調路口監視 890 0.0\n",
      "​糗　彭麗媛滿臉白粉　習近平演說讓人倦 886 0.0\n",
      "小孩不會說謊　一張圖秒懂語言的差異 875 0.0\n",
      "【更新】墨菲連6戰開轟創紀錄　國聯冠軍戰... 885 0.0\n",
      "台灣第一人　王建堂奪大阪國際音樂賽絃樂組... 884 0.0\n",
      "A9為旗艦舖路？　網淚：雙喇叭不能亡 883 0.0\n",
      "教師、醫師納《勞基法》　勞動部長：不贊成 882 0.0\n",
      "《康熙》走了　小S魔音穿腦Line貼圖來... 881 0.0\n",
      "【無國界醫生】無國界醫生：難民要抵達目的... 879 0.0\n",
      "惡男做了這件事　讓好友全變表兄弟 878 0.0\n",
      "【愛思唯爾】登革熱國際學術論文免費下載 877 0.0\n",
      "「添好運」徵主任　薪水讓網友驚了 876 0.0\n",
      "時尚圈好大　法國非洲一起做運動鞋　845 0.0\n",
      "【央廣RTI】賽事、表演噪音過大 環保署... 843 0.0\n",
      "女提分手　男竟Line「裸照寄給你未來結... 780 0.0\n",
      "雲豹育成將獨立　5企業入股集資3億元 842 0.0\n",
      "【更新】開車A到這匹「馬」　賣車、脫褲也... 811 0.0\n",
      "太陽能Q4賺錢　英業達：Q3獲利比預期好 810 0.0\n",
      "剃光頭表決心？　朱立倫自嘲：頭髮已不多 809 0.0\n",
      "嬰兒飯糰後 日本再掀貓臉飯糰風 808 0.0\n",
      "【愛思唯爾】研究發現238個可延緩老化的... 807 0.0\n",
      "《甘味人生》拍戲車禍　佑佑斷手壯壯擦傷 806 0.0\n",
      "特偵組很「誠懇」辦案 但… 804 0.0\n",
      "恐怖情人不甘分手　竟潑漆放火還恐嚇　803 0.0\n",
      "三創樓層變更回饋　議員批：北市府節節退讓 802 0.0\n",
      "宋家豪從樂天回國家隊　27日熱身賽登板 801 0.0\n",
      "更生人勸人戒毒　連兒子也說讚 798 0.0\n",
      "蘋果攜手鴻海　打造綠色中國供應鏈 796 0.0\n",
      "薪水被長官A了！　惡主管8年吞薪347萬 795 0.0\n",
      "上班第一件事？　網友答案超有感 793 0.0\n",
      "不舉夫幻想戴綠帽殺妻　子女要他關到死 791 0.0\n",
      "可樂迷可樂了！聯名膠囊系列開賣 790 0.0\n",
      "復康巴士司機　接送身障少女竟性侵 788 0.0\n",
      "地球發燒了！　今年9月全球均溫創新高 786 0.0\n",
      "黃子佼良心推薦　王心凌破蛋前要停機 785 0.0\n",
      "【環資報導】「狩獵讓我們體認山林智慧」 ... 782 0.0\n",
      "【環資報導】「就像室內禁菸」 挪威奧斯陸... 781 0.0\n",
      "朱立倫失言、失格、耍嘴皮   812 0.0\n",
      "捕到《封神榜》神獸？ 溫州3男肢解叫賣 815 0.0\n",
      "5億美元聯貸案　英業達完成 817 0.0\n",
      "刺龍刺鳳算什麼！刺「梵谷」才厲害 830 0.0\n",
      "​劉畊宏相熟周董有苦水　「想跟他切割」 841 0.0\n",
      "買賣屋自己來？　房仲：小心誤觸「地雷」 840 0.0\n",
      "心理也會感冒　專家：接受自己「需要幫忙」 839 0.0\n",
      "面對社會壓力，檢察官頂不頂得住？ 837 0.0\n",
      "思念亡母闖公墓　醉男控警施暴 836 0.0\n",
      "【愛飛遜】煽動者X RECOVERY推聯... 835 0.0\n",
      "吃在嘴裡  甜在心裡 ♥ 833 0.0\n",
      "新台幣午盤~32.434元　升值1.24... 832 0.0\n",
      "限量衝浪板 獨特設計美如畫 831 0.0\n",
      "請辭獲政院核准　飛安會主委沈啟：那就好！... 829 0.0\n",
      "當小一新生看到同學作弊… 818 0.0\n",
      "身高155有救了！　網友教他這招找妹 828 0.0\n",
      "批遭總動員攻擊 　朱立倫：民進黨不再躺著... 827 0.0\n",
      "換柱之後該換蔡心和朱腦 826 0.0\n",
      "朱立倫首度下鄉　台中議會搏麻吉 825 0.0\n",
      "魚丸煮到睡著　火警破門他還在睡 824 0.0\n",
      "出乎意料　中颱薔琵竟然又增強 823 0.0\n",
      "蟑螂竄出害工讀生燙傷　50嵐僱主判賠29... 822 0.0\n",
      "解決社子島爭議　柯P將到當地居民家中住一... 821 0.0\n",
      "【更新】換柱錄音帶　陳亭妃爆：已掌握兩位... 820 0.0\n",
      "LG智慧錶Watch Urbane　即起... 647 0.0\n",
      "【新新聞】「肉搜」國民黨秘書長李四川 645 0.0\n",
      "【數位時代】連《回到未來》編劇都按「讚」... 395 0.0\n",
      "華為Q3稱霸中國智慧機　小米擬西進美國 482 0.0\n",
      "「你後面起火了啦」　貨車駕駛驚逃 477 0.0\n",
      "歐付寶結盟台新凱基　搶北市停車繳費業務 476 0.0\n",
      "【法廣RFI】政治規矩成黨內條例方便習近... 475 0.0\n",
      "台北市收回救國團劍青中心　將闢為濕地公園 474 0.0\n",
      "小資女12年存8張保單　打造無憂老年 473 0.0\n",
      "領養女娃？ 珊卓打槍「只有一個養子」 472 0.0\n",
      "butter LONDON搶眼　祭大地色... 471 0.0\n",
      "慟！亞馬遜臨時工悲歌 470 0.0\n",
      "從狂噓到全場惦惦　陽耀勳開轟打臉象迷 469 0.0\n",
      "搭火車這樣佔位　「沒品姐」遭酸令人感動 468 0.0\n",
      "【MLB】菜鳥很夠力 Matz 4.2局... 467 0.0\n",
      "救球誤踢臉　倒掛金鉤解圍反爆隊友頭 466 0.0\n",
      "BBC解讀華航生子：台灣人的自卑感 465 0.0\n",
      "BenQ雕塑營今開幕　揪9國藝術家來台創... 462 0.0\n",
      "【讀者直擊】公車地板濕滑　男客摔倒昏迷 461 0.0\n",
      "【讀者直擊】機車逞快亂鑽　瞬間犁田悲劇 460 0.0\n",
      "【更新】村庄咖啡店的王子　帥到眼睛快瞎了 458 0.0\n",
      "【更新】會不會太簡單　國二數學還考1+1... 456 0.0\n",
      "【更新】首例公職拒申報財產被訴　女教授恐... 454 0.0\n",
      "林予晞想全身刺青剃光頭　納豆虧「失戀嗎」 453 0.0\n",
      "5年內要達到夢想　每月該存幾多錢？ 452 0.0\n",
      "【蘋果數】1/10美國成人抽大麻 479 0.0\n",
      "​麗媛別哭哭　好萊塢女星也有慘白「鬼妝」 483 0.0\n",
      "全球熱呼呼　9月氣溫再創新高 644 0.0\n",
      "【周董站台】SONY 4K機皇　2.59... 486 0.0\n",
      "擔心被派上戰場　日本自衛隊出現兵源荒 510 0.0\n",
      "永不止息的革命家 史明98歲慶生會 508 0.0\n",
      "香港站台MAX&Co.;　Olivia靠大... 507 0.0\n",
      "烟花若生成颱風會影響台灣嗎？專家這麼說 506 0.0\n",
      "【法廣RFI】安倍出訪蒙古及中亞五國 505 0.0\n",
      "生產力4.0　今正式啟動　504 0.0\n",
      "【法廣RFI】民進黨：掌握換柱錄音帶兩關... 503 0.0\n",
      "SM吃緊　台化國喬台苯樂觀 501 0.0\n",
      "猿吞3連敗　洪總：攻重於守策略失敗 499 0.0\n",
      "看民進黨真面目 而非只看聶永真設計得好 498 0.0\n",
      "小肉手戴小葫蘆　周汶錡兒Q炸了 497 0.0\n",
      "吳玟萱被騙900萬　瘦到打營養針維生 496 0.0\n",
      "【MLB】滿壘無人出局 小熊乏力只拿1分 495 0.0\n",
      "蔡英文政策團隊，超乎歷任總統候選人 494 0.0\n",
      "電商水平垂直整合　躍下波成長動能 493 0.0\n",
      "「上帝使者」白嫖劫財　應召女全裸逃出旅館 492 0.0\n",
      "行政院核定沈啟免職 491 0.0\n",
      "王建煊：宣佈台獨 　就是兩岸統一之時 490 0.0\n",
      "【MLB】Murphy季後賽連6轟 刷新... 489 0.0\n",
      "謝龍介台語教學帶　他說比賽會扣分啦 488 0.0\n",
      "稱穿胸罩會得乳癌　小辣椒被網友罵腦殘 487 0.0\n",
      "陳冠希聯手VANS　衣服踩腳下來賣 451 0.0\n",
      "藍委質疑法務部是民進黨開的　遭綠委反嗆 899 0.0\n",
      "朱立倫概念股狂飆　倫飛明起人工撮合交易 449 0.0\n",
      "關心落單小學生　熱心男被誤為擄童黨 448 0.0\n",
      "越共政府大玩親民　開臉書向年輕人招手 420 0.0\n",
      "【動新聞】以總理：巴人害猶太人被屠殺 梅... 419 0.0\n",
      "超正妹周子瑜登韓直播　出道舞台影片曝光 418 0.0\n",
      "林美照想好告別式　「穿漂漂亮亮來送她」 417 0.0\n",
      "【動新聞】不跟我打招呼？送你四個霓虹燈墓... 415 0.0\n",
      "【蘋果360】美麗島！最美的全運會閉幕 413 0.0\n",
      "貓咪超級盃　喵星人爭MVP 412 0.0\n",
      "有罪該判多重　司法院量刑系統提供行情表 411 0.0\n",
      "怕自己不夠醜　只要這樣玩手機 410 0.0\n",
      "【數位時代】反對美國政府要資料，Appl... 409 0.0\n",
      "蔡英文美國商會演說　重申加入TPP決心 408 0.0\n",
      "【法廣RFI】陸官媒強調中英關係的全球意... 407 0.0\n",
      "日鯨類博物館收恐嚇信　要求停止獵捕海豚 405 0.0\n",
      "亂傳教宗有腦瘤　梵諦岡惡鬥浮上檯面 404 0.0\n",
      "【數位時代】準備搶貨！新世紀福音戰士手機... 403 0.0\n",
      "【數位時代】YouTube Red訂閱制... 402 0.0\n",
      "【數位時代】Western Digita... 401 0.0\n",
      "艾未未批卡麥隆　為中國錢可以不要人權 399 0.0\n",
      "豪門搞不定　道奇教頭馬丁利有意求去 398 0.0\n",
      "【公庫】國家照顧17年原地踏步！RCA工... 397 0.0\n",
      "日本販賣機好威　電子錢包、無障礙鈕超便利 396 0.0\n",
      "【法廣RFI】宿霧槍案嫌疑人將交大陸司法... 421 0.0\n",
      "阿瘦周年慶擴大戰果　副牌BESO推周年限... 422 0.0\n",
      "相差36歲父女戀　人妻大讚好幸福 423 0.0\n",
      "凱特辣媽糗大　兩坨副乳搶見客 437 0.0\n",
      "【法廣RFI】大陸華龍引發英情報部門憂慮 446 0.0\n",
      "恰恰場內全壘打　總冠軍賽史第1次 445 0.0\n",
      "【MLB】老將很神勇 Colon後援1.... 444 0.0\n",
      "全球一動訴願成功　NCC批：侵越法定職權 443 0.0\n",
      "全運35歲登山車一姊黃合旬創奇蹟奪5連霸 442 0.0\n",
      "開拓、3M營收衰　工業領域爆裁員潮 441 0.0\n",
      "央行前副總裁俞政辭世　享壽86歲 440 0.0\n",
      "被指拿八仙門票　新北消防局長將提告 439 0.0\n",
      "美特種部隊伊拉克救70庫德族人質　1美軍... 438 0.0\n",
      "鈺齊柬埔寨廠發功　Q3虧轉盈　436 0.0\n",
      "米蘭達腹肌太驚人　肥溫瘦了臉僵了 424 0.0\n",
      "iPhone出新機　舊機就變慢？ 435 0.0\n",
      "【法廣RFI】台灣起訴抗議“親中”教材的... 434 0.0\n",
      "西門町紅樓曾是亂葬崗　 有人曾看過狐狸身... 433 0.0\n",
      "​【更新】彭麗媛大白臉　彩妝專家：化妝失... 432 0.0\n",
      "帶LV包奔棕櫚泉沙漠　兩女星逃很遠 431 0.0\n",
      "習近平告別白金漢宮　接下來入住卡麥隆別墅 430 0.0\n",
      "【娛樂online】修杰楷你在跟什麼女人... 428 0.0\n",
      "怎麼畫出驚世白粉臉？　港化妝師還原 427 0.0\n",
      "【更新】歐銀QE2在望　歐元重貶1.4% 426 0.0\n",
      "台北溫泉季將登場　日本神轎來台吸睛 511 0.0\n",
      "印籍女子來台會情郎　遭生物特徵識別系統識... 512 0.0\n",
      "男星縫100針險毀容　搖身億級隱形富豪 513 0.0\n",
      "【新新聞】顧爾德：小英是習大大最佳拍檔？ 575 0.0\n",
      "朱立倫到鎮瀾宮參拜　顏清標讚：緣投的人才 608 0.0\n",
      "【央廣RTI】台灣加入亞投行絕非兩岸「家... 607 0.0\n",
      "北市立委提名　蔡英文：不是退縮不是認輸 606 0.0\n",
      "杜鵑水攻貓纜T21塔柱　北市下月整治邊坡 605 0.0\n",
      "中信銀、中信保經　11/30正式合併 604 0.0\n",
      "台灣入亞投行是兩岸「家務事」？　陸委會駁... 601 0.0\n",
      "再批朱立倫　蔡英文：他誤解民主政治本意 599 0.0\n",
      "【財訊】邱文達加持，雙連安養中心西進　結... 594 0.0\n",
      "陳豐義控監委涉關說　調查報告：沒明確證據 593 0.0\n",
      "JLPGA延田高球賽首日　盧曉晴繳70桿... 592 0.0\n",
      "【三寶無極限】專人指揮　遊覽車國道倒車 590 0.0\n",
      "【360】Lamigirls祝桃猿「打回... 589 0.0\n",
      "紅茶店月薪上看4.5萬　不輸上班族 587 0.0\n",
      "鄭弘儀PO長輩圖真人版　「坐好坐滿腰不酸... 585 0.0\n",
      "小天后踩高跟凸槌　舞台上囧仆街 584 0.0\n",
      "【央廣RTI】正港台灣之光  政大生貧民... 583 0.0\n",
      "S820性能好？　高出三星50% 582 0.0\n",
      "歐亞巡香港公開賽首日　台灣呂偉智64桿領... 581 0.0\n",
      "【黑豹旗戰果】因緣際會重拾手套　香山賴懷... 580 0.0\n",
      "貧富差距怎麼變大？　前閣揆老實說 579 0.0\n",
      "席安娜米勒全開後開　一次露個夠 578 0.0\n",
      "柯文哲：找回海洋國家性格　年輕人走出去！ 609 0.0\n",
      "【更新】台灣公道伯教坐姿　「坐好坐滿」才... 610 0.0\n",
      "卡平交道進退兩難　警衝鐵軌救母女 611 0.0\n",
      "奧客出無敵賤招　店員一招KO讓他認輸 627 0.0\n",
      "日本玩5天　3萬以下成行祕訣大公開 643 0.0\n",
      "洪秀柱：9月23日之後的具名捐款　全數返... 642 0.0\n",
      "以總理：猶太大屠殺禍首是巴人　德：是我們 641 0.0\n",
      "【盤整期首選】專家：太陽能好到明年Q2 639 0.0\n",
      "靠北女友讓他綠光閃爍　網友：交接的概念 635 0.0\n",
      "印度賤男召妓又搞人妻　散播愛滋給300人 634 0.0\n",
      "【央廣RTI】移民危及歐洲 匈總理籲改變... 631 0.0\n",
      "富歐巴切心控女友劈腿　凱燕哥還擁3千萬雙... 630 0.0\n",
      "王傳一難忍臭頭味 求洪小鈴天天洗頭  629 0.0\n",
      "耶～只限台灣有！LONGCHAMP獨家包... 626 0.0\n",
      "7年級生理財觀　進擊成「鋼鐵草莓」 612 0.0\n",
      "家具展示床偷吃好友妻　前國代判刑 625 0.0\n",
      "只花5分鐘　她讓店員賠錢送飲料 624 0.0\n",
      "不止王道銀行　同名電視電影籌拍中 623 0.0\n",
      "不請人就不准復工　環局鐵腕追薪 621 0.0\n",
      "衛生紙裡少一樣東西　妻抓姦告不成老公 619 0.0\n",
      "鴻海從河南下手　3年建400兆瓦太陽能 618 0.0\n",
      "哀鳳是你嗎？　這些手機飄蘋果味 617 0.0\n",
      "北市金華國小傳男子隨機拐童　校方：已報案 616 0.0\n",
      "土沙異物搞「軌」　高雄輕軌糗脫軌 614 0.0\n",
      "69歲老人揹起87歲兄長　兩韓親屬淚眼揮... 577 0.0\n",
      "【沃草】違規缺失為何保密五年？原能會：公... 574 0.0\n",
      "離譜！​綠委爆新北市警察　居然上門索樁腳... 515 0.0\n",
      "【央廣RTI】印尼霧霾嚴重籠罩泰南 573 0.0\n",
      "冬天快來囉　北海岸泡湯去 542 0.0\n",
      "【奶姬妹】露暈女模後悔裝假奶　「像青蛙被... 540 0.0\n",
      "【出來面對】煞氣a台式奶妹　重鹹譙吃Ｘ配... 539 0.0\n",
      "星際大戰上長城　被噓「違反電影精神」 538 0.0\n",
      "避租屋糾紛　內政部訂應記載及不得記載事項 537 0.0\n",
      "林智勝10轟、郭嚴文連15場安打雙破季後... 535 0.0\n",
      "【央廣RTI】是請辭還是免職  沈啟說分... 534 0.0\n",
      "【MLB】d’Arnaud背靠背全壘打 532 0.0\n",
      "郭采潔披婚紗　臉蛋激似「小燕姊」 530 0.0\n",
      "蘭斯父與蔡景峰　46年好久不見！ 529 0.0\n",
      "【獨家】直擊特偵組送換柱案傳票給「她」 526 0.0\n",
      "從〈建青〉獨立運作談起 525 0.0\n",
      "【法廣RFI】巴黎既爭辦奧運也爭辦世博會 524 0.0\n",
      "北市近3年首起水痘群聚感染　62學童染病 523 0.0\n",
      "【網路紅人唱新聞】台灣《傻瓜》食安犧牲品... 522 0.0\n",
      "姑姑過兒合體！黃曉明劉亦菲爆新錶情 521 0.0\n",
      "重量級偽裝車趴趴走　11/19上市接單價... 520 0.0\n",
      "【法廣RFI】中英簽400億協議艾未未批... 519 0.0\n",
      "發死人財　日火葬場員工偷戒指變賣 518 0.0\n",
      "葉門戰火誰人知　遭炸男童哭喊：「不要埋了... 517 0.0\n",
      "【MLB】Duda好威 單場貢獻5打點 516 0.0\n",
      "【更新】彰縣警局長慰問　老婦家屬當面打臉 543 0.0\n",
      "200元中獎發票遭郵局打槍　竟因「未建檔... 545 0.0\n",
      "【更新】警花撞死二老嫗　家屬質疑車速恐破... 546 0.0\n",
      "宥勝嫌女兒胖　被質疑餓食女兒 561 0.0\n",
      "全台新建案房價反轉　高雄跌5.31%最慘 572 0.0\n",
      "咪咪站長就任滿月　本周末動物園站搭貓纜免... 571 0.0\n",
      "咪咪站長就任滿月　本周末動物園站搭貓纜免... 570 0.0\n",
      "【MLB】藍鳥Estrada 優質7.2... 569 0.0\n",
      "【更新】ANNA SUI香水疑塑化劑超標... 568 0.0\n",
      "【搶喔】男神加持周年慶　人氣如何？ 566 0.0\n",
      "【央廣RTI】低階核廢處置  台電不放棄... 564 0.0\n",
      "破紀錄！今年23隻人工繁殖貓熊寶寶存活 563 0.0\n",
      "陳珮騏演活惡女　觀眾太入戲罵「你去死」　562 0.0\n",
      "只輸金正恩　普丁支持率高達9成 558 0.0\n",
      "廣東保麗龍廠爆炸　黑煙沖天傳惡臭 547 0.0\n",
      "屏東防災通APP　有沒停班課看這裡 557 0.0\n",
      "【央廣RTI】會尼坦雅胡  凱瑞：即刻停... 556 0.0\n",
      "IS好天真　用保險套氣球攻擊俄戰機 555 0.0\n",
      "誆投資黃金期貨　229警專畢業生上當 554 0.0\n",
      "【MLB】Duda首局3分砲 553 0.0\n",
      "東京影展紅毯鬥豔　蒼井空副乳暴走 552 0.0\n",
      "左憲兵隊右警局　犯罪場地在中間 551 0.0\n",
      "愛子加盟西武　吳復連盼今日雙喜臨門 549 0.0\n",
      "【公庫】公道路上沒公道　不用官地拆民宅 548 0.0\n",
      "土豪「駕」快艇求婚　遭女方丟戒指拒絕 0 0.0\n"
     ]
    }
   ],
   "source": [
    "related_docs_indices = cosine_similarities.argsort()[:-9001:-1]\n",
    "related_docs_indices\n",
    "for index in related_docs_indices:\n",
    "    print ary[index], index, cosine_similarities[index]"
   ]
  },
  {
   "cell_type": "code",
   "execution_count": 197,
   "metadata": {
    "collapsed": false
   },
   "outputs": [
    {
     "name": "stdout",
     "output_type": "stream",
     "text": [
      "國會 朱立倫 議長 王金平 國民黨 問題 制度 立委 屆數 議員 時間 不會 考紀 現在 因人 限制 改革 主持人 杯葛 更新\n",
      "新北 新北市 時間 問題 鉛管 新店 三重 更新 李倩萍 資資料 數近 曾佳俊 雙北共飲 不滿 256 區域 14 萬戶 一河 議員\n"
     ]
    }
   ],
   "source": [
    "print corpus[124]\n",
    "print corpus[1]"
   ]
  },
  {
   "cell_type": "code",
   "execution_count": 199,
   "metadata": {
    "collapsed": true
   },
   "outputs": [],
   "source": [
    "%matplotlib inline\n",
    "from matplotlib import pyplot as plt\n",
    "import seaborn as sns"
   ]
  },
  {
   "cell_type": "code",
   "execution_count": 204,
   "metadata": {
    "collapsed": false
   },
   "outputs": [
    {
     "name": "stdout",
     "output_type": "stream",
     "text": [
      "[[ 1.          0.          0.04200721  0.          0.          0.          0.\n",
      "   0.          0.          0.        ]\n",
      " [ 0.          1.          0.01977476  0.          0.17260879  0.          0.\n",
      "   0.          0.          0.        ]\n",
      " [ 0.04200721  0.01977476  1.          0.          0.          0.          0.\n",
      "   0.          0.          0.        ]\n",
      " [ 0.          0.          0.          1.          0.          0.          0.\n",
      "   0.          0.          0.        ]\n",
      " [ 0.          0.17260879  0.          0.          1.          0.01622141\n",
      "   0.          0.          0.          0.        ]\n",
      " [ 0.          0.          0.          0.          0.01622141  1.\n",
      "   0.03085396  0.          0.          0.        ]\n",
      " [ 0.          0.          0.          0.          0.          0.03085396\n",
      "   1.          0.          0.          0.        ]\n",
      " [ 0.          0.          0.          0.          0.          0.          0.\n",
      "   1.          0.          0.        ]\n",
      " [ 0.          0.          0.          0.          0.          0.          0.\n",
      "   0.          1.          0.        ]\n",
      " [ 0.          0.          0.          0.          0.          0.          0.\n",
      "   0.          0.          1.        ]]\n"
     ]
    }
   ],
   "source": [
    "n_cosine_similarities = linear_kernel(tfidf[0:10], tfidf[0:10])\n",
    "print n_cosine_similarities"
   ]
  },
  {
   "cell_type": "code",
   "execution_count": 205,
   "metadata": {
    "collapsed": false
   },
   "outputs": [
    {
     "name": "stderr",
     "output_type": "stream",
     "text": [
      "C:\\Python27\\lib\\site-packages\\matplotlib\\collections.py:590: FutureWarning: elementwise comparison failed; returning scalar instead, but in the future will perform elementwise comparison\n",
      "  if self._edgecolors == str('face'):\n"
     ]
    },
    {
     "data": {
      "text/plain": [
       "<matplotlib.axes._subplots.AxesSubplot at 0x14564ed0>"
      ]
     },
     "execution_count": 205,
     "metadata": {},
     "output_type": "execute_result"
    },
    {
     "data": {
      "image/png": "[encoded data removed]",
      "text/plain": [
       "<matplotlib.figure.Figure at 0x14564c90>"
      ]
     },
     "metadata": {},
     "output_type": "display_data"
    }
   ],
   "source": [
    "sns.heatmap(n_cosine_similarities, annot=True, center=0, cmap='coolwarm')"
   ]
  },
  {
   "cell_type": "code",
   "execution_count": 210,
   "metadata": {
    "collapsed": false
   },
   "outputs": [
    {
     "name": "stdout",
     "output_type": "stream",
     "text": [
      "獨家！新北256路段鉛管曝光　來看你家有...\n",
      "消除北水處鉛管恐慌　新北要求三年內汰換\n"
     ]
    }
   ],
   "source": [
    "print ary[1]\n",
    "print ary[4]"
   ]
  },
  {
   "cell_type": "code",
   "execution_count": 208,
   "metadata": {
    "collapsed": true
   },
   "outputs": [
    {
     "name": "stdout",
     "output_type": "stream",
     "text": [
      "[[ 1.          0.          0.04200721  0.          0.          0.          0.\n",
      "   0.          0.          0.          0.          0.          0.          0.\n",
      "   0.          0.          0.          0.          0.          0.        ]\n",
      " [ 0.          1.          0.01977476  0.          0.17260879  0.          0.\n",
      "   0.          0.          0.          0.          0.          0.          0.\n",
      "   0.03270045  0.          0.01322105  0.          0.          0.01384389]\n",
      " [ 0.04200721  0.01977476  1.          0.          0.          0.          0.\n",
      "   0.          0.          0.          0.          0.          0.          0.\n",
      "   0.0194203   0.          0.          0.          0.          0.        ]\n",
      " [ 0.          0.          0.          1.          0.          0.          0.\n",
      "   0.          0.          0.          0.          0.          0.          0.\n",
      "   0.          0.          0.          0.          0.          0.        ]\n",
      " [ 0.          0.17260879  0.          0.          1.          0.01622141\n",
      "   0.          0.          0.          0.          0.          0.          0.\n",
      "   0.          0.          0.          0.          0.          0.          0.        ]\n",
      " [ 0.          0.          0.          0.          0.01622141  1.\n",
      "   0.03085396  0.          0.          0.          0.          0.          0.\n",
      "   0.          0.          0.          0.          0.03177683  0.          0.        ]\n",
      " [ 0.          0.          0.          0.          0.          0.03085396\n",
      "   1.          0.          0.          0.          0.01324439  0.          0.\n",
      "   0.          0.03943661  0.          0.          0.03108464  0.01424589\n",
      "   0.        ]\n",
      " [ 0.          0.          0.          0.          0.          0.          0.\n",
      "   1.          0.          0.          0.          0.          0.          0.026711\n",
      "   0.          0.          0.          0.          0.          0.02190518]\n",
      " [ 0.          0.          0.          0.          0.          0.          0.\n",
      "   0.          1.          0.          0.          0.          0.          0.\n",
      "   0.01830006  0.          0.          0.          0.          0.        ]\n",
      " [ 0.          0.          0.          0.          0.          0.          0.\n",
      "   0.          0.          1.          0.          0.          0.          0.\n",
      "   0.          0.          0.          0.          0.          0.        ]\n",
      " [ 0.          0.          0.          0.          0.          0.\n",
      "   0.01324439  0.          0.          0.          1.          0.\n",
      "   0.04150487  0.          0.          0.          0.          0.\n",
      "   0.01371011  0.        ]\n",
      " [ 0.          0.          0.          0.          0.          0.          0.\n",
      "   0.          0.          0.          0.          1.          0.\n",
      "   0.04711302  0.          0.          0.          0.          0.\n",
      "   0.05396717]\n",
      " [ 0.          0.          0.          0.          0.          0.          0.\n",
      "   0.          0.          0.          0.04150487  0.          1.          0.\n",
      "   0.          0.          0.          0.          0.          0.        ]\n",
      " [ 0.          0.          0.          0.          0.          0.          0.\n",
      "   0.026711    0.          0.          0.          0.04711302  0.          1.\n",
      "   0.          0.          0.          0.          0.          0.        ]\n",
      " [ 0.          0.03270045  0.0194203   0.          0.          0.\n",
      "   0.03943661  0.          0.01830006  0.          0.          0.          0.\n",
      "   0.          1.          0.          0.01298406  0.          0.\n",
      "   0.01359574]\n",
      " [ 0.          0.          0.          0.          0.          0.          0.\n",
      "   0.          0.          0.          0.          0.          0.          0.\n",
      "   0.          1.          0.          0.          0.          0.        ]\n",
      " [ 0.          0.01322105  0.          0.          0.          0.          0.\n",
      "   0.          0.          0.          0.          0.          0.          0.\n",
      "   0.01298406  0.          1.          0.          0.03225319  0.01265767]\n",
      " [ 0.          0.          0.          0.          0.          0.03177683\n",
      "   0.03108464  0.          0.          0.          0.          0.          0.\n",
      "   0.          0.          0.          0.          1.          0.          0.        ]\n",
      " [ 0.          0.          0.          0.          0.          0.\n",
      "   0.01424589  0.          0.          0.          0.01371011  0.          0.\n",
      "   0.          0.          0.          0.03225319  0.          1.          0.        ]\n",
      " [ 0.          0.01384389  0.          0.          0.          0.          0.\n",
      "   0.02190518  0.          0.          0.          0.05396717  0.          0.\n",
      "   0.01359574  0.          0.01265767  0.          0.          1.        ]]\n"
     ]
    }
   ],
   "source": [
    "n_cosine_similarities = linear_kernel(tfidf[0:20], tfidf[0:20])\n",
    "print n_cosine_similarities"
   ]
  },
  {
   "cell_type": "code",
   "execution_count": 209,
   "metadata": {
    "collapsed": false
   },
   "outputs": [
    {
     "data": {
      "text/plain": [
       "<matplotlib.axes._subplots.AxesSubplot at 0x25e237f0>"
      ]
     },
     "execution_count": 209,
     "metadata": {},
     "output_type": "execute_result"
    },
    {
     "data": {
      "image/png": "[encoded data removed]",
      "text/plain": [
       "<matplotlib.figure.Figure at 0x24542b10>"
      ]
     },
     "metadata": {},
     "output_type": "display_data"
    }
   ],
   "source": [
    "sns.heatmap(n_cosine_similarities, annot=True, center=0, cmap='coolwarm')"
   ]
  },
  {
   "cell_type": "code",
   "execution_count": 212,
   "metadata": {
    "collapsed": false
   },
   "outputs": [],
   "source": [
    "from sklearn import cluster\n",
    "c = cluster.KMeans(n_clusters=4)\n",
    "k_data = c.fit_predict(weight)"
   ]
  },
  {
   "cell_type": "code",
   "execution_count": 215,
   "metadata": {
    "collapsed": false
   },
   "outputs": [
    {
     "name": "stdout",
     "output_type": "stream",
     "text": [
      "4 3\n"
     ]
    }
   ],
   "source": [
    "a = [1,2,3,4,1,2,3,1]\n",
    "cnt = 0 \n",
    "for ele in a:\n",
    "    if ele == 4:\n",
    "        print ele, cnt\n",
    "    cnt +=1"
   ]
  },
  {
   "cell_type": "code",
   "execution_count": 217,
   "metadata": {
    "collapsed": false
   },
   "outputs": [
    {
     "name": "stdout",
     "output_type": "stream",
     "text": [
      "4 3\n"
     ]
    }
   ],
   "source": [
    "for idx, ele in enumerate(a):\n",
    "    if ele == 4:\n",
    "        print ele, idx"
   ]
  },
  {
   "cell_type": "code",
   "execution_count": 222,
   "metadata": {
    "collapsed": true
   },
   "outputs": [
    {
     "name": "stdout",
     "output_type": "stream",
     "text": [
      "消除北水處鉛管恐慌　新北要求三年內汰換\n",
      "烏龍交易到世界大賽　佛羅瑞斯心懷感謝\n",
      "瞎！「肉骨獸」是食品　噗浪須做食品業登錄\n",
      "綠委籲公布全台性侵熱點　陳威仁：此類犯罪...\n",
      "日正妹女星上節目遭公然襲胸　金鋼狼傻眼\n",
      "朱立倫選情大好 竟是….\n",
      "【更新】強調不打房　柯：若營建業垮掉　台...\n",
      "搶攻客家票　英倫新竹首度拼場　 \n",
      "蔡英文新竹拔樁　水利會長祝高票當選\n",
      "【社企流】想要有與眾不同的求婚嗎？買只「...\n",
      "柱姐募款不足　葉匡時：曾向黨部借支三千萬...\n",
      "「不要亂咬人」　呂忠吉嗆消防局長錄音曝光\n",
      "陸官校友授「挺倫」戰旗　朱立倫再向柱姐致...\n",
      "【民報】罕病勇士仁佑──用打字板呼喚世界...\n",
      "超浪漫！　這支廣告感動近千萬網友\n",
      "Gigi升格俏人妻　放閃新婚「挺不賴的」\n",
      "【環資報導】修樹就讓專業的來！ 台灣第一...\n",
      "酒駕累犯不三振  中檢太「善良」\n",
      "【更新】政務官輔選適當否？柯P：不知　要...\n",
      "【環資報導】從利維坦到莉維達：捕魚船上的...\n",
      "異哉！敬老金竟成了不是問題的問題\n",
      "色老頭戴屌環　公車對女大生獻寶\n",
      "大象寶寶是小象　但圓仔不是小貓熊\n",
      "有影無？緣投就有票！ \n",
      "【建案搶先看】11月　皮包掏出來繳地價稅...\n",
      "朱立倫訪美　林永樂：不介入行程規劃\n",
      "前RCA工人抗議　爭全面職災給付\n",
      "【建案搶先看】新莊頭前重劃區　超好住啦\n",
      "【央廣RTI】 北韓欲締和平 美：除非放...\n",
      "【更新】向友人哭訴「大勢已去」?　柱姐怒...\n",
      "另一半想當家庭主夫？　女鄉民熱議\n",
      "八仙塵爆家屬再爆不合　發言人遭踢出群組\n",
      "4年要蓋2萬戶公宅　柯Ｐ：我也不敢大聲講\n",
      "世界最大的「陸地造船」　就在高雄\n",
      "議員問英倫總統大戰挺誰　柯P未表態\n",
      "萬華青年宅流標4次　林洲民：今開標樂觀\n",
      "【壹週刊】Dior and I 美麗的邂...\n",
      "英倫只差50萬票？　蔡英文：持續看公道伯...\n",
      "余祥銓緋聞女死會　透露想婚頭\n",
      "處理世大運選手村　柯P：明年5月與中央討...\n",
      "民政局長出席小英活動　柯團隊挨批行政不中...\n",
      "人夫道歉的LINE　最後一句100%真心\n",
      "​酒駕三振只易科罰金？　內政部憂心酒駕恐...\n",
      "歐登：不再碰毒　與科勒卡達夏重修舊好\n",
      "【痞客邦】召喚靈魂曾有過的純粹部分：《小...\n",
      "這10個暗黑秘密　大家都不敢跟愛人說\n",
      "Q版漫畫羽絨衣　MONCLER東京獨賣\n",
      "KTV點哪首歌最令人惱火？　這首紅遍兩岸...\n",
      "看看背後　別讓孩子學你做一樣的事\n",
      "小隻女有這些困擾　152公分的她想長高\n",
      "好聰明　法鬥拿玩具換零食\n",
      "大貓無誤 公獅玩足球不怕水\n",
      "捷運站前這一幕　忍不住讓人「認同分享」\n",
      "以巴仇恨何時了 　女童：搶我土地用刀捅你\n",
      "命理師看祖厝陽宅　「朱立倫再旺20年」\n",
      "朱立倫只差50萬票　王金平：有望勝選\n",
      "蔡英文最重視的立委參選人　原來是他\n",
      "蔡英文北市拔樁　國民黨里長近百人出席\n",
      "十月二十三日各報頭條搶先報\n",
      "加劇分裂？　「英格蘭法案由英格蘭議員表決...\n",
      "孕婦買安胎藥　藥局錯給避孕藥致小產 \n",
      "H：感情問題回答之八\n",
      "維持現狀不能單靠北京善意\n",
      "吳佳璇：兒子陪女同學上旅館\n",
      "【狗仔偷拍】地表最強閃兵老爸　狂搶奶粉錢\n",
      "張曼娟：矯情的野餐\n",
      "老外為何來台念書？　中文可不是唯一解\n",
      "地表最強！ 這女孩好會頂\n",
      "趙少康：朱立倫速提路線圖\n",
      "一劍浣春秋：收兩份安家費的正妹\n",
      "又痛又髒？　破除肛交的六大迷思\n",
      "【法廣RFI】法國總統訪希臘鞏固雙邊友誼\n",
      "小英南下輔選老柯前夕　邱顯智再喊民調整合\n",
      "陸客疑拒絕購物遭打死　家屬認屍要求伸張正...\n",
      "【數位時代】連《回到未來》編劇都按「讚」...\n",
      "蔡英文美國商會演說　重申加入TPP決心\n",
      "不滿被指「臨全會是她要開的」　洪秀柱將告...\n",
      "【動新聞】不跟我打招呼？送你四個霓虹燈墓...\n",
      "林美照想好告別式　「穿漂漂亮亮來送她」\n",
      "【法廣RFI】宿霧槍案嫌疑人將交大陸司法...\n",
      "相差36歲父女戀　人妻大讚好幸福\n",
      "西門町紅樓曾是亂葬崗　 有人曾看過狐狸身...\n",
      "恰恰場內全壘打　總冠軍賽史第1次\n",
      "【民報】魏揚代表軍公教聯盟黨參選？是的！...\n",
      "【更新】村庄咖啡店的王子　帥到眼睛快瞎了\n",
      "搭火車這樣佔位　「沒品姐」遭酸令人感動\n",
      "領養女娃？ 珊卓打槍「只有一個養子」\n",
      "台北市收回救國團劍青中心　將闢為濕地公園\n",
      "【法廣RFI】政治規矩成黨內條例方便習近...\n",
      "【更新】美中南海較勁　楊國強籲支持南海和...\n",
      "【更新】勞團再點名和碩上海廠　訓練不足、...\n",
      "稱穿胸罩會得乳癌　小辣椒被網友罵腦殘\n",
      "王建煊：宣佈台獨 　就是兩岸統一之時\n",
      "行政院核定沈啟免職\n",
      "「上帝使者」白嫖劫財　應召女全裸逃出旅館\n",
      "蔡英文政策團隊，超乎歷任總統候選人\n",
      "看民進黨真面目 而非只看聶永真設計得好\n",
      "出席小英活動挨批　北市民政局長：公務行程\n",
      "【法廣RFI】民進黨：掌握換柱錄音帶兩關...\n",
      "生產力4.0　今正式啟動　\n",
      "北市近3年首起水痘群聚感染　62學童染病\n",
      "【法廣RFI】巴黎既爭辦奧運也爭辦世博會\n",
      "【獨家】直擊特偵組送換柱案傳票給「她」\n",
      "國民黨發文禁挺小英　藍里長嗆朱：違反誠信...\n",
      "蘭斯父與蔡景峰　46年好久不見！\n",
      "【央廣RTI】是請辭還是免職  沈啟說分...\n",
      "【奶姬妹】露暈女模後悔裝假奶　「像青蛙被...\n",
      "愛子加盟西武　吳復連盼今日雙喜臨門\n",
      "IS好天真　用保險套氣球攻擊俄戰機\n",
      "【央廣RTI】低階核廢處置  台電不放棄...\n",
      "【民報藍弋丰專欄】台灣健保未來何去何從?\n",
      "【新新聞】顧爾德：小英是習大大最佳拍檔？\n",
      "再批朱立倫　蔡英文：他誤解民主政治本意\n",
      "北市立委提名　蔡英文：不是退縮不是認輸\n",
      "朱立倫到鎮瀾宮參拜　顏清標讚：緣投的人才\n",
      "柯文哲：找回海洋國家性格　年輕人走出去！\n",
      "【更新】「高雄教我勇敢不妥協」　洪慈庸請...\n",
      "【民報黃慧芬專欄】更換自來水鉛管真有那麼...\n",
      "【央廣RTI】移民湧入  斯洛維尼亞達1...\n",
      "【央廣RTI】移民危及歐洲 匈總理籲改變...\n",
      "靠北女友讓他綠光閃爍　網友：交接的概念\n",
      "以總理：猶太大屠殺禍首是巴人　德：是我們\n",
      "【新新聞】「肉搜」國民黨秘書長李四川\n",
      "小情侶興趣是整形　要整成芭比和肯恩\n",
      "【民報】罕病小勇士不畏病痛 努力站上自己...\n",
      "朱立倫憑什麼敢幻想國會過半？\n",
      "【TOMO雙語爆】失蹤理工大學生 發現倒...\n",
      "沃草「開箱」立委候選人，幫你剖析第三勢力...\n",
      "新北公務員收八仙門票涉貪瀆　檢方今分案追...\n",
      "司法辦藍不辦綠？　蔡英文：現在是國民黨在...\n",
      "中國富婆買澳洲百年老宅　拆除重建引公憤\n",
      "【新新聞】姚人多：朱立倫的三不\n",
      "浩角翔起失聲的真相　牛羊睪丸混搭吃～\n",
      "只工作沒玩樂　緬甸兒童撐經濟\n",
      "如果琉球群島住的是漢人\n",
      "婆婆媽媽在哭泣　「菜價嚇死人」問題在哪裡\n",
      "柯P的道管中心監管挖路　議員抽檢：沒畫面\n",
      "【民報劉育志專欄】睜眼說瞎話的醫界大老\n",
      "【央廣RTI】最後團聚 兩韓家屬心痛道別...\n",
      "蕾神怒了　被《周刊王》偷拍「告到底」　\n",
      "柯P兌現政見　北市試辦5處社區公共保母\n",
      "【TOMO雙語爆】美國市長競選海報惹辱華...\n",
      "【TOMO雙語爆】夫妻遭綁匪勒死　陳屍車...\n",
      "【TOMO雙語爆】CIA老闆被駭了！駭客...\n",
      "【TOMO雙語爆】假招募AV男優　射了就...\n",
      "【想想論壇】讓羅斯福夫人幫朱立倫上一堂課...\n",
      "正妹選市長　選前流出脫衣片段\n",
      "【更新】浮洲合宜宅受災戶：「如影隨形」跟...\n",
      "特偵組很「誠懇」辦案 但…\n",
      "剃光頭表決心？　朱立倫自嘲：頭髮已不多\n",
      "【更新】開車A到這匹「馬」　賣車、脫褲也...\n",
      "朱立倫失言、失格、耍嘴皮  \n",
      "朱上柱下時　警政署：維安就同步進駐與撤離\n",
      "當小一新生看到同學作弊…\n",
      "【更新】換柱錄音帶　陳亭妃爆：已掌握兩位...\n",
      "出乎意料　中颱薔琵竟然又增強\n",
      "朱立倫首度下鄉　台中議會搏麻吉\n",
      "換柱之後該換蔡心和朱腦\n",
      "批遭總動員攻擊 　朱立倫：民進黨不再躺著...\n",
      "議員質詢聲音大讓他笑翻？柯P：怎問這題？\n",
      "遭批球員兼裁判　沈啟：請辭飛安會主委及委...\n",
      "還在研擬的政策都被外界知道　柯P：真可怕\n",
      "【愛思唯爾】工時長增加中風風險\n",
      "洪秀柱改列新黨不分區？　洪營：不可能\n",
      "省錢再出招　柯P：擬建立公共場域認養制度\n",
      "【無國界醫生】無國界醫生：難民要抵達目的...\n",
      "傳朱立倫醫界找副手　藍委：尊重朱決定\n",
      "特偵組查換柱　藍批綠：意圖干擾選舉的奧步\n",
      "【央廣RTI】美國警長聯名疾呼 降低監獄...\n",
      "藍委質疑法務部是民進黨開的　遭綠委反嗆\n"
     ]
    }
   ],
   "source": [
    "for idx, grp in enumerate(k_data):\n",
    "    if grp == 3:\n",
    "        print ary[idx]"
   ]
  },
  {
   "cell_type": "code",
   "execution_count": 223,
   "metadata": {
    "collapsed": false
   },
   "outputs": [
    {
     "name": "stdout",
     "output_type": "stream",
     "text": [
      "887.859686479\n"
     ]
    }
   ],
   "source": [
    "print c.inertia_"
   ]
  },
  {
   "cell_type": "code",
   "execution_count": 230,
   "metadata": {
    "collapsed": false
   },
   "outputs": [
    {
     "name": "stdout",
     "output_type": "stream",
     "text": [
      "891.791398706\n",
      "890.61957243\n",
      "887.44975318\n",
      "886.516549005\n",
      "883.929011001\n",
      "883.14658205\n",
      "881.904140648\n",
      "880.592903837\n",
      "879.893006387\n",
      "877.765484731\n",
      "875.486039904\n",
      "873.543302731\n",
      "872.625555459\n",
      "871.575209905\n",
      "868.955271241\n",
      "869.803838757\n",
      "866.693596437\n",
      "865.910411455\n"
     ]
    }
   ],
   "source": [
    "from sklearn import cluster\n",
    "wcss = []\n",
    "for i in range(2,20):\n",
    "    c = cluster.KMeans(n_clusters=i)\n",
    "    k_data = c.fit_predict(weight)\n",
    "    wcss.append((i, c.inertia_))\n",
    "    print c.inertia_"
   ]
  },
  {
   "cell_type": "code",
   "execution_count": 231,
   "metadata": {
    "collapsed": false
   },
   "outputs": [
    {
     "data": {
      "image/png": "[encoded data removed]",
      "text/plain": [
       "<matplotlib.figure.Figure at 0x243f3650>"
      ]
     },
     "metadata": {},
     "output_type": "display_data"
    }
   ],
   "source": [
    "import matplotlib.pyplot as plt\n",
    "plotary = [ele[1] for ele in wcss ]\n",
    "plt.plot(plotary)\n",
    "plt.ylabel('WSS')\n",
    "plt.xticks(range(2,20))\n",
    "plt.show()"
   ]
  },
  {
   "cell_type": "code",
   "execution_count": 232,
   "metadata": {
    "collapsed": true
   },
   "outputs": [],
   "source": [
    "from sklearn import cluster\n",
    "c = cluster.KMeans(n_clusters=8)\n",
    "k_data = c.fit_predict(weight)"
   ]
  },
  {
   "cell_type": "code",
   "execution_count": 241,
   "metadata": {
    "collapsed": true
   },
   "outputs": [
    {
     "name": "stdout",
     "output_type": "stream",
     "text": [
      "獨家！新北256路段鉛管曝光　來看你家有...\n",
      "鉛管風暴來龍去脈　《蘋果》懶人包秒懂\n",
      "朱立倫選情大好 竟是….\n",
      "選副總統？賴清德：不回答假設問題\n",
      "朱立倫帶職參選　毛揆：民選公職依法請假所...\n",
      "搶攻客家票　英倫新竹首度拼場　 \n",
      "蔡英文新竹拔樁　水利會長祝高票當選\n",
      "柱姐募款不足　葉匡時：曾向黨部借支三千萬...\n",
      "比卡麥隆有種　倫敦男拿「人權」K爆習粉\n",
      "陸官校友授「挺倫」戰旗　朱立倫再向柱姐致...\n",
      "不能在一起　至少最後好好分手\n",
      "【更新】糗！反賄選旗桿竟斷頭　羅瑩雪臉都...\n",
      "臉書讓iPhone大耗電　急推新版APP\n",
      "陳德容冒冷汗當菜鳥　生孩子再說啦\n",
      "【更新】政務官輔選適當否？柯P：不知　要...\n",
      "「市民有知的權利」　柯P鉛管懶人包大解析\n",
      "英女皇國宴上那瓶1989年份紅酒的弦外之...\n",
      "【更新】修內規替王金平解套　朱立倫：絕非...\n",
      "有影無？緣投就有票！ \n",
      "朱立倫訪美　林永樂：不介入行程規劃\n",
      "80公斤是壁花　她減到54公斤變校花\n",
      "【央廣RTI】 北韓欲締和平 美：除非放...\n",
      "【更新】向友人哭訴「大勢已去」?　柱姐怒...\n",
      "4年要蓋2萬戶公宅　柯Ｐ：我也不敢大聲講\n",
      "世界最大的「陸地造船」　就在高雄\n",
      "議員問英倫總統大戰挺誰　柯P未表態\n",
      "【壹週刊】Dior and I 美麗的邂...\n",
      "英倫只差50萬票？　蔡英文：持續看公道伯...\n",
      "處理世大運選手村　柯P：明年5月與中央討...\n",
      "【更新】嘉義市立委選舉　王金平勸進黃敏惠\n",
      "鉛水問題引恐慌　柯P公布鉛水管懶人包\n",
      "民政局長出席小英活動　柯團隊挨批行政不中...\n",
      "【特企】蘋果賞屋祭  全省動員看房去\n",
      "KTV點哪首歌最令人惱火？　這首紅遍兩岸...\n",
      "捷運站前這一幕　忍不住讓人「認同分享」\n",
      "以巴仇恨何時了 　女童：搶我土地用刀捅你\n",
      "命理師看祖厝陽宅　「朱立倫再旺20年」\n",
      "「總統肖像刺在我雞上」　青年作家遭追緝\n",
      "朱立倫只差50萬票　王金平：有望勝選\n",
      "蔡英文最重視的立委參選人　原來是他\n",
      "惡狼一個月姦3女　還當孫子面前硬上豔嬤\n",
      "蔡英文北市拔樁　國民黨里長近百人出席\n",
      "十月二十三日世界各報頭條搶先報\n",
      "十月二十三日各報頭條搶先報\n",
      "加劇分裂？　「英格蘭法案由英格蘭議員表決...\n",
      "孕婦買安胎藥　藥局錯給避孕藥致小產 \n",
      "2015機器人世界展　28日南韓開展\n",
      "維持現狀不能單靠北京善意\n",
      "趙少康：朱立倫速提路線圖\n",
      "普悠瑪號為何變成誤點王\n",
      "呂秋遠：憑什麼要求醫生繼續犧牲\n",
      "醫師納入勞基法的「八年疑毒」\n",
      "【更新】背水一戰壓力大　王溢正：「我熬過...\n",
      "【法廣RFI】法國總統訪希臘鞏固雙邊友誼\n",
      "小英南下輔選老柯前夕　邱顯智再喊民調整合\n",
      "【法廣RFI】巴基斯坦總理白宮會晤歐巴馬\n",
      "【更新】警蒐集總統參選人樁腳等個資　分局...\n",
      "【法廣RFI】陸官媒強調中英關係的全球意...\n",
      "蔡英文美國商會演說　重申加入TPP決心\n",
      "不滿被指「臨全會是她要開的」　洪秀柱將告...\n",
      "【法廣RFI】歐蘭德對希臘展開“友情”之...\n",
      "相差36歲父女戀　人妻大讚好幸福\n",
      "《甘味人生》2童星受傷　北市勞動局要查\n",
      "領養女娃？ 珊卓打槍「只有一個養子」\n",
      "台北市收回救國團劍青中心　將闢為濕地公園\n",
      "​麗媛別哭哭　好萊塢女星也有慘白「鬼妝」\n",
      "【更新】美中南海較勁　楊國強籲支持南海和...\n",
      "謝龍介台語教學帶　他說比賽會扣分啦\n",
      "「上帝使者」白嫖劫財　應召女全裸逃出旅館\n",
      "看民進黨真面目 而非只看聶永真設計得好\n",
      "出席小英活動挨批　北市民政局長：公務行程\n",
      "【法廣RFI】民進黨：掌握換柱錄音帶兩關...\n",
      "擔心被派上戰場　日本自衛隊出現兵源荒\n",
      "台北溫泉季將登場　日本神轎來台吸睛\n",
      "【網路紅人唱新聞】台灣《傻瓜》食安犧牲品...\n",
      "北市近3年首起水痘群聚感染　62學童染病\n",
      "國民黨發文禁挺小英　藍里長嗆朱：違反誠信...\n",
      "【央廣RTI】低階核廢處置  台電不放棄...\n",
      "鄭弘儀PO長輩圖真人版　「坐好坐滿腰不酸...\n",
      "工讀生慘遭火襲　雇主反控毀爐具\n",
      "再批朱立倫　蔡英文：他誤解民主政治本意\n",
      "北市立委提名　蔡英文：不是退縮不是認輸\n",
      "朱立倫到鎮瀾宮參拜　顏清標讚：緣投的人才\n",
      "【民報黃慧芬專欄】更換自來水鉛管真有那麼...\n",
      "【更新】台新金狀告財部　彰銀案求償150...\n",
      "以總理：猶太大屠殺禍首是巴人　德：是我們\n",
      "洪秀柱：9月23日之後的具名捐款　全數返...\n",
      "朱立倫憑什麼敢幻想國會過半？\n",
      "沃草「開箱」立委候選人，幫你剖析第三勢力...\n",
      "貓空文人座談沙龍　貓纜咪咪站長搶鏡\n",
      "【更新】有爭議卻不出席協商　LINE、U...\n",
      "【央廣RTI】歷史課綱諮詢小組 本週底定\n",
      "周杰倫抱怨劉畊宏　用照片ok「但掛太多」\n",
      "司法辦藍不辦綠？　蔡英文：現在是國民黨在...\n",
      "【更新】特偵查「換柱」　蕾神：證明法院不...\n",
      "柯P的道管中心監管挖路　議員抽檢：沒畫面\n",
      "【民報劉育志專欄】睜眼說瞎話的醫界大老\n",
      "反課綱的5學生遭起訴　吳思華：尊重司法\n",
      "用LINE打選戰　「英永豬」貼圖現身\n",
      "驗個屋　插插插插不停？\n",
      "【想想論壇】讓羅斯福夫人幫朱立倫上一堂課...\n",
      "【更新】浮洲合宜宅受災戶：「如影隨形」跟...\n",
      "剃光頭表決心？　朱立倫自嘲：頭髮已不多\n",
      "朱立倫失言、失格、耍嘴皮  \n",
      "朱上柱下時　警政署：維安就同步進駐與撤離\n",
      "避免雙重課稅　外交部：台日談判最後階段\n",
      "【更新】換柱錄音帶　陳亭妃爆：已掌握兩位...\n",
      "批遭總動員攻擊 　朱立倫：民進黨不再躺著...\n",
      "金立群：台灣參加亞投行　是兩岸家務事\n",
      "議員質詢聲音大讓他笑翻？柯P：怎問這題？\n",
      "【財訊】馬雲的全球電商大夢　「雙十一」前...\n",
      "遭批球員兼裁判　沈啟：請辭飛安會主委及委...\n",
      "服貿等5法案　藍委：被在野黨杯葛54次\n",
      "還在研擬的政策都被外界知道　柯P：真可怕\n",
      "洪秀柱改列新黨不分區？　洪營：不可能\n",
      "【更新】刪退休公僕三節慰問金？　柯：今年...\n",
      "省錢再出招　柯P：擬建立公共場域認養制度\n",
      "台灣第一人　王建堂奪大阪國際音樂賽絃樂組...\n",
      "​糗　彭麗媛滿臉白粉　習近平演說讓人倦\n",
      "傳朱立倫醫界找副手　藍委：尊重朱決定\n",
      "特偵組查換柱　藍批綠：意圖干擾選舉的奧步\n",
      "藍委質疑法務部是民進黨開的　遭綠委反嗆\n"
     ]
    }
   ],
   "source": [
    "for idx, grp in enumerate(k_data):\n",
    "    if grp == 7:\n",
    "        print ary[idx]"
   ]
  },
  {
   "cell_type": "code",
   "execution_count": 324,
   "metadata": {
    "collapsed": true
   },
   "outputs": [],
   "source": [
    "from xml.dom import minidom\n",
    "from xml.etree import ElementTree\n",
    "import jieba.analyse\n",
    "\n",
    "f = open('1435449602.xml', 'r')\n",
    "events=ElementTree.fromstring(f.read())\n",
    "f.close()\n",
    "corpus = []\n",
    "ary= []\n",
    "for elem in events.findall('./channel/item'):\n",
    "    title = elem.find('title').text\n",
    "    description = elem.find('description').text\n",
    "    source = elem.find('source').text\n",
    "    ary.append(title)\n",
    "    corpus.append(' '.join(jieba.analyse.extract_tags(description, 20)))"
   ]
  },
  {
   "cell_type": "code",
   "execution_count": 325,
   "metadata": {
    "collapsed": true
   },
   "outputs": [],
   "source": [
    "from sklearn.feature_extraction.text import CountVectorizer\n",
    "vectorizer = CountVectorizer() \n",
    "X = vectorizer.fit_transform(corpus)\n",
    "transformer = TfidfTransformer()\n",
    "tfidf = transformer.fit_transform(X)\n",
    "weight = tfidf.toarray() "
   ]
  },
  {
   "cell_type": "code",
   "execution_count": 326,
   "metadata": {
    "collapsed": true
   },
   "outputs": [],
   "source": [
    "from sklearn import cluster\n",
    "c = cluster.KMeans(n_clusters=4)\n",
    "k_data = c.fit_predict(weight)"
   ]
  },
  {
   "cell_type": "code",
   "execution_count": 340,
   "metadata": {
    "collapsed": false,
    "scrolled": true
   },
   "outputs": [
    {
     "name": "stdout",
     "output_type": "stream",
     "text": [
      "希臘國內三分一自動櫃員機現金短缺\n",
      "台鐵新基隆車站29日正式啟用\n",
      "基改不算真食物  法國人知情就不買\n",
      "《農民曆小幫手》國曆六月二十八日\n",
      "大台北今高溫上探37度\n",
      "歐元區財長拒希臘延長救助計劃\n",
      "風評：陷入獵巫遊戲的中資認定\n",
      "挪威「行動大雕」出沒 隨機射路人\n",
      "還是熱！西半部高溫達37度\n",
      "德國即將關閉使用最久核子反應爐\n",
      "八仙樂園爆炸案 專家認玉米粉危險性高應管制使用\n",
      "2015空姐夏裝大盤點\n",
      "呂紹煒專欄：違約與退出 希臘與歐洲才能重生(上)\n",
      "觀點投書：讀中文系的人，應該反對課綱微調\n",
      "觀點投書：何謂新兵訓練\n",
      "呂政璋觀點：點土成金新思維~以台灣柳丁為例\n",
      "觀點投書：招搖的進步\n",
      "中俄美競造5音速機彈\n",
      "手相看什麼樣的女人性格強勢\n",
      "面相看哪些人財運綿長不盡\n",
      "【美洲盃八強】巴西 VS. 巴拉圭 線上直播！\n",
      "塔羅占卜你今生最看重的是什麼\n",
      "希臘違約在即  歐盟全力穩定經濟\n",
      "希臘脫歐變可能 歐洲衝擊大\n",
      "塔羅占卜你是個有心機的人嗎？\n",
      "挑選新鮮食物 大有學問\n",
      "調心養心 初夏多吃蔬果\n",
      "夏天吃什麼好 紅棗、苦瓜攏總來\n",
      "補鈣能手大比拚 牛奶吸收效果好\n",
      "暑假應考季 小心體內酸鹼失衡\n",
      "水果中的皇后 草莓多食好處多\n",
      "古人愛西瓜 清明上河圖可佐證\n",
      "旺報觀點－紀念抗戰 台日中獲和解轉機\n",
      "陸官淪陪酒郎 2年10起醉死案\n",
      "慈禧愛西瓜盅 一天可吃數十個\n",
      "紀念抗戰 學者：反省、避免戰爭\n",
      "多位台老兵 受邀赴陸閱兵\n",
      "陸改革遇5瓶頸 難以落實基層\n",
      "金蟬花替代蟲草 浙民服用中毒\n",
      "鄭弘儀反紀念抗戰 陸批數典忘祖\n",
      "《經濟教室》白居易、蘇東坡看加薪\n",
      "大陸》A股紅火 中資想回家\n",
      "大陸》華人赴美置產不手軟\n",
      "北美》線上貸款業搶飯碗\n",
      "北美》加州光熱發電受挫\n",
      "歐洲》高貴的徵才條件\n",
      "東北亞》大眾運輸費變貴了\n",
      "歐洲》荷蘭的稻田發電\n",
      "有話要說－別害警察不敢用槍\n",
      "中間選民為洪秀柱按讚\n",
      "學生心態M化 台大有責任\n",
      "莫忘來時路／6月28日－先上車後補票成歷史\n",
      "短評－柯P 去上海吧\n",
      "花蓮民宅火警 1男嗆昏送醫\n",
      "屏東樂遊東港 住民宿探蚵殼島\n",
      "競選總部入厝　洪慈庸期許台中煥然一新\n",
      "超商父親節早鳥預購開跑　聶永真設計商品再次收藏\n",
      "八里爆炸意外衛生局凌晨公布314名傷患名單 分送27\n",
      "確保銀行穩定 希臘續與ECB緊密合作\n",
      "「我不說誰說？」世新廣電畢製《東所》受難者觀影\n",
      "希臘態度強硬 歐元區耐心漸失\n",
      "單親媽媽第一次下海就被逮　直呼太倒楣了！\n",
      "提升財運的家居風水\n",
      "希臘盼展延債務 歐元區拒絕\n",
      "LOEWE瘋玩春夏 迷上日本漫畫\n",
      "BV萬元小皮件 小資族快下手\n",
      "Kelly Talk：艾力克斯讓兒挑衣 訓練衣Q\n",
      "氣墊粉霜又有新品 酷夏玩美肌\n",
      "男裝周加映高級訂製服 GIVENCHY 黑珍珠使壞\n",
      "Margiela大衣掛帥 Berluti熱鬧色計\n",
      "Gap徵小小代言人 艾力克斯親子秀時尚\n"
     ]
    }
   ],
   "source": [
    "for idx, grp in enumerate(k_data):\n",
    "    if grp == 2:\n",
    "        print ary[idx]"
   ]
  },
  {
   "cell_type": "code",
   "execution_count": 333,
   "metadata": {
    "collapsed": false
   },
   "outputs": [],
   "source": [
    "from sklearn import cluster\n",
    "idx2 = cluster.SpectralClustering(n_clusters=4).fit_predict(weight)"
   ]
  },
  {
   "cell_type": "code",
   "execution_count": 334,
   "metadata": {
    "collapsed": false
   },
   "outputs": [
    {
     "name": "stdout",
     "output_type": "stream",
     "text": [
      "[0 0 1 1 0 1 0 1 1 1 1 0 1 3 3 1 0 1 1 1 3 1 1 1 1 0 1 1 1 1 1 1 1 1 1 1 1\n",
      " 1 3 1 1 1 1 1 1 1 1 1 1 1 1 1 1 1 1 1 1 1 1 1 1 1 1 1 1 1 1 1 1 1 1 1 1 1\n",
      " 1 1 1 1 1 1 1 1 1 1 1 1 1 0 0 1 0 0 1 0 1 0 0 1 0 1 0 0 0 0 0 0 0 1 1 3 3\n",
      " 3 0 0 1 1 2 0 1 3 0 3 1 0 3 3 3 0 3 1 1 1 1 1 1 1 1 2 1 1 1 1 3 0 0 3 3]\n"
     ]
    }
   ],
   "source": [
    "print idx2"
   ]
  },
  {
   "cell_type": "code",
   "execution_count": 339,
   "metadata": {
    "collapsed": false
   },
   "outputs": [
    {
     "name": "stdout",
     "output_type": "stream",
     "text": [
      "羅志祥哭了 蔡依林讚表現很好\n",
      "蔡依林淚奪金曲 錦榮傳訊恭喜\n",
      "陳奕迅、張惠妹稱王封后  蔡依林抱回最大獎\n",
      "陳奕迅、莫文蔚伴侶均不知阿娜答金曲獲獎\n",
      "金曲26／陳奕迅二度擊敗張學友　濕身奪歌王\n",
      "金曲26／蔡依林擒３獎大勝　淚崩再挺婚姻平權\n",
      "金曲26／張惠妹奪歌后卻失落　要世界感受彩虹力量\n",
      "僅次Jolin！徐佳瑩入圍6獎全槓被封遺珠\n",
      "金曲最風光！蔡依林紅毯全勝又獲3獎成大贏家\n",
      "張惠妹3度封后  想破江蕙紀錄\n",
      "金曲26／陳奕迅稱王謝台灣　張惠妹封后秒噴淚\n",
      "蔡依林呸大贏家  金曲最佳專輯獎\n",
      "陳奕迅二度打敗歌神  金曲歌王好嗨\n",
      "第26屆金曲獎 陳奕迅奪歌王、阿妹封歌后\n",
      "金曲最佳國語專輯：呸\n",
      "《金曲26》2015金曲獎得獎名單 線上直播懶人包\n"
     ]
    }
   ],
   "source": [
    "for idx, ele in enumerate(idx2):\n",
    "    if ele == 3:\n",
    "        print ary[idx]"
   ]
  },
  {
   "cell_type": "code",
   "execution_count": 342,
   "metadata": {
    "collapsed": true
   },
   "outputs": [],
   "source": [
    "from sklearn import cluster\n",
    "c = cluster.KMeans(n_clusters=4)\n",
    "k_data = c.fit_predict(weight)"
   ]
  },
  {
   "cell_type": "code",
   "execution_count": 343,
   "metadata": {
    "collapsed": true
   },
   "outputs": [],
   "source": [
    "n_cosine_similarities = linear_kernel(tfidf, tfidf)"
   ]
  },
  {
   "cell_type": "code",
   "execution_count": 344,
   "metadata": {
    "collapsed": false
   },
   "outputs": [
    {
     "name": "stdout",
     "output_type": "stream",
     "text": [
      "(147, 1881)\n"
     ]
    }
   ],
   "source": [
    "print tfidf.shape"
   ]
  },
  {
   "cell_type": "code",
   "execution_count": 355,
   "metadata": {
    "collapsed": true
   },
   "outputs": [],
   "source": [
    "import numpy as np\n",
    "from sklearn.decomposition import PCA\n",
    "pca = PCA(n_components=2)"
   ]
  },
  {
   "cell_type": "code",
   "execution_count": 356,
   "metadata": {
    "collapsed": false
   },
   "outputs": [
    {
     "name": "stdout",
     "output_type": "stream",
     "text": [
      "(147, 2)\n"
     ]
    }
   ],
   "source": [
    "pca_data = pca.fit_transform(n_cosine_similarities)\n",
    "print pca_data.shape"
   ]
  },
  {
   "cell_type": "code",
   "execution_count": 357,
   "metadata": {
    "collapsed": false
   },
   "outputs": [
    {
     "name": "stdout",
     "output_type": "stream",
     "text": [
      "[[ -4.82892054e-01  -1.20848312e-01]\n",
      " [ -3.31142404e-01  -1.19192847e-01]\n",
      " [  1.34610908e-01   1.86601595e-01]\n",
      " [  1.02922389e-01   1.42994038e-01]\n",
      " [ -5.06425207e-01  -9.92628015e-02]\n",
      " [  1.26330216e-01   1.61720131e-01]\n",
      " [ -3.89858868e-01  -7.33056414e-02]\n",
      " [  8.14725884e-02   1.00776437e-01]\n",
      " [  1.15130699e-01   1.42930063e-01]\n",
      " [  1.68517584e-01  -3.88867681e-02]\n",
      " [  1.03240992e-01   1.66763598e-01]\n",
      " [ -4.88734424e-01  -1.01991800e-01]\n",
      " [  1.70736604e-01   2.55362674e-01]\n",
      " [  2.08037230e-01  -3.13014231e-01]\n",
      " [  4.34740660e-01  -7.16871002e-01]\n",
      " [  1.49657977e-01   1.62001716e-01]\n",
      " [ -5.81561390e-01  -1.58725031e-01]\n",
      " [  1.04598017e-01   1.47557706e-01]\n",
      " [  1.07013227e-01   1.46104427e-01]\n",
      " [  1.14682794e-01   1.36403297e-01]\n",
      " [  4.46854478e-01  -7.19960993e-01]\n",
      " [ -1.77496879e-01   4.12482065e-02]\n",
      " [  1.17953887e-01   1.07804844e-01]\n",
      " [  1.15130699e-01   1.42930063e-01]\n",
      " [  1.17749129e-01   2.26429938e-01]\n",
      " [ -5.86662563e-01  -1.55249189e-01]\n",
      " [  1.31038638e-01   1.56424403e-01]\n",
      " [  1.03570780e-01   1.49642358e-01]\n",
      " [  3.58029321e-03   9.15344536e-02]\n",
      " [  1.20369717e-01   1.28274521e-01]\n",
      " [  1.20621544e-01   1.27867881e-01]\n",
      " [  1.13886632e-01   1.28505120e-01]\n",
      " [  1.10789071e-01   1.50721358e-01]\n",
      " [  1.10468876e-01   1.18132336e-01]\n",
      " [  1.34910849e-01   1.49936763e-01]\n",
      " [  1.26738566e-01   1.19965647e-01]\n",
      " [  6.02547786e-03   6.88270128e-02]\n",
      " [  1.13290347e-01   2.76884620e-01]\n",
      " [  3.22877972e-01  -3.32136874e-01]\n",
      " [  1.51751302e-01   2.62289590e-01]\n",
      " [  1.30767683e-01   1.63196156e-01]\n",
      " [ -1.26645263e-01  -1.26129848e-02]\n",
      " [  1.19657827e-01   1.79543135e-01]\n",
      " [  8.71583439e-02   1.48179215e-01]\n",
      " [  1.28109520e-01   1.43580812e-01]\n",
      " [  1.20479066e-01   1.57447065e-01]\n",
      " [  1.16047860e-01   1.57022284e-01]\n",
      " [  1.06611775e-01   1.57534278e-01]\n",
      " [  1.16793500e-01   1.56721598e-01]\n",
      " [  1.31519460e-01   1.48704020e-01]\n",
      " [  1.03344812e-01   1.59600880e-01]\n",
      " [  1.47624683e-01   1.68213089e-01]\n",
      " [  8.90740242e-02   1.49629117e-01]\n",
      " [  9.74864867e-02   1.41846885e-01]\n",
      " [  1.04746738e-01   1.87526345e-01]\n",
      " [  1.21952694e-01   1.55648750e-01]\n",
      " [  8.35462223e-02   1.11855053e-01]\n",
      " [  1.04885750e-01   1.76382238e-01]\n",
      " [  1.22293795e-01   1.89342738e-01]\n",
      " [  6.23414249e-02   1.37212316e-01]\n",
      " [  1.34308984e-01   1.55762424e-01]\n",
      " [  1.26358784e-01   1.66176327e-01]\n",
      " [  1.41743700e-01   1.50491690e-01]\n",
      " [  1.13363157e-01   1.67719462e-01]\n",
      " [  1.28319154e-01   1.70037921e-01]\n",
      " [  1.27298005e-01   1.59122242e-01]\n",
      " [  5.42160637e-02   1.43252905e-01]\n",
      " [  3.52000114e-02   6.81012876e-02]\n",
      " [  1.38678828e-01   1.68542979e-01]\n",
      " [  1.62699605e-01   6.89961110e-02]\n",
      " [  1.23031439e-01   1.39561423e-01]\n",
      " [  1.02678431e-01   1.47903550e-01]\n",
      " [  1.02740675e-01   1.32450518e-01]\n",
      " [  6.18726236e-02   1.34194161e-01]\n",
      " [  1.24537109e-01   1.63812357e-01]\n",
      " [  1.11449200e-01   1.88410112e-01]\n",
      " [  8.36658138e-02   1.35267584e-01]\n",
      " [  9.86090972e-04   6.64840216e-02]\n",
      " [  9.81574660e-02   1.36163565e-01]\n",
      " [  1.45258276e-01   1.31248021e-01]\n",
      " [  1.30359815e-01   1.41190497e-01]\n",
      " [ -1.02204025e-01   6.68005518e-02]\n",
      " [  9.20740555e-02   1.36143219e-01]\n",
      " [  1.10373566e-01   1.40643710e-01]\n",
      " [  1.30059049e-01   2.19547558e-01]\n",
      " [  1.29875799e-01   9.27620161e-02]\n",
      " [ -1.70872026e-01   1.11614522e-02]\n",
      " [ -7.61071717e-01  -2.28565545e-01]\n",
      " [ -3.72381234e-01  -3.73995019e-02]\n",
      " [ -2.16430414e-01   2.38613653e-02]\n",
      " [ -6.65550838e-01  -1.58057503e-01]\n",
      " [ -3.57659329e-01  -7.18416082e-02]\n",
      " [  1.60844315e-01   2.68748389e-01]\n",
      " [ -5.17683766e-01  -1.63789767e-01]\n",
      " [  2.12680393e-01  -1.10580519e-01]\n",
      " [ -5.66793577e-01  -1.23365988e-01]\n",
      " [ -2.07590635e-01  -4.03923198e-02]\n",
      " [ -2.32803727e-01   1.76024847e-02]\n",
      " [ -2.27629557e-01  -1.27637027e-02]\n",
      " [  1.03441596e-01   1.48470183e-01]\n",
      " [ -2.62472157e-01  -1.05282154e-01]\n",
      " [ -2.82995072e-01   1.69759381e-03]\n",
      " [ -4.83755732e-01  -1.30354601e-01]\n",
      " [ -4.54257564e-01  -6.05603655e-02]\n",
      " [ -4.35778493e-01  -5.60970704e-02]\n",
      " [ -4.17648277e-01  -1.12572381e-01]\n",
      " [ -5.90392556e-01  -1.15486546e-01]\n",
      " [  1.22104589e-01   1.72516180e-01]\n",
      " [  1.25494599e-01   1.38306169e-01]\n",
      " [  2.97032591e-01  -2.47557062e-01]\n",
      " [  2.86891022e-01  -2.64954863e-01]\n",
      " [  2.77953809e-01  -3.16394221e-01]\n",
      " [ -4.14176955e-01  -4.94349692e-02]\n",
      " [ -1.03798522e+00  -3.28391470e-01]\n",
      " [  1.57896153e-01   2.68418407e-01]\n",
      " [  7.87160598e-02   9.29550591e-02]\n",
      " [  4.20289560e-01  -7.01533111e-01]\n",
      " [ -6.73301249e-01  -1.35593801e-01]\n",
      " [ -1.78775960e-01  -1.51007027e-02]\n",
      " [  3.57098202e-01  -4.39245033e-01]\n",
      " [ -6.67274570e-01  -2.01093630e-01]\n",
      " [  4.25681282e-01  -6.07986171e-01]\n",
      " [  6.61584851e-02   9.99760903e-02]\n",
      " [ -7.41481118e-01  -1.82286972e-01]\n",
      " [  3.64038980e-01  -6.62909718e-01]\n",
      " [  3.77584075e-01  -4.55219815e-01]\n",
      " [  4.34179265e-01  -8.28678097e-01]\n",
      " [ -6.94261047e-01  -1.47177990e-01]\n",
      " [  2.85402209e-01  -4.31813746e-01]\n",
      " [  1.17913458e-01   1.48383097e-01]\n",
      " [ -7.44827198e-03   1.04705124e-01]\n",
      " [  1.21373135e-01   1.52313990e-01]\n",
      " [  1.37858894e-01   5.19276336e-02]\n",
      " [  6.44488193e-02   1.29080252e-01]\n",
      " [  8.04643335e-02   1.02011435e-01]\n",
      " [  1.36104471e-01   1.47019055e-01]\n",
      " [  1.16823600e-01   1.47536337e-01]\n",
      " [  3.36775693e-01  -5.46536314e-01]\n",
      " [  1.20369931e-01   1.56791960e-01]\n",
      " [  1.18920188e-01   1.50423784e-01]\n",
      " [  4.22348645e-02   1.24389523e-01]\n",
      " [  6.82436734e-02   9.90779172e-02]\n",
      " [  5.16531299e-01  -8.02515112e-01]\n",
      " [ -7.48069174e-01  -2.65246192e-01]\n",
      " [ -4.17670151e-01  -1.17670033e-01]\n",
      " [  3.99494275e-01  -7.72290728e-01]\n",
      " [  2.53742141e-01  -5.25182666e-01]]\n"
     ]
    }
   ],
   "source": [
    "print pca_data"
   ]
  },
  {
   "cell_type": "code",
   "execution_count": 359,
   "metadata": {
    "collapsed": false
   },
   "outputs": [
    {
     "data": {
      "text/plain": [
       "<matplotlib.text.Text at 0x1107fe50>"
      ]
     },
     "execution_count": 359,
     "metadata": {},
     "output_type": "execute_result"
    },
    {
     "data": {
      "image/png": "[encoded data removed]",
      "text/plain": [
       "<matplotlib.figure.Figure at 0x2a4100f0>"
      ]
     },
     "metadata": {},
     "output_type": "display_data"
    }
   ],
   "source": [
    "fig, axes = plt.subplots(ncols=1, nrows=1,figsize=(10,5))\n",
    "axes.scatter(pca_data[:,0], pca_data[:,1], c=['rgbyc'[i] for i in k_data ], s=200)\n",
    "axes.set_title('pca plot')"
   ]
  },
  {
   "cell_type": "code",
   "execution_count": 378,
   "metadata": {
    "collapsed": false
   },
   "outputs": [],
   "source": [
    "corpus_dic = {}\n",
    "for idx, grp in enumerate(k_data):\n",
    "    if grp == 3:\n",
    "        for w in corpus[idx].split():\n",
    "            if w not in corpus_dic:\n",
    "                corpus_dic[w] = 1\n",
    "            else: \n",
    "                corpus_dic[w] = corpus_dic[w] + 1"
   ]
  },
  {
   "cell_type": "code",
   "execution_count": 379,
   "metadata": {
    "collapsed": true
   },
   "outputs": [],
   "source": [
    "import operator\n",
    "sorted_terms = sorted(corpus_dic.iteritems(),key=operator.itemgetter(1),reverse=True) "
   ]
  },
  {
   "cell_type": "code",
   "execution_count": 380,
   "metadata": {
    "collapsed": false
   },
   "outputs": [
    {
     "name": "stdout",
     "output_type": "stream",
     "text": [
      "27 10\n",
      "現場 7\n",
      "樂園 7\n",
      "div 6\n",
      "爆炸案 6\n",
      "美國 5\n",
      "28 5\n",
      "10 5\n",
      "大陸 5\n",
      "醫院 4\n",
      "他們 4\n",
      "還有 4\n",
      "出現 4\n",
      "國家 4\n",
      "抗戰 4\n",
      "進行 4\n",
      "粉塵 4\n",
      "台灣 4\n",
      "閃燃 3\n",
      "ad 3\n"
     ]
    }
   ],
   "source": [
    "for ele in sorted_terms[0:20]:\n",
    "    print ele[0], ele[1]"
   ]
  },
  {
   "cell_type": "code",
   "execution_count": null,
   "metadata": {
    "collapsed": true
   },
   "outputs": [],
   "source": []
  }
 ],
 "metadata": {
  "kernelspec": {
   "display_name": "Python 2",
   "language": "python",
   "name": "python2"
  },
  "language_info": {
   "codemirror_mode": {
    "name": "ipython",
    "version": 2
   },
   "file_extension": ".py",
   "mimetype": "text/x-python",
   "name": "python",
   "nbconvert_exporter": "python",
   "pygments_lexer": "ipython2",
   "version": "2.7.10"
  }
 },
 "nbformat": 4,
 "nbformat_minor": 0
}
